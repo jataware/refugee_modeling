{
 "cells": [
  {
   "cell_type": "markdown",
   "id": "4eaab47b",
   "metadata": {},
   "source": [
    "# Country Level Attraction Model\n",
    "\n",
    "This notebook is used to generate a country level attraction model that can be used to assess the relative \"attractiveness\" of safe haven countries to refugees in the case of a forced migration event such as conflict or natural disaster.\n",
    "\n",
    "After testing various functional forms and features, the model ultimately looks like:\n",
    "\n",
    "```\n",
    "total_refugees = b1*GDP + b2*liberal_democracy\n",
    "```\n",
    "\n",
    "where `b1` is a coefficient term for GDP and `b2` that of liberal democracy score."
   ]
  },
  {
   "cell_type": "code",
   "execution_count": 1,
   "id": "1b6208b5",
   "metadata": {},
   "outputs": [],
   "source": [
    "import pandas as pd\n",
    "import numpy as np\n",
    "from sklearn import datasets, linear_model\n",
    "from sklearn.metrics import mean_squared_error, r2_score\n",
    "from sklearn.linear_model import LinearRegression\n",
    "from sklearn.preprocessing import MinMaxScaler\n",
    "from fuzzywuzzy import process\n",
    "import statsmodels.api as sm"
   ]
  },
  {
   "cell_type": "markdown",
   "id": "d52f1e01",
   "metadata": {},
   "source": [
    "## Data Preparation"
   ]
  },
  {
   "cell_type": "markdown",
   "id": "a56f7cfb",
   "metadata": {},
   "source": [
    "First we load the refugee dataset which was curated from UNHCR and other sources. We can exclude data on Russia for the time being since it isn't considered as a haven country:"
   ]
  },
  {
   "cell_type": "code",
   "execution_count": 2,
   "id": "94c92d85",
   "metadata": {
    "scrolled": false
   },
   "outputs": [
    {
     "name": "stdout",
     "output_type": "stream",
     "text": [
      "This dataset contains refugee data on the following conflicts:\n",
      "\t - Afghanistan\n",
      "\t - Burundi\n",
      "\t - Central African Republic\n",
      "\t - Democratic Republic of the Congo\n",
      "\t - Somalia\n",
      "\t - South Sudan\n",
      "\t - Syria\n",
      "\t - Ukraine\n",
      "\t - Venezuela\n",
      "\t - Nigeria\n"
     ]
    }
   ],
   "source": [
    "data=pd.read_csv('refugee_data/refugee_data_final.csv')\n",
    "data = data[data['country']!='Russian Federation']\n",
    "\n",
    "conflicts = '\\n\\t - '.join(data.conflict.unique())\n",
    "print(f\"This dataset contains refugee data on the following conflicts:\\n\\t - {conflicts}\")"
   ]
  },
  {
   "cell_type": "markdown",
   "id": "cc803896",
   "metadata": {},
   "source": [
    "This dataset includes the `country` where refugees went `individualPerCountry` which contains the total refugees who went to `country` from the `conflict`. It also has a number of features we can try to use to model drivers of refugee migration:"
   ]
  },
  {
   "cell_type": "code",
   "execution_count": 3,
   "id": "85100f06",
   "metadata": {},
   "outputs": [
    {
     "data": {
      "text/html": [
       "<div>\n",
       "<style scoped>\n",
       "    .dataframe tbody tr th:only-of-type {\n",
       "        vertical-align: middle;\n",
       "    }\n",
       "\n",
       "    .dataframe tbody tr th {\n",
       "        vertical-align: top;\n",
       "    }\n",
       "\n",
       "    .dataframe thead th {\n",
       "        text-align: right;\n",
       "    }\n",
       "</style>\n",
       "<table border=\"1\" class=\"dataframe\">\n",
       "  <thead>\n",
       "    <tr style=\"text-align: right;\">\n",
       "      <th></th>\n",
       "      <th>country</th>\n",
       "      <th>conflict</th>\n",
       "      <th>individualPerCountry</th>\n",
       "      <th>conflict_start_year</th>\n",
       "      <th>export_trade_share</th>\n",
       "      <th>migrant_ratio</th>\n",
       "      <th>same_language</th>\n",
       "      <th>touching</th>\n",
       "      <th>Total_pop_left_conflict_zone</th>\n",
       "      <th>population</th>\n",
       "      <th>...</th>\n",
       "      <th>Afghanistan</th>\n",
       "      <th>Burundi</th>\n",
       "      <th>Central African Republic</th>\n",
       "      <th>Democratic Republic of the Congo</th>\n",
       "      <th>Nigeria</th>\n",
       "      <th>Somalia</th>\n",
       "      <th>South Sudan</th>\n",
       "      <th>Syria</th>\n",
       "      <th>Ukraine</th>\n",
       "      <th>Venezuela</th>\n",
       "    </tr>\n",
       "  </thead>\n",
       "  <tbody>\n",
       "    <tr>\n",
       "      <th>0</th>\n",
       "      <td>Iran</td>\n",
       "      <td>Afghanistan</td>\n",
       "      <td>780000</td>\n",
       "      <td>2001</td>\n",
       "      <td>1.73</td>\n",
       "      <td>3.2</td>\n",
       "      <td>0</td>\n",
       "      <td>1</td>\n",
       "      <td>2238800</td>\n",
       "      <td>83183741</td>\n",
       "      <td>...</td>\n",
       "      <td>1</td>\n",
       "      <td>0</td>\n",
       "      <td>0</td>\n",
       "      <td>0</td>\n",
       "      <td>0</td>\n",
       "      <td>0</td>\n",
       "      <td>0</td>\n",
       "      <td>0</td>\n",
       "      <td>0</td>\n",
       "      <td>0</td>\n",
       "    </tr>\n",
       "    <tr>\n",
       "      <th>1</th>\n",
       "      <td>Pakistan</td>\n",
       "      <td>Afghanistan</td>\n",
       "      <td>1448100</td>\n",
       "      <td>2001</td>\n",
       "      <td>34.31</td>\n",
       "      <td>1.5</td>\n",
       "      <td>0</td>\n",
       "      <td>1</td>\n",
       "      <td>2238800</td>\n",
       "      <td>226992332</td>\n",
       "      <td>...</td>\n",
       "      <td>1</td>\n",
       "      <td>0</td>\n",
       "      <td>0</td>\n",
       "      <td>0</td>\n",
       "      <td>0</td>\n",
       "      <td>0</td>\n",
       "      <td>0</td>\n",
       "      <td>0</td>\n",
       "      <td>0</td>\n",
       "      <td>0</td>\n",
       "    </tr>\n",
       "    <tr>\n",
       "      <th>2</th>\n",
       "      <td>Tajikistan</td>\n",
       "      <td>Afghanistan</td>\n",
       "      <td>10700</td>\n",
       "      <td>2001</td>\n",
       "      <td>0.58</td>\n",
       "      <td>2.9</td>\n",
       "      <td>0</td>\n",
       "      <td>1</td>\n",
       "      <td>2238800</td>\n",
       "      <td>9537645</td>\n",
       "      <td>...</td>\n",
       "      <td>1</td>\n",
       "      <td>0</td>\n",
       "      <td>0</td>\n",
       "      <td>0</td>\n",
       "      <td>0</td>\n",
       "      <td>0</td>\n",
       "      <td>0</td>\n",
       "      <td>0</td>\n",
       "      <td>0</td>\n",
       "      <td>0</td>\n",
       "    </tr>\n",
       "    <tr>\n",
       "      <th>3</th>\n",
       "      <td>Uzbekistan</td>\n",
       "      <td>Afghanistan</td>\n",
       "      <td>50</td>\n",
       "      <td>2001</td>\n",
       "      <td>0.24</td>\n",
       "      <td>3.5</td>\n",
       "      <td>0</td>\n",
       "      <td>1</td>\n",
       "      <td>2238800</td>\n",
       "      <td>35300000</td>\n",
       "      <td>...</td>\n",
       "      <td>1</td>\n",
       "      <td>0</td>\n",
       "      <td>0</td>\n",
       "      <td>0</td>\n",
       "      <td>0</td>\n",
       "      <td>0</td>\n",
       "      <td>0</td>\n",
       "      <td>0</td>\n",
       "      <td>0</td>\n",
       "      <td>0</td>\n",
       "    </tr>\n",
       "    <tr>\n",
       "      <th>4</th>\n",
       "      <td>Turkmenistan</td>\n",
       "      <td>Afghanistan</td>\n",
       "      <td>50</td>\n",
       "      <td>2001</td>\n",
       "      <td>0.11</td>\n",
       "      <td>3.3</td>\n",
       "      <td>0</td>\n",
       "      <td>1</td>\n",
       "      <td>2238800</td>\n",
       "      <td>6031187</td>\n",
       "      <td>...</td>\n",
       "      <td>1</td>\n",
       "      <td>0</td>\n",
       "      <td>0</td>\n",
       "      <td>0</td>\n",
       "      <td>0</td>\n",
       "      <td>0</td>\n",
       "      <td>0</td>\n",
       "      <td>0</td>\n",
       "      <td>0</td>\n",
       "      <td>0</td>\n",
       "    </tr>\n",
       "  </tbody>\n",
       "</table>\n",
       "<p>5 rows × 30 columns</p>\n",
       "</div>"
      ],
      "text/plain": [
       "        country     conflict  individualPerCountry  conflict_start_year  \\\n",
       "0          Iran  Afghanistan                780000                 2001   \n",
       "1      Pakistan  Afghanistan               1448100                 2001   \n",
       "2    Tajikistan  Afghanistan                 10700                 2001   \n",
       "3    Uzbekistan  Afghanistan                    50                 2001   \n",
       "4  Turkmenistan  Afghanistan                    50                 2001   \n",
       "\n",
       "   export_trade_share  migrant_ratio  same_language  touching  \\\n",
       "0                1.73            3.2              0         1   \n",
       "1               34.31            1.5              0         1   \n",
       "2                0.58            2.9              0         1   \n",
       "3                0.24            3.5              0         1   \n",
       "4                0.11            3.3              0         1   \n",
       "\n",
       "   Total_pop_left_conflict_zone  population  ...  Afghanistan  Burundi  \\\n",
       "0                       2238800    83183741  ...            1        0   \n",
       "1                       2238800   226992332  ...            1        0   \n",
       "2                       2238800     9537645  ...            1        0   \n",
       "3                       2238800    35300000  ...            1        0   \n",
       "4                       2238800     6031187  ...            1        0   \n",
       "\n",
       "   Central African Republic  Democratic Republic of the Congo  Nigeria  \\\n",
       "0                         0                                 0        0   \n",
       "1                         0                                 0        0   \n",
       "2                         0                                 0        0   \n",
       "3                         0                                 0        0   \n",
       "4                         0                                 0        0   \n",
       "\n",
       "   Somalia  South Sudan  Syria  Ukraine  Venezuela  \n",
       "0        0            0      0        0          0  \n",
       "1        0            0      0        0          0  \n",
       "2        0            0      0        0          0  \n",
       "3        0            0      0        0          0  \n",
       "4        0            0      0        0          0  \n",
       "\n",
       "[5 rows x 30 columns]"
      ]
     },
     "execution_count": 3,
     "metadata": {},
     "output_type": "execute_result"
    }
   ],
   "source": [
    "data.head()"
   ]
  },
  {
   "cell_type": "markdown",
   "id": "10005d78",
   "metadata": {},
   "source": [
    "Next, we load in and process the liberal democracy index and access to justic for women from [V-Dem](https://www.v-dem.net/).\n",
    "\n",
    "A key step is looking up V-Dem values for each country during the year **_preceding_** the conflict since this will best represent the initial conditions under which refugees made decisions."
   ]
  },
  {
   "cell_type": "code",
   "execution_count": 4,
   "id": "338fdbc2",
   "metadata": {},
   "outputs": [
    {
     "data": {
      "text/html": [
       "<div>\n",
       "<style scoped>\n",
       "    .dataframe tbody tr th:only-of-type {\n",
       "        vertical-align: middle;\n",
       "    }\n",
       "\n",
       "    .dataframe tbody tr th {\n",
       "        vertical-align: top;\n",
       "    }\n",
       "\n",
       "    .dataframe thead th {\n",
       "        text-align: right;\n",
       "    }\n",
       "</style>\n",
       "<table border=\"1\" class=\"dataframe\">\n",
       "  <thead>\n",
       "    <tr style=\"text-align: right;\">\n",
       "      <th></th>\n",
       "      <th>v2xeg_eqdr</th>\n",
       "      <th>v2x_libdem</th>\n",
       "      <th>country</th>\n",
       "      <th>conflict_start_year</th>\n",
       "    </tr>\n",
       "  </thead>\n",
       "  <tbody>\n",
       "    <tr>\n",
       "      <th>58</th>\n",
       "      <td>0.697</td>\n",
       "      <td>0.563</td>\n",
       "      <td>Panama</td>\n",
       "      <td>2014</td>\n",
       "    </tr>\n",
       "    <tr>\n",
       "      <th>59</th>\n",
       "      <td>0.382</td>\n",
       "      <td>0.673</td>\n",
       "      <td>Peru</td>\n",
       "      <td>2014</td>\n",
       "    </tr>\n",
       "    <tr>\n",
       "      <th>60</th>\n",
       "      <td>0.295</td>\n",
       "      <td>0.504</td>\n",
       "      <td>Niger</td>\n",
       "      <td>2014</td>\n",
       "    </tr>\n",
       "    <tr>\n",
       "      <th>61</th>\n",
       "      <td>0.406</td>\n",
       "      <td>0.158</td>\n",
       "      <td>Cameroon</td>\n",
       "      <td>2014</td>\n",
       "    </tr>\n",
       "    <tr>\n",
       "      <th>62</th>\n",
       "      <td>0.228</td>\n",
       "      <td>0.097</td>\n",
       "      <td>Chad</td>\n",
       "      <td>2014</td>\n",
       "    </tr>\n",
       "  </tbody>\n",
       "</table>\n",
       "</div>"
      ],
      "text/plain": [
       "    v2xeg_eqdr  v2x_libdem   country  conflict_start_year\n",
       "58       0.697       0.563    Panama                 2014\n",
       "59       0.382       0.673      Peru                 2014\n",
       "60       0.295       0.504     Niger                 2014\n",
       "61       0.406       0.158  Cameroon                 2014\n",
       "62       0.228       0.097      Chad                 2014"
      ]
     },
     "execution_count": 4,
     "metadata": {},
     "output_type": "execute_result"
    }
   ],
   "source": [
    "def get_vdem(row):\n",
    "    \"\"\"\n",
    "    For a given row in `data`, find the matching country from V-Dem and get the 2 relevant features\n",
    "    time lagged by 1 year.\n",
    "    \"\"\"\n",
    "    \n",
    "    # find the relevant country in V-Dem using a fuzzy match\n",
    "    country = process.extractOne(row.country, country_dem.country_name.unique())[0]\n",
    "    \n",
    "    # find the relevant liberal democracy index\n",
    "    vdem_match = country_dem.loc[(country_dem[\"country_name\"]==country) & \\\n",
    "                                 (country_dem[\"year\"]==int(row['conflict_start_year']-1))]\n",
    "    \n",
    "    # set data's features to the found matches\n",
    "    row['v2x_libdem'] = vdem_match['v2x_libdem'].iloc[0]\n",
    "    row['v2xeg_eqdr'] = vdem_match['v2xeg_eqdr'].iloc[0]\n",
    "    return row\n",
    "\n",
    "country_dem=pd.read_csv('refugee_data/country_dem.csv')\n",
    "data = data.apply(lambda row: get_vdem(row), axis=1)\n",
    "data[['v2xeg_eqdr',\"v2x_libdem\",'country',\"conflict_start_year\"]].tail()"
   ]
  },
  {
   "cell_type": "markdown",
   "id": "a3272eef",
   "metadata": {},
   "source": [
    "Next, we read in historic GDP and get values for haven countries with a similar `t-1` year lag as with V-Dem indices."
   ]
  },
  {
   "cell_type": "code",
   "execution_count": 5,
   "id": "0f17d5bd",
   "metadata": {},
   "outputs": [
    {
     "data": {
      "text/html": [
       "<div>\n",
       "<style scoped>\n",
       "    .dataframe tbody tr th:only-of-type {\n",
       "        vertical-align: middle;\n",
       "    }\n",
       "\n",
       "    .dataframe tbody tr th {\n",
       "        vertical-align: top;\n",
       "    }\n",
       "\n",
       "    .dataframe thead th {\n",
       "        text-align: right;\n",
       "    }\n",
       "</style>\n",
       "<table border=\"1\" class=\"dataframe\">\n",
       "  <thead>\n",
       "    <tr style=\"text-align: right;\">\n",
       "      <th></th>\n",
       "      <th>historic_GDP</th>\n",
       "      <th>country</th>\n",
       "      <th>conflict_start_year</th>\n",
       "    </tr>\n",
       "  </thead>\n",
       "  <tbody>\n",
       "    <tr>\n",
       "      <th>58</th>\n",
       "      <td>4.559999e+10</td>\n",
       "      <td>Panama</td>\n",
       "      <td>2014</td>\n",
       "    </tr>\n",
       "    <tr>\n",
       "      <th>59</th>\n",
       "      <td>2.011755e+11</td>\n",
       "      <td>Peru</td>\n",
       "      <td>2014</td>\n",
       "    </tr>\n",
       "    <tr>\n",
       "      <th>60</th>\n",
       "      <td>1.022490e+10</td>\n",
       "      <td>Niger</td>\n",
       "      <td>2014</td>\n",
       "    </tr>\n",
       "    <tr>\n",
       "      <th>61</th>\n",
       "      <td>3.372862e+10</td>\n",
       "      <td>Cameroon</td>\n",
       "      <td>2014</td>\n",
       "    </tr>\n",
       "    <tr>\n",
       "      <th>62</th>\n",
       "      <td>1.295354e+10</td>\n",
       "      <td>Chad</td>\n",
       "      <td>2014</td>\n",
       "    </tr>\n",
       "  </tbody>\n",
       "</table>\n",
       "</div>"
      ],
      "text/plain": [
       "    historic_GDP   country  conflict_start_year\n",
       "58  4.559999e+10    Panama                 2014\n",
       "59  2.011755e+11      Peru                 2014\n",
       "60  1.022490e+10     Niger                 2014\n",
       "61  3.372862e+10  Cameroon                 2014\n",
       "62  1.295354e+10      Chad                 2014"
      ]
     },
     "execution_count": 5,
     "metadata": {},
     "output_type": "execute_result"
    }
   ],
   "source": [
    "def get_gdp(row):\n",
    "    \"\"\"\n",
    "    For a given row in `data`, find the matching country from the historic GDP data and return it,\n",
    "    time lagged by 1 year from the conflict year.\n",
    "    \"\"\"\n",
    "    \n",
    "    # fuzzy match the `data` country to the country name in the GDP dataset\n",
    "    country = process.extractOne(row.country, historic_GDP[\"Country Name\"].unique())[0]\n",
    "    year = row.conflict_start_year - 1\n",
    "    \n",
    "    # if year is out of bounds (greater than 2020) just use 2020\n",
    "    if year > 2020:\n",
    "        year = 2020\n",
    "    \n",
    "    # Get GDP for the conflict year - 1\n",
    "    gdp = historic_GDP[historic_GDP['Country Name']==country][str(year)].iloc[0]\n",
    "    row['historic_GDP'] = gdp\n",
    "    return row\n",
    "\n",
    "historic_GDP=pd.read_csv('refugee_data/GDP_historic.csv')\n",
    "data = data.apply(lambda row: get_gdp(row), axis=1)\n",
    "data[['historic_GDP','country',\"conflict_start_year\"]].tail()"
   ]
  },
  {
   "cell_type": "markdown",
   "id": "56967d6b",
   "metadata": {},
   "source": [
    "## Featurization and Normalization\n",
    "\n",
    "Next we calculate various features that will be relevant to our model training. These include:\n",
    "\n",
    "- `pct_tot`: total percentage of people from `conflict A` who went to `country Z`\n",
    "- `bilateral_migration_percap`: the amount of bilateral migration (from `conflict A` to `country Z`) per capita (with respect to `country Z` population)\n",
    "- `gpd_per_cap`: per capita GDP for `country Z`\n",
    "- `migrants_per_cap`: total migrants per capita for `country Z`\n",
    "\n",
    "We then scale these using a [`MinMaxScaler`](https://scikit-learn.org/stable/modules/generated/sklearn.preprocessing.MinMaxScaler.html) which normalizes them to between 0 and 1 on a **_per conflict basis_**. "
   ]
  },
  {
   "cell_type": "code",
   "execution_count": 6,
   "id": "691fabb2",
   "metadata": {},
   "outputs": [],
   "source": [
    "data['pct_tot'] = data['individualPerCountry'] / data.groupby('conflict')['individualPerCountry'].transform('sum')\n",
    "data['bilateral_migration_percap'] = data['bilateral_migration']/data['population']\n",
    "data['gdp_per_cap'] = data['gdp_millions']*1000000/data['population']\n",
    "data['migrants_per_cap'] = data['total_recored_migrants']/data['population']"
   ]
  },
  {
   "cell_type": "markdown",
   "id": "5afffa72",
   "metadata": {},
   "source": [
    "Normalizing within each conflict is crucial since it facilitates comparision of haven countries for a given conflict and reduces the model's tendency to compare grossly across all conflicts.\n",
    "\n",
    "For example, imagine two conflicts: one in Western Europe and one in Latin America. The potential haven countries in Western Europe will _all be wealthier_ than those in Latin America (generally speaking). Therefore, normalizing _across_ these conflicts would lead to very low normalized GDPs for all Latin American havens and reduce the model's explanatory power.\n",
    "\n",
    "Instead, we perform `0 to 1` normalization for all possible haven countries with respect to each conflict so that Latin American countries (in this example) are only normalized relative to their neighbors."
   ]
  },
  {
   "cell_type": "code",
   "execution_count": 7,
   "id": "05099a1f",
   "metadata": {
    "scrolled": true
   },
   "outputs": [
    {
     "name": "stdout",
     "output_type": "stream",
     "text": [
      "Normalizing column: bilateral_migration\n",
      "Normalizing column: historic_GDP\n",
      "Normalizing column: gdp_millions\n",
      "Normalizing column: population\n",
      "Normalizing column: remittances\n"
     ]
    }
   ],
   "source": [
    "cols_to_scale = ['bilateral_migration','historic_GDP','gdp_millions','population', 'remittances']\n",
    "scaler = MinMaxScaler()\n",
    "for col in cols_to_scale:\n",
    "    print(f\"Normalizing column: {col}\")\n",
    "    normed = pd.DataFrame()\n",
    "    \n",
    "    for y, x in data.groupby('conflict'):\n",
    "        norm_ = [i[0] for i in scaler.fit_transform(x[col].values.reshape(-1,1))]\n",
    "        countries = x['country']\n",
    "        conflict_ = x['conflict']\n",
    "        res = pd.DataFrame(tuple(zip(countries,conflict_,norm_)), columns=['country','conflict',f\"{col}_norm\"])\n",
    "        normed = normed.append(res)\n",
    "    data = pd.merge(data, normed, left_on=['country','conflict'], right_on=['country','conflict'], how='right')"
   ]
  },
  {
   "cell_type": "markdown",
   "id": "bcbe1320",
   "metadata": {},
   "source": [
    "## Preparing for modeling\n",
    "\n",
    "Next, we remove the Ukraine conflict and its corresponding countries from the dataset so that we can exclude them from model training.\n",
    "\n",
    "First we create a dataframe of just Ukraine conflict:"
   ]
  },
  {
   "cell_type": "code",
   "execution_count": 8,
   "id": "568ea6fe",
   "metadata": {},
   "outputs": [],
   "source": [
    "ukr = data[data.conflict=='Ukraine'].copy(deep=True)"
   ]
  },
  {
   "cell_type": "markdown",
   "id": "30f690c8",
   "metadata": {},
   "source": [
    "Next, we create a dataframe without Ukraine to train the model:"
   ]
  },
  {
   "cell_type": "code",
   "execution_count": 9,
   "id": "c0fe40e4",
   "metadata": {},
   "outputs": [],
   "source": [
    "withoutUkrainData=data[(data[\"Ukraine\"]!=1) & (data['touching']==1)]"
   ]
  },
  {
   "cell_type": "markdown",
   "id": "89047f1f",
   "metadata": {},
   "source": [
    "We define the dependant variable as `pct_tot`: the total percentage of refugees from the conflict who went to each country. This provides a mechanism of normalizing refugee counts _across_ conflicts since really we only care about predicting refugee _shares_, not total number of refugees at this point:"
   ]
  },
  {
   "cell_type": "code",
   "execution_count": 10,
   "id": "353f1af8",
   "metadata": {
    "scrolled": false
   },
   "outputs": [],
   "source": [
    "y=withoutUkrainData['pct_tot']"
   ]
  },
  {
   "cell_type": "markdown",
   "id": "bd181f0d",
   "metadata": {},
   "source": [
    "Here, we are able to set independant variables for modeling. We choose only `historic_GDP_norm` (within conflict normalized GDP) and `v2x_libdem` (which is not normalized since it is already an index).\n",
    "\n",
    "Other features were tested; they can simply be added to the array below to try additional features with the model."
   ]
  },
  {
   "cell_type": "code",
   "execution_count": 11,
   "id": "975bc6d5",
   "metadata": {
    "scrolled": false
   },
   "outputs": [],
   "source": [
    "features_cols = [\n",
    "                    'historic_GDP_norm', \n",
    "                    'v2x_libdem',\n",
    "                ]\n",
    "features_normalized = withoutUkrainData[features_cols]"
   ]
  },
  {
   "cell_type": "markdown",
   "id": "b0a38b59",
   "metadata": {},
   "source": [
    "## Modeling\n",
    "\n",
    "Finally, we are able to run the model itself. We run a multiple regression using Statsmodels:"
   ]
  },
  {
   "cell_type": "code",
   "execution_count": 12,
   "id": "5d7e76ed",
   "metadata": {
    "scrolled": false
   },
   "outputs": [
    {
     "data": {
      "text/html": [
       "<table class=\"simpletable\">\n",
       "<caption>OLS Regression Results</caption>\n",
       "<tr>\n",
       "  <th>Dep. Variable:</th>         <td>pct_tot</td>     <th>  R-squared (uncentered):</th>      <td>   0.600</td>\n",
       "</tr>\n",
       "<tr>\n",
       "  <th>Model:</th>                   <td>OLS</td>       <th>  Adj. R-squared (uncentered):</th> <td>   0.579</td>\n",
       "</tr>\n",
       "<tr>\n",
       "  <th>Method:</th>             <td>Least Squares</td>  <th>  F-statistic:       </th>          <td>   28.49</td>\n",
       "</tr>\n",
       "<tr>\n",
       "  <th>Date:</th>             <td>Thu, 05 May 2022</td> <th>  Prob (F-statistic):</th>          <td>2.76e-08</td>\n",
       "</tr>\n",
       "<tr>\n",
       "  <th>Time:</th>                 <td>14:14:09</td>     <th>  Log-Likelihood:    </th>          <td>  12.594</td>\n",
       "</tr>\n",
       "<tr>\n",
       "  <th>No. Observations:</th>      <td>    40</td>      <th>  AIC:               </th>          <td>  -21.19</td>\n",
       "</tr>\n",
       "<tr>\n",
       "  <th>Df Residuals:</th>          <td>    38</td>      <th>  BIC:               </th>          <td>  -17.81</td>\n",
       "</tr>\n",
       "<tr>\n",
       "  <th>Df Model:</th>              <td>     2</td>      <th>                     </th>              <td> </td>   \n",
       "</tr>\n",
       "<tr>\n",
       "  <th>Covariance Type:</th>      <td>nonrobust</td>    <th>                     </th>              <td> </td>   \n",
       "</tr>\n",
       "</table>\n",
       "<table class=\"simpletable\">\n",
       "<tr>\n",
       "          <td></td>             <th>coef</th>     <th>std err</th>      <th>t</th>      <th>P>|t|</th>  <th>[0.025</th>    <th>0.975]</th>  \n",
       "</tr>\n",
       "<tr>\n",
       "  <th>historic_GDP_norm</th> <td>    0.2659</td> <td>    0.071</td> <td>    3.752</td> <td> 0.001</td> <td>    0.122</td> <td>    0.409</td>\n",
       "</tr>\n",
       "<tr>\n",
       "  <th>v2x_libdem</th>        <td>    0.3802</td> <td>    0.138</td> <td>    2.758</td> <td> 0.009</td> <td>    0.101</td> <td>    0.659</td>\n",
       "</tr>\n",
       "</table>\n",
       "<table class=\"simpletable\">\n",
       "<tr>\n",
       "  <th>Omnibus:</th>       <td> 4.371</td> <th>  Durbin-Watson:     </th> <td>   2.276</td>\n",
       "</tr>\n",
       "<tr>\n",
       "  <th>Prob(Omnibus):</th> <td> 0.112</td> <th>  Jarque-Bera (JB):  </th> <td>   3.539</td>\n",
       "</tr>\n",
       "<tr>\n",
       "  <th>Skew:</th>          <td>-0.359</td> <th>  Prob(JB):          </th> <td>   0.170</td>\n",
       "</tr>\n",
       "<tr>\n",
       "  <th>Kurtosis:</th>      <td> 4.268</td> <th>  Cond. No.          </th> <td>    2.80</td>\n",
       "</tr>\n",
       "</table><br/><br/>Notes:<br/>[1] R² is computed without centering (uncentered) since the model does not contain a constant.<br/>[2] Standard Errors assume that the covariance matrix of the errors is correctly specified."
      ],
      "text/plain": [
       "<class 'statsmodels.iolib.summary.Summary'>\n",
       "\"\"\"\n",
       "                                 OLS Regression Results                                \n",
       "=======================================================================================\n",
       "Dep. Variable:                pct_tot   R-squared (uncentered):                   0.600\n",
       "Model:                            OLS   Adj. R-squared (uncentered):              0.579\n",
       "Method:                 Least Squares   F-statistic:                              28.49\n",
       "Date:                Thu, 05 May 2022   Prob (F-statistic):                    2.76e-08\n",
       "Time:                        14:14:09   Log-Likelihood:                          12.594\n",
       "No. Observations:                  40   AIC:                                     -21.19\n",
       "Df Residuals:                      38   BIC:                                     -17.81\n",
       "Df Model:                           2                                                  \n",
       "Covariance Type:            nonrobust                                                  \n",
       "=====================================================================================\n",
       "                        coef    std err          t      P>|t|      [0.025      0.975]\n",
       "-------------------------------------------------------------------------------------\n",
       "historic_GDP_norm     0.2659      0.071      3.752      0.001       0.122       0.409\n",
       "v2x_libdem            0.3802      0.138      2.758      0.009       0.101       0.659\n",
       "==============================================================================\n",
       "Omnibus:                        4.371   Durbin-Watson:                   2.276\n",
       "Prob(Omnibus):                  0.112   Jarque-Bera (JB):                3.539\n",
       "Skew:                          -0.359   Prob(JB):                        0.170\n",
       "Kurtosis:                       4.268   Cond. No.                         2.80\n",
       "==============================================================================\n",
       "\n",
       "Notes:\n",
       "[1] R² is computed without centering (uncentered) since the model does not contain a constant.\n",
       "[2] Standard Errors assume that the covariance matrix of the errors is correctly specified.\n",
       "\"\"\""
      ]
     },
     "execution_count": 12,
     "metadata": {},
     "output_type": "execute_result"
    }
   ],
   "source": [
    "results=sm.OLS(y,features_normalized.astype(float)).fit()\n",
    "results.summary()"
   ]
  },
  {
   "cell_type": "markdown",
   "id": "7d58a13a",
   "metadata": {},
   "source": [
    "Here we can see that our two features are statistically significant and explain a large portion of the variation within the dependent variable (refugee share)."
   ]
  },
  {
   "cell_type": "markdown",
   "id": "085a9f6e",
   "metadata": {},
   "source": [
    "## Backcasting Ukraine\n",
    "\n",
    "Now we are ready to produce a forecast for Ukraine."
   ]
  },
  {
   "cell_type": "code",
   "execution_count": 13,
   "id": "7bded091",
   "metadata": {},
   "outputs": [
    {
     "data": {
      "text/html": [
       "<div>\n",
       "<style scoped>\n",
       "    .dataframe tbody tr th:only-of-type {\n",
       "        vertical-align: middle;\n",
       "    }\n",
       "\n",
       "    .dataframe tbody tr th {\n",
       "        vertical-align: top;\n",
       "    }\n",
       "\n",
       "    .dataframe thead th {\n",
       "        text-align: right;\n",
       "    }\n",
       "</style>\n",
       "<table border=\"1\" class=\"dataframe\">\n",
       "  <thead>\n",
       "    <tr style=\"text-align: right;\">\n",
       "      <th></th>\n",
       "      <th>country</th>\n",
       "      <th>pct_tot</th>\n",
       "      <th>predicted_shares</th>\n",
       "    </tr>\n",
       "  </thead>\n",
       "  <tbody>\n",
       "    <tr>\n",
       "      <th>46</th>\n",
       "      <td>Hungary</td>\n",
       "      <td>0.094222</td>\n",
       "      <td>0.203070</td>\n",
       "    </tr>\n",
       "    <tr>\n",
       "      <th>47</th>\n",
       "      <td>Moldova</td>\n",
       "      <td>0.093682</td>\n",
       "      <td>0.233816</td>\n",
       "    </tr>\n",
       "    <tr>\n",
       "      <th>48</th>\n",
       "      <td>Poland</td>\n",
       "      <td>0.586410</td>\n",
       "      <td>0.422941</td>\n",
       "    </tr>\n",
       "    <tr>\n",
       "      <th>49</th>\n",
       "      <td>Romania</td>\n",
       "      <td>0.154561</td>\n",
       "      <td>0.352537</td>\n",
       "    </tr>\n",
       "    <tr>\n",
       "      <th>50</th>\n",
       "      <td>Slovakia</td>\n",
       "      <td>0.071125</td>\n",
       "      <td>0.311319</td>\n",
       "    </tr>\n",
       "  </tbody>\n",
       "</table>\n",
       "</div>"
      ],
      "text/plain": [
       "     country   pct_tot  predicted_shares\n",
       "46   Hungary  0.094222          0.203070\n",
       "47   Moldova  0.093682          0.233816\n",
       "48    Poland  0.586410          0.422941\n",
       "49   Romania  0.154561          0.352537\n",
       "50  Slovakia  0.071125          0.311319"
      ]
     },
     "execution_count": 13,
     "metadata": {},
     "output_type": "execute_result"
    }
   ],
   "source": [
    "# get refugee shares prediction for Ukraine\n",
    "features_to_predict=ukr[features_cols]\n",
    "shares = results.predict(features_to_predict)\n",
    "\n",
    "# add them to Ukraine dataframe\n",
    "ukr['predicted_shares'] = shares\n",
    "ukr_results = ukr[['country','pct_tot','predicted_shares']]\n",
    "\n",
    "# save the results\n",
    "ukr_results.to_csv('outputs/ukraine_model_results.csv',index=False)\n",
    "ukr_results.head()"
   ]
  },
  {
   "cell_type": "markdown",
   "id": "a57153a2",
   "metadata": {},
   "source": [
    "Finally, we can pickle the model for future use:"
   ]
  },
  {
   "cell_type": "code",
   "execution_count": 14,
   "id": "d3dd3f11",
   "metadata": {},
   "outputs": [],
   "source": [
    "results.save(\"refugee_model_results2.pickle\")"
   ]
  }
 ],
 "metadata": {
  "kernelspec": {
   "display_name": "Python 3 (ipykernel)",
   "language": "python",
   "name": "python3"
  },
  "language_info": {
   "codemirror_mode": {
    "name": "ipython",
    "version": 3
   },
   "file_extension": ".py",
   "mimetype": "text/x-python",
   "name": "python",
   "nbconvert_exporter": "python",
   "pygments_lexer": "ipython3",
   "version": "3.9.7"
  }
 },
 "nbformat": 4,
 "nbformat_minor": 5
}
