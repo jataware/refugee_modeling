{
 "cells": [
  {
   "cell_type": "code",
   "execution_count": null,
   "id": "34bcac6f",
   "metadata": {
    "scrolled": false
   },
   "outputs": [],
   "source": [
    "import pandas\n",
    "import numpy as np\n",
    "from sklearn import datasets, linear_model\n",
    "from sklearn.metrics import mean_squared_error, r2_score\n",
    "from sklearn.linear_model import LinearRegression\n",
    "from plotnine import ggplot, aes, geom_point, geom_line\n",
    "from plotnine.themes import theme_minimal\n"
   ]
  },
  {
   "cell_type": "code",
   "execution_count": null,
   "id": "94c92d85",
   "metadata": {
    "scrolled": false
   },
   "outputs": [],
   "source": [
    "# import data\n",
    "data=pandas.read_csv('refugee_data/refugee_Model_Data.csv')"
   ]
  },
  {
   "cell_type": "code",
   "execution_count": null,
   "id": "34eb8ccd",
   "metadata": {},
   "outputs": [],
   "source": [
    "data.head()"
   ]
  },
  {
   "cell_type": "code",
   "execution_count": null,
   "id": "c0fe40e4",
   "metadata": {},
   "outputs": [],
   "source": [
    "#train model without Ukraine so we use withoutUkrain\n",
    "withoutUkrainData=data[data[\"Ukraine\"]!=1]\n",
    "withoutUkrainData"
   ]
  },
  {
   "cell_type": "code",
   "execution_count": null,
   "id": "353f1af8",
   "metadata": {
    "scrolled": false
   },
   "outputs": [],
   "source": [
    "# set y variable we are trying to predict\n",
    "y=withoutUkrainData['percent_Refugees_of_Conflict']"
   ]
  },
  {
   "cell_type": "code",
   "execution_count": null,
   "id": "255a8887",
   "metadata": {
    "scrolled": false
   },
   "outputs": [],
   "source": [
    "# set independant variables \n",
    "features_normalized = withoutUkrainData[[\n",
    "    \"Nigeria\",\n",
    "    \"Afghanistan\",\n",
    "    \"Burundi\",\n",
    "    \"Central African Republic\",\n",
    "    \"Democratic Republic of the Congo\",\n",
    "    \"Somalia\",\n",
    "    \"South Sudan\",\n",
    "    \"Syria\",\n",
    "    \"Venezuela\" ,\n",
    "    \"normalized_bilateral_migr\",\n",
    "]]"
   ]
  },
  {
   "cell_type": "markdown",
   "id": "7a00072b",
   "metadata": {},
   "source": [
    "###   We also tried to use these additional features in the model, however none of these features had a high enough p value to be included in the final model\n",
    " 1. \"normalized_qrdp\"\n",
    " 2. \"same_language\"\n",
    " 3. \"touching\"\n",
    " 4. \"normalized_lib\"\n",
    " 5. \"normalized_pop\"\n",
    " 6. \"normalized_migr_ratio\"\n",
    " 7. \"normalized_gdp\"\n",
    " 8. \"normalized_export_trade\"\n",
    " 9. \"normalized_remittances\"\n",
    " "
   ]
  },
  {
   "cell_type": "code",
   "execution_count": null,
   "id": "1068d92e",
   "metadata": {
    "scrolled": false
   },
   "outputs": [],
   "source": [
    "# Run the linear regression. \n",
    "import statsmodels.api as sm"
   ]
  },
  {
   "cell_type": "code",
   "execution_count": null,
   "id": "5d7e76ed",
   "metadata": {
    "scrolled": false
   },
   "outputs": [],
   "source": [
    "results=sm.OLS(y,features_normalized).fit()"
   ]
  },
  {
   "cell_type": "code",
   "execution_count": null,
   "id": "35302dec",
   "metadata": {
    "scrolled": false
   },
   "outputs": [],
   "source": [
    "results.summary()"
   ]
  },
  {
   "cell_type": "code",
   "execution_count": null,
   "id": "7bded091",
   "metadata": {},
   "outputs": [],
   "source": [
    "features_to_predict=data[[\n",
    "    \"Nigeria\",\n",
    "    \"Afghanistan\",\n",
    "    \"Burundi\",\n",
    "    \"Central African Republic\",\n",
    "    \"Democratic Republic of the Congo\",\n",
    "    \"Somalia\",\n",
    "    \"South Sudan\",\n",
    "    \"Syria\",\n",
    "    \"Venezuela\" ,\n",
    "    \"normalized_bilateral_migr\",\n",
    "]]\n",
    "shares = results.predict(features_to_predict)\n",
    "data['predicted_shares'] = shares\n",
    "ukr_results = data[data['Ukraine']==1][['country','percent_Refugees_of_Conflict','predicted_shares']]\n",
    "ukr_results.to_csv('ukraine_model_results.csv',index=False)"
   ]
  },
  {
   "cell_type": "code",
   "execution_count": null,
   "id": "066c25f7",
   "metadata": {},
   "outputs": [],
   "source": [
    "ukr_results"
   ]
  },
  {
   "cell_type": "markdown",
   "id": "48676f17",
   "metadata": {},
   "source": [
    "# Retrain model with Ukraine Conflict data included"
   ]
  },
  {
   "cell_type": "code",
   "execution_count": null,
   "id": "bd249516",
   "metadata": {},
   "outputs": [],
   "source": [
    "y=data['percent_Refugees_of_Conflict']\n",
    "features_normalized = data[[\n",
    "    \"Nigeria\",\n",
    "    \"Afghanistan\",\n",
    "    \"Burundi\",\n",
    "    \"Central African Republic\",\n",
    "    \"Democratic Republic of the Congo\",\n",
    "    \"Somalia\",\n",
    "    \"South Sudan\",\n",
    "    \"Syria\",\n",
    "    \"Ukraine\",\n",
    "    \"Venezuela\" ,\n",
    "    \"normalized_bilateral_migr\",\n",
    "]]"
   ]
  },
  {
   "cell_type": "code",
   "execution_count": null,
   "id": "2c37e59f",
   "metadata": {},
   "outputs": [],
   "source": [
    "results=sm.OLS(y,features_normalized).fit()"
   ]
  },
  {
   "cell_type": "code",
   "execution_count": null,
   "id": "def4a344",
   "metadata": {},
   "outputs": [],
   "source": [
    "results.summary()"
   ]
  },
  {
   "cell_type": "code",
   "execution_count": null,
   "id": "de95ee40",
   "metadata": {},
   "outputs": [],
   "source": [
    "features_to_predict=data[[\n",
    "    \"Nigeria\",\n",
    "    \"Afghanistan\",\n",
    "    \"Burundi\",\n",
    "    \"Central African Republic\",\n",
    "    \"Democratic Republic of the Congo\",\n",
    "    \"Somalia\",\n",
    "    \"South Sudan\",\n",
    "    \"Syria\",\n",
    "    \"Ukraine\",\n",
    "    \"Venezuela\" ,\n",
    "    \"normalized_bilateral_migr\",\n",
    "]]\n",
    "shares = results.predict(features_to_predict)\n",
    "data['predicted_shares'] = shares\n",
    "ukr_results = data[data['Ukraine']==1][['country','percent_Refugees_of_Conflict','predicted_shares']]\n",
    "ukr_results.to_csv('ukraine_model_results.csv',index=False)"
   ]
  },
  {
   "cell_type": "code",
   "execution_count": null,
   "id": "04ad54c5",
   "metadata": {},
   "outputs": [],
   "source": [
    "ukr_results"
   ]
  }
 ],
 "metadata": {
  "kernelspec": {
   "display_name": "Python 3",
   "language": "python",
   "name": "python3"
  },
  "language_info": {
   "codemirror_mode": {
    "name": "ipython",
    "version": 3
   },
   "file_extension": ".py",
   "mimetype": "text/x-python",
   "name": "python",
   "nbconvert_exporter": "python",
   "pygments_lexer": "ipython3",
   "version": "3.8.2"
  }
 },
 "nbformat": 4,
 "nbformat_minor": 5
}
