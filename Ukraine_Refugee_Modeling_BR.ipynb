{
 "cells": [
  {
   "cell_type": "code",
   "execution_count": null,
   "id": "34bcac6f",
   "metadata": {
    "scrolled": false
   },
   "outputs": [],
   "source": [
    "import pandas as pd\n",
    "import numpy as np\n",
    "from sklearn import datasets, linear_model\n",
    "from sklearn.metrics import mean_squared_error, r2_score\n",
    "from sklearn.linear_model import LinearRegression\n",
    "from sklearn.preprocessing import MinMaxScaler"
   ]
  },
  {
   "cell_type": "code",
   "execution_count": null,
   "id": "94c92d85",
   "metadata": {
    "scrolled": false
   },
   "outputs": [],
   "source": [
    "# import data\n",
    "data=pd.read_csv('refugee_data/refugee_data_final.csv')\n",
    "data = data[data['country']!='Russian Federation']"
   ]
  },
  {
   "cell_type": "code",
   "execution_count": null,
   "id": "2ad9a8d5",
   "metadata": {},
   "outputs": [],
   "source": [
    "# if we want to recalc percent total of conflict after dropping Russia...\n",
    "data['pct_tot'] = data['individualPerCountry'] / data.groupby('conflict')['individualPerCountry'].transform('sum')"
   ]
  },
  {
   "cell_type": "code",
   "execution_count": null,
   "id": "661459fd",
   "metadata": {},
   "outputs": [],
   "source": [
    "data['bilateral_migration_percap'] = data['bilateral_migration']/data['population']"
   ]
  },
  {
   "cell_type": "code",
   "execution_count": null,
   "id": "0b643a82",
   "metadata": {},
   "outputs": [],
   "source": [
    "data['gdp_per_cap'] = data['gdp_millions']*1000000/data['population']"
   ]
  },
  {
   "cell_type": "code",
   "execution_count": null,
   "id": "0aeac634",
   "metadata": {},
   "outputs": [],
   "source": [
    "data['migrants_per_cap'] = data['total_recored_migrants']/data['population']"
   ]
  },
  {
   "cell_type": "code",
   "execution_count": null,
   "id": "4e8f2861",
   "metadata": {},
   "outputs": [],
   "source": [
    "cols_to_scale = [\"historic_gdp_millions\",'population', 'remittances']"
   ]
  },
  {
   "cell_type": "code",
   "execution_count": null,
   "id": "05099a1f",
   "metadata": {
    "scrolled": true
   },
   "outputs": [],
   "source": [
    "scaler = MinMaxScaler()\n",
    "for col in cols_to_scale:\n",
    "    print(col)\n",
    "    normed = pd.DataFrame()\n",
    "    \n",
    "    for y, x in data.groupby('conflict'):\n",
    "        norm_ = [i[0] for i in scaler.fit_transform(x[col].values.reshape(-1,1))]\n",
    "        countries = x['country']\n",
    "        conflict_ = x['conflict']\n",
    "        res = pd.DataFrame(tuple(zip(countries,conflict_,norm_)), columns=['country','conflict',f\"{col}_norm\"])\n",
    "        normed = normed.append(res)\n",
    "    data = pd.merge(data, normed, left_on=['country','conflict'], right_on=['country','conflict'], how='right')"
   ]
  },
  {
   "cell_type": "code",
   "execution_count": null,
   "id": "568ea6fe",
   "metadata": {},
   "outputs": [],
   "source": [
    "ukr = data[data['conflict']=='Ukraine']"
   ]
  },
  {
   "cell_type": "code",
   "execution_count": null,
   "id": "c0fe40e4",
   "metadata": {},
   "outputs": [],
   "source": [
    "#train model without Ukraine so we use withoutUkrain\n",
    "withoutUkrainData=data[(data[\"Ukraine\"]!=1) & (data['touching']==1)]"
   ]
  },
  {
   "cell_type": "code",
   "execution_count": null,
   "id": "353f1af8",
   "metadata": {
    "scrolled": false
   },
   "outputs": [],
   "source": [
    "# set y variable we are trying to predict\n",
    "y=withoutUkrainData['pct_tot']"
   ]
  },
  {
   "cell_type": "code",
   "execution_count": null,
   "id": "975bc6d5",
   "metadata": {
    "scrolled": false
   },
   "outputs": [],
   "source": [
    "# set independant variables \n",
    "features_cols = [\n",
    "    \"historic_gdp_millions_norm\",\n",
    "    \"v2x_libdem\"\n",
    "#                    'gdp_per_cap_historic_norm',\n",
    "#                    'gdp_millions_norm'\n",
    "#                  'bilateral_migration_norm', \n",
    "#                  'gdp_per_cap',\n",
    "#                 'migrants_per_cap',\n",
    "#                  'population_norm', \n",
    "#                 'v2x_libdem',\n",
    "#                  'v2xeg_eqdr',\n",
    "#                  'same_language',\n",
    "#                  'migrant_ratio',\n",
    "#                  'remittances_norm'\n",
    "]\n",
    "features_normalized = withoutUkrainData[features_cols]"
   ]
  },
  {
   "cell_type": "code",
   "execution_count": null,
   "id": "6a50ed3e",
   "metadata": {},
   "outputs": [],
   "source": [
    "ukr[['country']+features_cols]"
   ]
  },
  {
   "cell_type": "markdown",
   "id": "7a00072b",
   "metadata": {},
   "source": [
    "###   We also tried to use these additional features in the model, however none of these features had a high enough p value to be included in the final model\n",
    " 1. \"normalized_qrdp\"\n",
    " 2. \"same_language\"\n",
    " 3. \"touching\"\n",
    " 4. \"normalized_lib\"\n",
    " 5. \"normalized_pop\"\n",
    " 6. \"normalized_migr_ratio\"\n",
    " 7. \"normalized_gdp\"\n",
    " 8. \"normalized_export_trade\"\n",
    " 9. \"normalized_remittances\"\n",
    " "
   ]
  },
  {
   "cell_type": "code",
   "execution_count": null,
   "id": "1068d92e",
   "metadata": {
    "scrolled": false
   },
   "outputs": [],
   "source": [
    "# Run the linear regression. \n",
    "import statsmodels.api as sm"
   ]
  },
  {
   "cell_type": "code",
   "execution_count": null,
   "id": "5d7e76ed",
   "metadata": {
    "scrolled": false
   },
   "outputs": [],
   "source": [
    "results=sm.OLS(y,features_normalized).fit()"
   ]
  },
  {
   "cell_type": "code",
   "execution_count": null,
   "id": "35302dec",
   "metadata": {
    "scrolled": false
   },
   "outputs": [],
   "source": [
    "results.summary()"
   ]
  },
  {
   "cell_type": "code",
   "execution_count": null,
   "id": "7bded091",
   "metadata": {},
   "outputs": [],
   "source": [
    "features_to_predict=data[features_cols]\n",
    "shares = results.predict(features_to_predict)\n",
    "data['predicted_shares'] = shares\n",
    "ukr_results = data[data['Ukraine']==1][['country','pct_tot','predicted_shares']]\n",
    "ukr_results.to_csv('outputs/ukraine_model_results.csv',index=False)"
   ]
  },
  {
   "cell_type": "code",
   "execution_count": null,
   "id": "119c794a",
   "metadata": {},
   "outputs": [],
   "source": [
    "ukr_results"
   ]
  }
 ],
 "metadata": {
  "kernelspec": {
   "display_name": "Python 3",
   "language": "python",
   "name": "python3"
  },
  "language_info": {
   "codemirror_mode": {
    "name": "ipython",
    "version": 3
   },
   "file_extension": ".py",
   "mimetype": "text/x-python",
   "name": "python",
   "nbconvert_exporter": "python",
   "pygments_lexer": "ipython3",
   "version": "3.8.2"
  }
 },
 "nbformat": 4,
 "nbformat_minor": 5
}
