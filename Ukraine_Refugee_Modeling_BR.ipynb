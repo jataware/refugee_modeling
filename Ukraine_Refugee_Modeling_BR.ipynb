{
 "cells": [
  {
   "cell_type": "code",
   "execution_count": 89,
   "id": "34bcac6f",
   "metadata": {
    "scrolled": false
   },
   "outputs": [],
   "source": [
    "import pandas as pd\n",
    "import numpy as np\n",
    "from sklearn import datasets, linear_model\n",
    "from sklearn.metrics import mean_squared_error, r2_score\n",
    "from sklearn.linear_model import LinearRegression\n",
    "from sklearn.preprocessing import MinMaxScaler"
   ]
  },
  {
   "cell_type": "code",
   "execution_count": 174,
   "id": "94c92d85",
   "metadata": {
    "scrolled": false
   },
   "outputs": [],
   "source": [
    "# import data\n",
    "data=pd.read_csv('refugee_data/refugee_data_final.csv')\n",
    "data = data[data['country']!='Russian Federation']"
   ]
  },
  {
   "cell_type": "code",
   "execution_count": 175,
   "id": "26a3b6c0",
   "metadata": {},
   "outputs": [
    {
     "data": {
      "text/plain": [
       "0     109591.707802\n",
       "1      82017.743416\n",
       "2        860.521119\n",
       "3      13760.513969\n",
       "4       2904.732773\n",
       "          ...      \n",
       "58     45599.994005\n",
       "59    201175.469114\n",
       "60     10224.897935\n",
       "61     33728.622819\n",
       "62     12953.535496\n",
       "Name: historic_gdp_millions, Length: 62, dtype: float64"
      ]
     },
     "execution_count": 175,
     "metadata": {},
     "output_type": "execute_result"
    }
   ],
   "source": [
    "data[\"historic_gdp_millions\"]"
   ]
  },
  {
   "cell_type": "code",
   "execution_count": 176,
   "id": "2ad9a8d5",
   "metadata": {},
   "outputs": [],
   "source": [
    "# if we want to recalc percent total of conflict after dropping Russia...\n",
    "data['pct_tot'] = data['individualPerCountry'] / data.groupby('conflict')['individualPerCountry'].transform('sum')"
   ]
  },
  {
   "cell_type": "code",
   "execution_count": 178,
   "id": "661459fd",
   "metadata": {},
   "outputs": [],
   "source": [
    "data['bilateral_migration_percap'] = data['bilateral_migration']/data['population']"
   ]
  },
  {
   "cell_type": "code",
   "execution_count": 179,
   "id": "0b643a82",
   "metadata": {},
   "outputs": [],
   "source": [
    "data['gdp_per_cap'] = data['gdp_millions']*1000000/data['population']"
   ]
  },
  {
   "cell_type": "code",
   "execution_count": 180,
   "id": "0aeac634",
   "metadata": {},
   "outputs": [],
   "source": [
    "data['migrants_per_cap'] = data['total_recored_migrants']/data['population']"
   ]
  },
  {
   "cell_type": "code",
   "execution_count": 181,
   "id": "4e8f2861",
   "metadata": {},
   "outputs": [],
   "source": [
    "cols_to_scale = [\"historic_gdp_millions\",'population', 'remittances']"
   ]
  },
  {
   "cell_type": "code",
   "execution_count": 182,
   "id": "05099a1f",
   "metadata": {
    "scrolled": true
   },
   "outputs": [
    {
     "name": "stdout",
     "output_type": "stream",
     "text": [
      "v2x_libdem\n",
      "gdp_millions\n",
      "historic_gdp_millions\n",
      "gdp_per_cap_historic\n"
     ]
    },
    {
     "name": "stderr",
     "output_type": "stream",
     "text": [
      "<ipython-input-182-cf56ce5f6369>:11: FutureWarning: The frame.append method is deprecated and will be removed from pandas in a future version. Use pandas.concat instead.\n",
      "  normed = normed.append(res)\n",
      "<ipython-input-182-cf56ce5f6369>:11: FutureWarning: The frame.append method is deprecated and will be removed from pandas in a future version. Use pandas.concat instead.\n",
      "  normed = normed.append(res)\n",
      "<ipython-input-182-cf56ce5f6369>:11: FutureWarning: The frame.append method is deprecated and will be removed from pandas in a future version. Use pandas.concat instead.\n",
      "  normed = normed.append(res)\n",
      "<ipython-input-182-cf56ce5f6369>:11: FutureWarning: The frame.append method is deprecated and will be removed from pandas in a future version. Use pandas.concat instead.\n",
      "  normed = normed.append(res)\n",
      "<ipython-input-182-cf56ce5f6369>:11: FutureWarning: The frame.append method is deprecated and will be removed from pandas in a future version. Use pandas.concat instead.\n",
      "  normed = normed.append(res)\n",
      "<ipython-input-182-cf56ce5f6369>:11: FutureWarning: The frame.append method is deprecated and will be removed from pandas in a future version. Use pandas.concat instead.\n",
      "  normed = normed.append(res)\n",
      "<ipython-input-182-cf56ce5f6369>:11: FutureWarning: The frame.append method is deprecated and will be removed from pandas in a future version. Use pandas.concat instead.\n",
      "  normed = normed.append(res)\n",
      "<ipython-input-182-cf56ce5f6369>:11: FutureWarning: The frame.append method is deprecated and will be removed from pandas in a future version. Use pandas.concat instead.\n",
      "  normed = normed.append(res)\n",
      "<ipython-input-182-cf56ce5f6369>:11: FutureWarning: The frame.append method is deprecated and will be removed from pandas in a future version. Use pandas.concat instead.\n",
      "  normed = normed.append(res)\n",
      "<ipython-input-182-cf56ce5f6369>:11: FutureWarning: The frame.append method is deprecated and will be removed from pandas in a future version. Use pandas.concat instead.\n",
      "  normed = normed.append(res)\n",
      "<ipython-input-182-cf56ce5f6369>:11: FutureWarning: The frame.append method is deprecated and will be removed from pandas in a future version. Use pandas.concat instead.\n",
      "  normed = normed.append(res)\n",
      "<ipython-input-182-cf56ce5f6369>:11: FutureWarning: The frame.append method is deprecated and will be removed from pandas in a future version. Use pandas.concat instead.\n",
      "  normed = normed.append(res)\n",
      "<ipython-input-182-cf56ce5f6369>:11: FutureWarning: The frame.append method is deprecated and will be removed from pandas in a future version. Use pandas.concat instead.\n",
      "  normed = normed.append(res)\n",
      "<ipython-input-182-cf56ce5f6369>:11: FutureWarning: The frame.append method is deprecated and will be removed from pandas in a future version. Use pandas.concat instead.\n",
      "  normed = normed.append(res)\n",
      "<ipython-input-182-cf56ce5f6369>:11: FutureWarning: The frame.append method is deprecated and will be removed from pandas in a future version. Use pandas.concat instead.\n",
      "  normed = normed.append(res)\n",
      "<ipython-input-182-cf56ce5f6369>:11: FutureWarning: The frame.append method is deprecated and will be removed from pandas in a future version. Use pandas.concat instead.\n",
      "  normed = normed.append(res)\n",
      "<ipython-input-182-cf56ce5f6369>:11: FutureWarning: The frame.append method is deprecated and will be removed from pandas in a future version. Use pandas.concat instead.\n",
      "  normed = normed.append(res)\n",
      "<ipython-input-182-cf56ce5f6369>:11: FutureWarning: The frame.append method is deprecated and will be removed from pandas in a future version. Use pandas.concat instead.\n",
      "  normed = normed.append(res)\n",
      "<ipython-input-182-cf56ce5f6369>:11: FutureWarning: The frame.append method is deprecated and will be removed from pandas in a future version. Use pandas.concat instead.\n",
      "  normed = normed.append(res)\n",
      "<ipython-input-182-cf56ce5f6369>:11: FutureWarning: The frame.append method is deprecated and will be removed from pandas in a future version. Use pandas.concat instead.\n",
      "  normed = normed.append(res)\n",
      "<ipython-input-182-cf56ce5f6369>:11: FutureWarning: The frame.append method is deprecated and will be removed from pandas in a future version. Use pandas.concat instead.\n",
      "  normed = normed.append(res)\n",
      "<ipython-input-182-cf56ce5f6369>:11: FutureWarning: The frame.append method is deprecated and will be removed from pandas in a future version. Use pandas.concat instead.\n",
      "  normed = normed.append(res)\n",
      "<ipython-input-182-cf56ce5f6369>:11: FutureWarning: The frame.append method is deprecated and will be removed from pandas in a future version. Use pandas.concat instead.\n",
      "  normed = normed.append(res)\n",
      "<ipython-input-182-cf56ce5f6369>:11: FutureWarning: The frame.append method is deprecated and will be removed from pandas in a future version. Use pandas.concat instead.\n",
      "  normed = normed.append(res)\n",
      "<ipython-input-182-cf56ce5f6369>:11: FutureWarning: The frame.append method is deprecated and will be removed from pandas in a future version. Use pandas.concat instead.\n",
      "  normed = normed.append(res)\n",
      "<ipython-input-182-cf56ce5f6369>:11: FutureWarning: The frame.append method is deprecated and will be removed from pandas in a future version. Use pandas.concat instead.\n",
      "  normed = normed.append(res)\n",
      "<ipython-input-182-cf56ce5f6369>:11: FutureWarning: The frame.append method is deprecated and will be removed from pandas in a future version. Use pandas.concat instead.\n",
      "  normed = normed.append(res)\n",
      "<ipython-input-182-cf56ce5f6369>:11: FutureWarning: The frame.append method is deprecated and will be removed from pandas in a future version. Use pandas.concat instead.\n",
      "  normed = normed.append(res)\n",
      "<ipython-input-182-cf56ce5f6369>:11: FutureWarning: The frame.append method is deprecated and will be removed from pandas in a future version. Use pandas.concat instead.\n",
      "  normed = normed.append(res)\n",
      "<ipython-input-182-cf56ce5f6369>:11: FutureWarning: The frame.append method is deprecated and will be removed from pandas in a future version. Use pandas.concat instead.\n",
      "  normed = normed.append(res)\n",
      "<ipython-input-182-cf56ce5f6369>:11: FutureWarning: The frame.append method is deprecated and will be removed from pandas in a future version. Use pandas.concat instead.\n",
      "  normed = normed.append(res)\n"
     ]
    },
    {
     "name": "stdout",
     "output_type": "stream",
     "text": [
      "population\n",
      "remittances\n"
     ]
    },
    {
     "name": "stderr",
     "output_type": "stream",
     "text": [
      "<ipython-input-182-cf56ce5f6369>:11: FutureWarning: The frame.append method is deprecated and will be removed from pandas in a future version. Use pandas.concat instead.\n",
      "  normed = normed.append(res)\n",
      "<ipython-input-182-cf56ce5f6369>:11: FutureWarning: The frame.append method is deprecated and will be removed from pandas in a future version. Use pandas.concat instead.\n",
      "  normed = normed.append(res)\n",
      "<ipython-input-182-cf56ce5f6369>:11: FutureWarning: The frame.append method is deprecated and will be removed from pandas in a future version. Use pandas.concat instead.\n",
      "  normed = normed.append(res)\n",
      "<ipython-input-182-cf56ce5f6369>:11: FutureWarning: The frame.append method is deprecated and will be removed from pandas in a future version. Use pandas.concat instead.\n",
      "  normed = normed.append(res)\n",
      "<ipython-input-182-cf56ce5f6369>:11: FutureWarning: The frame.append method is deprecated and will be removed from pandas in a future version. Use pandas.concat instead.\n",
      "  normed = normed.append(res)\n",
      "<ipython-input-182-cf56ce5f6369>:11: FutureWarning: The frame.append method is deprecated and will be removed from pandas in a future version. Use pandas.concat instead.\n",
      "  normed = normed.append(res)\n",
      "<ipython-input-182-cf56ce5f6369>:11: FutureWarning: The frame.append method is deprecated and will be removed from pandas in a future version. Use pandas.concat instead.\n",
      "  normed = normed.append(res)\n",
      "<ipython-input-182-cf56ce5f6369>:11: FutureWarning: The frame.append method is deprecated and will be removed from pandas in a future version. Use pandas.concat instead.\n",
      "  normed = normed.append(res)\n",
      "<ipython-input-182-cf56ce5f6369>:11: FutureWarning: The frame.append method is deprecated and will be removed from pandas in a future version. Use pandas.concat instead.\n",
      "  normed = normed.append(res)\n",
      "<ipython-input-182-cf56ce5f6369>:11: FutureWarning: The frame.append method is deprecated and will be removed from pandas in a future version. Use pandas.concat instead.\n",
      "  normed = normed.append(res)\n",
      "<ipython-input-182-cf56ce5f6369>:11: FutureWarning: The frame.append method is deprecated and will be removed from pandas in a future version. Use pandas.concat instead.\n",
      "  normed = normed.append(res)\n",
      "<ipython-input-182-cf56ce5f6369>:11: FutureWarning: The frame.append method is deprecated and will be removed from pandas in a future version. Use pandas.concat instead.\n",
      "  normed = normed.append(res)\n",
      "<ipython-input-182-cf56ce5f6369>:11: FutureWarning: The frame.append method is deprecated and will be removed from pandas in a future version. Use pandas.concat instead.\n",
      "  normed = normed.append(res)\n",
      "<ipython-input-182-cf56ce5f6369>:11: FutureWarning: The frame.append method is deprecated and will be removed from pandas in a future version. Use pandas.concat instead.\n",
      "  normed = normed.append(res)\n",
      "<ipython-input-182-cf56ce5f6369>:11: FutureWarning: The frame.append method is deprecated and will be removed from pandas in a future version. Use pandas.concat instead.\n",
      "  normed = normed.append(res)\n",
      "<ipython-input-182-cf56ce5f6369>:11: FutureWarning: The frame.append method is deprecated and will be removed from pandas in a future version. Use pandas.concat instead.\n",
      "  normed = normed.append(res)\n",
      "<ipython-input-182-cf56ce5f6369>:11: FutureWarning: The frame.append method is deprecated and will be removed from pandas in a future version. Use pandas.concat instead.\n",
      "  normed = normed.append(res)\n",
      "<ipython-input-182-cf56ce5f6369>:11: FutureWarning: The frame.append method is deprecated and will be removed from pandas in a future version. Use pandas.concat instead.\n",
      "  normed = normed.append(res)\n",
      "<ipython-input-182-cf56ce5f6369>:11: FutureWarning: The frame.append method is deprecated and will be removed from pandas in a future version. Use pandas.concat instead.\n",
      "  normed = normed.append(res)\n",
      "<ipython-input-182-cf56ce5f6369>:11: FutureWarning: The frame.append method is deprecated and will be removed from pandas in a future version. Use pandas.concat instead.\n",
      "  normed = normed.append(res)\n",
      "<ipython-input-182-cf56ce5f6369>:11: FutureWarning: The frame.append method is deprecated and will be removed from pandas in a future version. Use pandas.concat instead.\n",
      "  normed = normed.append(res)\n",
      "<ipython-input-182-cf56ce5f6369>:11: FutureWarning: The frame.append method is deprecated and will be removed from pandas in a future version. Use pandas.concat instead.\n",
      "  normed = normed.append(res)\n",
      "<ipython-input-182-cf56ce5f6369>:11: FutureWarning: The frame.append method is deprecated and will be removed from pandas in a future version. Use pandas.concat instead.\n",
      "  normed = normed.append(res)\n",
      "<ipython-input-182-cf56ce5f6369>:11: FutureWarning: The frame.append method is deprecated and will be removed from pandas in a future version. Use pandas.concat instead.\n",
      "  normed = normed.append(res)\n",
      "<ipython-input-182-cf56ce5f6369>:11: FutureWarning: The frame.append method is deprecated and will be removed from pandas in a future version. Use pandas.concat instead.\n",
      "  normed = normed.append(res)\n",
      "<ipython-input-182-cf56ce5f6369>:11: FutureWarning: The frame.append method is deprecated and will be removed from pandas in a future version. Use pandas.concat instead.\n",
      "  normed = normed.append(res)\n",
      "<ipython-input-182-cf56ce5f6369>:11: FutureWarning: The frame.append method is deprecated and will be removed from pandas in a future version. Use pandas.concat instead.\n",
      "  normed = normed.append(res)\n",
      "<ipython-input-182-cf56ce5f6369>:11: FutureWarning: The frame.append method is deprecated and will be removed from pandas in a future version. Use pandas.concat instead.\n",
      "  normed = normed.append(res)\n",
      "<ipython-input-182-cf56ce5f6369>:11: FutureWarning: The frame.append method is deprecated and will be removed from pandas in a future version. Use pandas.concat instead.\n",
      "  normed = normed.append(res)\n"
     ]
    }
   ],
   "source": [
    "scaler = MinMaxScaler()\n",
    "for col in cols_to_scale:\n",
    "    print(col)\n",
    "    normed = pd.DataFrame()\n",
    "    \n",
    "    for y, x in data.groupby('conflict'):\n",
    "        norm_ = [i[0] for i in scaler.fit_transform(x[col].values.reshape(-1,1))]\n",
    "        countries = x['country']\n",
    "        conflict_ = x['conflict']\n",
    "        res = pd.DataFrame(tuple(zip(countries,conflict_,norm_)), columns=['country','conflict',f\"{col}_norm\"])\n",
    "        normed = normed.append(res)\n",
    "    data = pd.merge(data, normed, left_on=['country','conflict'], right_on=['country','conflict'], how='right')"
   ]
  },
  {
   "cell_type": "code",
   "execution_count": 183,
   "id": "568ea6fe",
   "metadata": {},
   "outputs": [],
   "source": [
    "ukr = data[data['conflict']=='Ukraine']"
   ]
  },
  {
   "cell_type": "code",
   "execution_count": 184,
   "id": "c0fe40e4",
   "metadata": {},
   "outputs": [],
   "source": [
    "#train model without Ukraine so we use withoutUkrain\n",
    "withoutUkrainData=data[(data[\"Ukraine\"]!=1) & (data['touching']==1)]"
   ]
  },
  {
   "cell_type": "code",
   "execution_count": 185,
   "id": "353f1af8",
   "metadata": {
    "scrolled": false
   },
   "outputs": [],
   "source": [
    "# set y variable we are trying to predict\n",
    "y=withoutUkrainData['pct_tot']"
   ]
  },
  {
   "cell_type": "code",
   "execution_count": 193,
   "id": "975bc6d5",
   "metadata": {
    "scrolled": false
   },
   "outputs": [],
   "source": [
    "# set independant variables \n",
    "features_cols = [\n",
    "    \"historic_gdp_millions_norm\",\n",
    "    \"v2x_libdem\"\n",
    "#                    'gdp_per_cap_historic_norm',\n",
    "#                    'gdp_millions_norm'\n",
    "#                  'bilateral_migration_norm', \n",
    "#                  'gdp_per_cap',\n",
    "#                 'migrants_per_cap',\n",
    "#                  'population_norm', \n",
    "#                 'v2x_libdem',\n",
    "#                  'v2xeg_eqdr',\n",
    "#                  'same_language',\n",
    "#                  'migrant_ratio',\n",
    "#                  'remittances_norm'\n",
    "]\n",
    "features_normalized = withoutUkrainData[features_cols]"
   ]
  },
  {
   "cell_type": "code",
   "execution_count": 194,
   "id": "6a50ed3e",
   "metadata": {},
   "outputs": [
    {
     "data": {
      "text/html": [
       "<div>\n",
       "<style scoped>\n",
       "    .dataframe tbody tr th:only-of-type {\n",
       "        vertical-align: middle;\n",
       "    }\n",
       "\n",
       "    .dataframe tbody tr th {\n",
       "        vertical-align: top;\n",
       "    }\n",
       "\n",
       "    .dataframe thead th {\n",
       "        text-align: right;\n",
       "    }\n",
       "</style>\n",
       "<table border=\"1\" class=\"dataframe\">\n",
       "  <thead>\n",
       "    <tr style=\"text-align: right;\">\n",
       "      <th></th>\n",
       "      <th>country</th>\n",
       "      <th>historic_gdp_millions_norm</th>\n",
       "      <th>v2x_libdem</th>\n",
       "    </tr>\n",
       "  </thead>\n",
       "  <tbody>\n",
       "    <tr>\n",
       "      <th>46</th>\n",
       "      <td>Hungary</td>\n",
       "      <td>0.246093</td>\n",
       "      <td>0.362</td>\n",
       "    </tr>\n",
       "    <tr>\n",
       "      <th>47</th>\n",
       "      <td>Moldova</td>\n",
       "      <td>0.000000</td>\n",
       "      <td>0.615</td>\n",
       "    </tr>\n",
       "    <tr>\n",
       "      <th>48</th>\n",
       "      <td>Poland</td>\n",
       "      <td>1.000000</td>\n",
       "      <td>0.413</td>\n",
       "    </tr>\n",
       "    <tr>\n",
       "      <th>49</th>\n",
       "      <td>Romania</td>\n",
       "      <td>0.404988</td>\n",
       "      <td>0.644</td>\n",
       "    </tr>\n",
       "    <tr>\n",
       "      <th>50</th>\n",
       "      <td>Slovakia</td>\n",
       "      <td>0.159493</td>\n",
       "      <td>0.769</td>\n",
       "    </tr>\n",
       "  </tbody>\n",
       "</table>\n",
       "</div>"
      ],
      "text/plain": [
       "     country  historic_gdp_millions_norm  v2x_libdem\n",
       "46   Hungary                    0.246093       0.362\n",
       "47   Moldova                    0.000000       0.615\n",
       "48    Poland                    1.000000       0.413\n",
       "49   Romania                    0.404988       0.644\n",
       "50  Slovakia                    0.159493       0.769"
      ]
     },
     "execution_count": 194,
     "metadata": {},
     "output_type": "execute_result"
    }
   ],
   "source": [
    "ukr[['country']+features_cols]"
   ]
  },
  {
   "cell_type": "markdown",
   "id": "7a00072b",
   "metadata": {},
   "source": [
    "###   We also tried to use these additional features in the model, however none of these features had a high enough p value to be included in the final model\n",
    " 1. \"normalized_qrdp\"\n",
    " 2. \"same_language\"\n",
    " 3. \"touching\"\n",
    " 4. \"normalized_lib\"\n",
    " 5. \"normalized_pop\"\n",
    " 6. \"normalized_migr_ratio\"\n",
    " 7. \"normalized_gdp\"\n",
    " 8. \"normalized_export_trade\"\n",
    " 9. \"normalized_remittances\"\n",
    " "
   ]
  },
  {
   "cell_type": "code",
   "execution_count": 195,
   "id": "1068d92e",
   "metadata": {
    "scrolled": false
   },
   "outputs": [],
   "source": [
    "# Run the linear regression. \n",
    "import statsmodels.api as sm"
   ]
  },
  {
   "cell_type": "code",
   "execution_count": 196,
   "id": "5d7e76ed",
   "metadata": {
    "scrolled": false
   },
   "outputs": [],
   "source": [
    "results=sm.OLS(y,features_normalized).fit()"
   ]
  },
  {
   "cell_type": "code",
   "execution_count": 197,
   "id": "35302dec",
   "metadata": {
    "scrolled": false
   },
   "outputs": [
    {
     "data": {
      "text/html": [
       "<table class=\"simpletable\">\n",
       "<caption>OLS Regression Results</caption>\n",
       "<tr>\n",
       "  <th>Dep. Variable:</th>         <td>pct_tot</td>     <th>  R-squared (uncentered):</th>      <td>   0.592</td>\n",
       "</tr>\n",
       "<tr>\n",
       "  <th>Model:</th>                   <td>OLS</td>       <th>  Adj. R-squared (uncentered):</th> <td>   0.571</td>\n",
       "</tr>\n",
       "<tr>\n",
       "  <th>Method:</th>             <td>Least Squares</td>  <th>  F-statistic:       </th>          <td>   27.59</td>\n",
       "</tr>\n",
       "<tr>\n",
       "  <th>Date:</th>             <td>Fri, 15 Apr 2022</td> <th>  Prob (F-statistic):</th>          <td>3.98e-08</td>\n",
       "</tr>\n",
       "<tr>\n",
       "  <th>Time:</th>                 <td>13:36:17</td>     <th>  Log-Likelihood:    </th>          <td>  12.209</td>\n",
       "</tr>\n",
       "<tr>\n",
       "  <th>No. Observations:</th>      <td>    40</td>      <th>  AIC:               </th>          <td>  -20.42</td>\n",
       "</tr>\n",
       "<tr>\n",
       "  <th>Df Residuals:</th>          <td>    38</td>      <th>  BIC:               </th>          <td>  -17.04</td>\n",
       "</tr>\n",
       "<tr>\n",
       "  <th>Df Model:</th>              <td>     2</td>      <th>                     </th>              <td> </td>   \n",
       "</tr>\n",
       "<tr>\n",
       "  <th>Covariance Type:</th>      <td>nonrobust</td>    <th>                     </th>              <td> </td>   \n",
       "</tr>\n",
       "</table>\n",
       "<table class=\"simpletable\">\n",
       "<tr>\n",
       "               <td></td>                 <th>coef</th>     <th>std err</th>      <th>t</th>      <th>P>|t|</th>  <th>[0.025</th>    <th>0.975]</th>  \n",
       "</tr>\n",
       "<tr>\n",
       "  <th>historic_gdp_millions_norm</th> <td>    0.2555</td> <td>    0.071</td> <td>    3.617</td> <td> 0.001</td> <td>    0.112</td> <td>    0.398</td>\n",
       "</tr>\n",
       "<tr>\n",
       "  <th>v2x_libdem</th>                 <td>    0.3871</td> <td>    0.139</td> <td>    2.775</td> <td> 0.009</td> <td>    0.105</td> <td>    0.670</td>\n",
       "</tr>\n",
       "</table>\n",
       "<table class=\"simpletable\">\n",
       "<tr>\n",
       "  <th>Omnibus:</th>       <td> 3.088</td> <th>  Durbin-Watson:     </th> <td>   2.339</td>\n",
       "</tr>\n",
       "<tr>\n",
       "  <th>Prob(Omnibus):</th> <td> 0.213</td> <th>  Jarque-Bera (JB):  </th> <td>   2.191</td>\n",
       "</tr>\n",
       "<tr>\n",
       "  <th>Skew:</th>          <td>-0.191</td> <th>  Prob(JB):          </th> <td>   0.334</td>\n",
       "</tr>\n",
       "<tr>\n",
       "  <th>Kurtosis:</th>      <td> 4.081</td> <th>  Cond. No.          </th> <td>    2.84</td>\n",
       "</tr>\n",
       "</table><br/><br/>Notes:<br/>[1] R² is computed without centering (uncentered) since the model does not contain a constant.<br/>[2] Standard Errors assume that the covariance matrix of the errors is correctly specified."
      ],
      "text/plain": [
       "<class 'statsmodels.iolib.summary.Summary'>\n",
       "\"\"\"\n",
       "                                 OLS Regression Results                                \n",
       "=======================================================================================\n",
       "Dep. Variable:                pct_tot   R-squared (uncentered):                   0.592\n",
       "Model:                            OLS   Adj. R-squared (uncentered):              0.571\n",
       "Method:                 Least Squares   F-statistic:                              27.59\n",
       "Date:                Fri, 15 Apr 2022   Prob (F-statistic):                    3.98e-08\n",
       "Time:                        13:36:17   Log-Likelihood:                          12.209\n",
       "No. Observations:                  40   AIC:                                     -20.42\n",
       "Df Residuals:                      38   BIC:                                     -17.04\n",
       "Df Model:                           2                                                  \n",
       "Covariance Type:            nonrobust                                                  \n",
       "==============================================================================================\n",
       "                                 coef    std err          t      P>|t|      [0.025      0.975]\n",
       "----------------------------------------------------------------------------------------------\n",
       "historic_gdp_millions_norm     0.2555      0.071      3.617      0.001       0.112       0.398\n",
       "v2x_libdem                     0.3871      0.139      2.775      0.009       0.105       0.670\n",
       "==============================================================================\n",
       "Omnibus:                        3.088   Durbin-Watson:                   2.339\n",
       "Prob(Omnibus):                  0.213   Jarque-Bera (JB):                2.191\n",
       "Skew:                          -0.191   Prob(JB):                        0.334\n",
       "Kurtosis:                       4.081   Cond. No.                         2.84\n",
       "==============================================================================\n",
       "\n",
       "Notes:\n",
       "[1] R² is computed without centering (uncentered) since the model does not contain a constant.\n",
       "[2] Standard Errors assume that the covariance matrix of the errors is correctly specified.\n",
       "\"\"\""
      ]
     },
     "execution_count": 197,
     "metadata": {},
     "output_type": "execute_result"
    }
   ],
   "source": [
    "results.summary()"
   ]
  },
  {
   "cell_type": "code",
   "execution_count": 198,
   "id": "7bded091",
   "metadata": {},
   "outputs": [],
   "source": [
    "features_to_predict=data[features_cols]\n",
    "shares = results.predict(features_to_predict)\n",
    "data['predicted_shares'] = shares\n",
    "ukr_results = data[data['Ukraine']==1][['country','pct_tot','predicted_shares']]\n",
    "ukr_results.to_csv('outputs/ukraine_model_results.csv',index=False)"
   ]
  },
  {
   "cell_type": "code",
   "execution_count": 199,
   "id": "119c794a",
   "metadata": {},
   "outputs": [
    {
     "data": {
      "text/html": [
       "<div>\n",
       "<style scoped>\n",
       "    .dataframe tbody tr th:only-of-type {\n",
       "        vertical-align: middle;\n",
       "    }\n",
       "\n",
       "    .dataframe tbody tr th {\n",
       "        vertical-align: top;\n",
       "    }\n",
       "\n",
       "    .dataframe thead th {\n",
       "        text-align: right;\n",
       "    }\n",
       "</style>\n",
       "<table border=\"1\" class=\"dataframe\">\n",
       "  <thead>\n",
       "    <tr style=\"text-align: right;\">\n",
       "      <th></th>\n",
       "      <th>country</th>\n",
       "      <th>pct_tot</th>\n",
       "      <th>predicted_shares</th>\n",
       "    </tr>\n",
       "  </thead>\n",
       "  <tbody>\n",
       "    <tr>\n",
       "      <th>46</th>\n",
       "      <td>Hungary</td>\n",
       "      <td>0.094222</td>\n",
       "      <td>0.202999</td>\n",
       "    </tr>\n",
       "    <tr>\n",
       "      <th>47</th>\n",
       "      <td>Moldova</td>\n",
       "      <td>0.093682</td>\n",
       "      <td>0.238070</td>\n",
       "    </tr>\n",
       "    <tr>\n",
       "      <th>48</th>\n",
       "      <td>Poland</td>\n",
       "      <td>0.586410</td>\n",
       "      <td>0.415333</td>\n",
       "    </tr>\n",
       "    <tr>\n",
       "      <th>49</th>\n",
       "      <td>Romania</td>\n",
       "      <td>0.154561</td>\n",
       "      <td>0.352753</td>\n",
       "    </tr>\n",
       "    <tr>\n",
       "      <th>50</th>\n",
       "      <td>Slovakia</td>\n",
       "      <td>0.071125</td>\n",
       "      <td>0.338428</td>\n",
       "    </tr>\n",
       "  </tbody>\n",
       "</table>\n",
       "</div>"
      ],
      "text/plain": [
       "     country   pct_tot  predicted_shares\n",
       "46   Hungary  0.094222          0.202999\n",
       "47   Moldova  0.093682          0.238070\n",
       "48    Poland  0.586410          0.415333\n",
       "49   Romania  0.154561          0.352753\n",
       "50  Slovakia  0.071125          0.338428"
      ]
     },
     "execution_count": 199,
     "metadata": {},
     "output_type": "execute_result"
    }
   ],
   "source": [
    "ukr_results"
   ]
  }
 ],
 "metadata": {
  "kernelspec": {
   "display_name": "Python 3",
   "language": "python",
   "name": "python3"
  },
  "language_info": {
   "codemirror_mode": {
    "name": "ipython",
    "version": 3
   },
   "file_extension": ".py",
   "mimetype": "text/x-python",
   "name": "python",
   "nbconvert_exporter": "python",
   "pygments_lexer": "ipython3",
   "version": "3.8.2"
  }
 },
 "nbformat": 4,
 "nbformat_minor": 5
}
