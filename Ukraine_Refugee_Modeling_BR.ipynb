{
 "cells": [
  {
   "cell_type": "code",
   "execution_count": 1,
   "id": "34bcac6f",
   "metadata": {
    "scrolled": false
   },
   "outputs": [],
   "source": [
    "import pandas as pd\n",
    "import numpy as np\n",
    "from sklearn import datasets, linear_model\n",
    "from sklearn.metrics import mean_squared_error, r2_score\n",
    "from sklearn.linear_model import LinearRegression\n",
    "from sklearn.preprocessing import MinMaxScaler"
   ]
  },
  {
   "cell_type": "code",
   "execution_count": 2,
   "id": "94c92d85",
   "metadata": {
    "scrolled": false
   },
   "outputs": [],
   "source": [
    "# import data\n",
    "data=pd.read_csv('refugee_data/refugee_data_final.csv')\n",
    "data = data[data['country']!='Russian Federation']"
   ]
  },
  {
   "cell_type": "code",
   "execution_count": 3,
   "id": "691fabb2",
   "metadata": {},
   "outputs": [],
   "source": [
    "# if we want to recalc percent total of conflict after dropping Russia...\n",
    "data['pct_tot'] = data['individualPerCountry'] / data.groupby('conflict')['individualPerCountry'].transform('sum')"
   ]
  },
  {
   "cell_type": "code",
   "execution_count": 4,
   "id": "661459fd",
   "metadata": {},
   "outputs": [],
   "source": [
    "data['bilateral_migration_percap'] = data['bilateral_migration']/data['population']"
   ]
  },
  {
   "cell_type": "code",
   "execution_count": 5,
   "id": "0b643a82",
   "metadata": {},
   "outputs": [],
   "source": [
    "data['gdp_per_cap'] = data['gdp_millions']*1000000/data['population']"
   ]
  },
  {
   "cell_type": "code",
   "execution_count": 6,
   "id": "3b3f0460",
   "metadata": {},
   "outputs": [],
   "source": [
    "data['migrants_per_cap'] = data['total_recored_migrants']/data['population']"
   ]
  },
  {
   "cell_type": "code",
   "execution_count": 7,
   "id": "4e8f2861",
   "metadata": {},
   "outputs": [],
   "source": [
    "cols_to_scale = ['bilateral_migration','gdp_millions','population', 'remittances']"
   ]
  },
  {
   "cell_type": "code",
   "execution_count": 8,
   "id": "05099a1f",
   "metadata": {
    "scrolled": true
   },
   "outputs": [
    {
     "name": "stdout",
     "output_type": "stream",
     "text": [
      "bilateral_migration\n",
      "gdp_millions\n",
      "population\n",
      "remittances\n"
     ]
    }
   ],
   "source": [
    "scaler = MinMaxScaler()\n",
    "for col in cols_to_scale:\n",
    "    print(col)\n",
    "    normed = pd.DataFrame()\n",
    "    \n",
    "    for y, x in data.groupby('conflict'):\n",
    "        norm_ = [i[0] for i in scaler.fit_transform(x[col].values.reshape(-1,1))]\n",
    "        countries = x['country']\n",
    "        conflict_ = x['conflict']\n",
    "        res = pd.DataFrame(tuple(zip(countries,conflict_,norm_)), columns=['country','conflict',f\"{col}_norm\"])\n",
    "        normed = normed.append(res)\n",
    "    data = pd.merge(data, normed, left_on=['country','conflict'], right_on=['country','conflict'], how='right')"
   ]
  },
  {
   "cell_type": "code",
   "execution_count": 9,
   "id": "568ea6fe",
   "metadata": {},
   "outputs": [],
   "source": [
    "ukr = data[data['conflict']=='Ukraine']"
   ]
  },
  {
   "cell_type": "code",
   "execution_count": 10,
   "id": "c0fe40e4",
   "metadata": {},
   "outputs": [],
   "source": [
    "#train model without Ukraine so we use withoutUkrain\n",
    "withoutUkrainData=data[(data[\"Ukraine\"]!=1) & (data['touching']==1)]"
   ]
  },
  {
   "cell_type": "code",
   "execution_count": 11,
   "id": "353f1af8",
   "metadata": {
    "scrolled": false
   },
   "outputs": [],
   "source": [
    "# set y variable we are trying to predict\n",
    "y=withoutUkrainData['pct_tot']"
   ]
  },
  {
   "cell_type": "code",
   "execution_count": 12,
   "id": "975bc6d5",
   "metadata": {
    "scrolled": false
   },
   "outputs": [],
   "source": [
    "# set independant variables \n",
    "features_cols = [\n",
    "                    'gdp_millions_norm', \n",
    "                    'v2x_libdem',\n",
    "]\n",
    "features_normalized = withoutUkrainData[features_cols]"
   ]
  },
  {
   "cell_type": "code",
   "execution_count": 13,
   "id": "b5db05fa",
   "metadata": {},
   "outputs": [
    {
     "data": {
      "text/html": [
       "<div>\n",
       "<style scoped>\n",
       "    .dataframe tbody tr th:only-of-type {\n",
       "        vertical-align: middle;\n",
       "    }\n",
       "\n",
       "    .dataframe tbody tr th {\n",
       "        vertical-align: top;\n",
       "    }\n",
       "\n",
       "    .dataframe thead th {\n",
       "        text-align: right;\n",
       "    }\n",
       "</style>\n",
       "<table border=\"1\" class=\"dataframe\">\n",
       "  <thead>\n",
       "    <tr style=\"text-align: right;\">\n",
       "      <th></th>\n",
       "      <th>country</th>\n",
       "      <th>gdp_millions_norm</th>\n",
       "      <th>v2x_libdem</th>\n",
       "    </tr>\n",
       "  </thead>\n",
       "  <tbody>\n",
       "    <tr>\n",
       "      <th>46</th>\n",
       "      <td>Hungary</td>\n",
       "      <td>0.262177</td>\n",
       "      <td>0.362</td>\n",
       "    </tr>\n",
       "    <tr>\n",
       "      <th>47</th>\n",
       "      <td>Moldova</td>\n",
       "      <td>0.000000</td>\n",
       "      <td>0.615</td>\n",
       "    </tr>\n",
       "    <tr>\n",
       "      <th>48</th>\n",
       "      <td>Poland</td>\n",
       "      <td>1.000000</td>\n",
       "      <td>0.413</td>\n",
       "    </tr>\n",
       "    <tr>\n",
       "      <th>49</th>\n",
       "      <td>Romania</td>\n",
       "      <td>0.427543</td>\n",
       "      <td>0.644</td>\n",
       "    </tr>\n",
       "    <tr>\n",
       "      <th>50</th>\n",
       "      <td>Slovakia</td>\n",
       "      <td>0.162305</td>\n",
       "      <td>0.769</td>\n",
       "    </tr>\n",
       "  </tbody>\n",
       "</table>\n",
       "</div>"
      ],
      "text/plain": [
       "     country  gdp_millions_norm  v2x_libdem\n",
       "46   Hungary           0.262177       0.362\n",
       "47   Moldova           0.000000       0.615\n",
       "48    Poland           1.000000       0.413\n",
       "49   Romania           0.427543       0.644\n",
       "50  Slovakia           0.162305       0.769"
      ]
     },
     "execution_count": 13,
     "metadata": {},
     "output_type": "execute_result"
    }
   ],
   "source": [
    "ukr[['country']+features_cols]"
   ]
  },
  {
   "cell_type": "code",
   "execution_count": 14,
   "id": "1068d92e",
   "metadata": {
    "scrolled": false
   },
   "outputs": [],
   "source": [
    "# Run the linear regression. \n",
    "import statsmodels.api as sm"
   ]
  },
  {
   "cell_type": "code",
   "execution_count": 15,
   "id": "5d7e76ed",
   "metadata": {
    "scrolled": false
   },
   "outputs": [],
   "source": [
    "results=sm.OLS(y,features_normalized).fit()"
   ]
  },
  {
   "cell_type": "code",
   "execution_count": 16,
   "id": "35302dec",
   "metadata": {
    "scrolled": false
   },
   "outputs": [
    {
     "data": {
      "text/html": [
       "<table class=\"simpletable\">\n",
       "<caption>OLS Regression Results</caption>\n",
       "<tr>\n",
       "  <th>Dep. Variable:</th>         <td>pct_tot</td>     <th>  R-squared (uncentered):</th>      <td>   0.568</td>\n",
       "</tr>\n",
       "<tr>\n",
       "  <th>Model:</th>                   <td>OLS</td>       <th>  Adj. R-squared (uncentered):</th> <td>   0.545</td>\n",
       "</tr>\n",
       "<tr>\n",
       "  <th>Method:</th>             <td>Least Squares</td>  <th>  F-statistic:       </th>          <td>   24.96</td>\n",
       "</tr>\n",
       "<tr>\n",
       "  <th>Date:</th>             <td>Fri, 15 Apr 2022</td> <th>  Prob (F-statistic):</th>          <td>1.20e-07</td>\n",
       "</tr>\n",
       "<tr>\n",
       "  <th>Time:</th>                 <td>09:49:50</td>     <th>  Log-Likelihood:    </th>          <td>  11.048</td>\n",
       "</tr>\n",
       "<tr>\n",
       "  <th>No. Observations:</th>      <td>    40</td>      <th>  AIC:               </th>          <td>  -18.10</td>\n",
       "</tr>\n",
       "<tr>\n",
       "  <th>Df Residuals:</th>          <td>    38</td>      <th>  BIC:               </th>          <td>  -14.72</td>\n",
       "</tr>\n",
       "<tr>\n",
       "  <th>Df Model:</th>              <td>     2</td>      <th>                     </th>              <td> </td>   \n",
       "</tr>\n",
       "<tr>\n",
       "  <th>Covariance Type:</th>      <td>nonrobust</td>    <th>                     </th>              <td> </td>   \n",
       "</tr>\n",
       "</table>\n",
       "<table class=\"simpletable\">\n",
       "<tr>\n",
       "          <td></td>             <th>coef</th>     <th>std err</th>      <th>t</th>      <th>P>|t|</th>  <th>[0.025</th>    <th>0.975]</th>  \n",
       "</tr>\n",
       "<tr>\n",
       "  <th>gdp_millions_norm</th> <td>    0.2344</td> <td>    0.073</td> <td>    3.194</td> <td> 0.003</td> <td>    0.086</td> <td>    0.383</td>\n",
       "</tr>\n",
       "<tr>\n",
       "  <th>v2x_libdem</th>        <td>    0.4026</td> <td>    0.146</td> <td>    2.753</td> <td> 0.009</td> <td>    0.107</td> <td>    0.699</td>\n",
       "</tr>\n",
       "</table>\n",
       "<table class=\"simpletable\">\n",
       "<tr>\n",
       "  <th>Omnibus:</th>       <td> 4.580</td> <th>  Durbin-Watson:     </th> <td>   2.316</td>\n",
       "</tr>\n",
       "<tr>\n",
       "  <th>Prob(Omnibus):</th> <td> 0.101</td> <th>  Jarque-Bera (JB):  </th> <td>   4.491</td>\n",
       "</tr>\n",
       "<tr>\n",
       "  <th>Skew:</th>          <td> 0.215</td> <th>  Prob(JB):          </th> <td>   0.106</td>\n",
       "</tr>\n",
       "<tr>\n",
       "  <th>Kurtosis:</th>      <td> 4.584</td> <th>  Cond. No.          </th> <td>    2.92</td>\n",
       "</tr>\n",
       "</table><br/><br/>Notes:<br/>[1] R² is computed without centering (uncentered) since the model does not contain a constant.<br/>[2] Standard Errors assume that the covariance matrix of the errors is correctly specified."
      ],
      "text/plain": [
       "<class 'statsmodels.iolib.summary.Summary'>\n",
       "\"\"\"\n",
       "                                 OLS Regression Results                                \n",
       "=======================================================================================\n",
       "Dep. Variable:                pct_tot   R-squared (uncentered):                   0.568\n",
       "Model:                            OLS   Adj. R-squared (uncentered):              0.545\n",
       "Method:                 Least Squares   F-statistic:                              24.96\n",
       "Date:                Fri, 15 Apr 2022   Prob (F-statistic):                    1.20e-07\n",
       "Time:                        09:49:50   Log-Likelihood:                          11.048\n",
       "No. Observations:                  40   AIC:                                     -18.10\n",
       "Df Residuals:                      38   BIC:                                     -14.72\n",
       "Df Model:                           2                                                  \n",
       "Covariance Type:            nonrobust                                                  \n",
       "=====================================================================================\n",
       "                        coef    std err          t      P>|t|      [0.025      0.975]\n",
       "-------------------------------------------------------------------------------------\n",
       "gdp_millions_norm     0.2344      0.073      3.194      0.003       0.086       0.383\n",
       "v2x_libdem            0.4026      0.146      2.753      0.009       0.107       0.699\n",
       "==============================================================================\n",
       "Omnibus:                        4.580   Durbin-Watson:                   2.316\n",
       "Prob(Omnibus):                  0.101   Jarque-Bera (JB):                4.491\n",
       "Skew:                           0.215   Prob(JB):                        0.106\n",
       "Kurtosis:                       4.584   Cond. No.                         2.92\n",
       "==============================================================================\n",
       "\n",
       "Notes:\n",
       "[1] R² is computed without centering (uncentered) since the model does not contain a constant.\n",
       "[2] Standard Errors assume that the covariance matrix of the errors is correctly specified.\n",
       "\"\"\""
      ]
     },
     "execution_count": 16,
     "metadata": {},
     "output_type": "execute_result"
    }
   ],
   "source": [
    "results.summary()"
   ]
  },
  {
   "cell_type": "code",
   "execution_count": 17,
   "id": "7bded091",
   "metadata": {},
   "outputs": [],
   "source": [
    "features_to_predict=data[features_cols]\n",
    "shares = results.predict(features_to_predict)\n",
    "data['predicted_shares'] = shares\n",
    "ukr_results = data[data['Ukraine']==1][['country','pct_tot','predicted_shares']]\n",
    "ukr_results.to_csv('outputs/ukraine_model_results.csv',index=False)"
   ]
  },
  {
   "cell_type": "code",
   "execution_count": 18,
   "id": "cbb24895",
   "metadata": {},
   "outputs": [
    {
     "data": {
      "text/html": [
       "<div>\n",
       "<style scoped>\n",
       "    .dataframe tbody tr th:only-of-type {\n",
       "        vertical-align: middle;\n",
       "    }\n",
       "\n",
       "    .dataframe tbody tr th {\n",
       "        vertical-align: top;\n",
       "    }\n",
       "\n",
       "    .dataframe thead th {\n",
       "        text-align: right;\n",
       "    }\n",
       "</style>\n",
       "<table border=\"1\" class=\"dataframe\">\n",
       "  <thead>\n",
       "    <tr style=\"text-align: right;\">\n",
       "      <th></th>\n",
       "      <th>country</th>\n",
       "      <th>pct_tot</th>\n",
       "      <th>predicted_shares</th>\n",
       "    </tr>\n",
       "  </thead>\n",
       "  <tbody>\n",
       "    <tr>\n",
       "      <th>46</th>\n",
       "      <td>Hungary</td>\n",
       "      <td>0.094222</td>\n",
       "      <td>0.207200</td>\n",
       "    </tr>\n",
       "    <tr>\n",
       "      <th>47</th>\n",
       "      <td>Moldova</td>\n",
       "      <td>0.093682</td>\n",
       "      <td>0.247616</td>\n",
       "    </tr>\n",
       "    <tr>\n",
       "      <th>48</th>\n",
       "      <td>Poland</td>\n",
       "      <td>0.586410</td>\n",
       "      <td>0.400666</td>\n",
       "    </tr>\n",
       "    <tr>\n",
       "      <th>49</th>\n",
       "      <td>Romania</td>\n",
       "      <td>0.154561</td>\n",
       "      <td>0.359500</td>\n",
       "    </tr>\n",
       "    <tr>\n",
       "      <th>50</th>\n",
       "      <td>Slovakia</td>\n",
       "      <td>0.071125</td>\n",
       "      <td>0.347662</td>\n",
       "    </tr>\n",
       "  </tbody>\n",
       "</table>\n",
       "</div>"
      ],
      "text/plain": [
       "     country   pct_tot  predicted_shares\n",
       "46   Hungary  0.094222          0.207200\n",
       "47   Moldova  0.093682          0.247616\n",
       "48    Poland  0.586410          0.400666\n",
       "49   Romania  0.154561          0.359500\n",
       "50  Slovakia  0.071125          0.347662"
      ]
     },
     "execution_count": 18,
     "metadata": {},
     "output_type": "execute_result"
    }
   ],
   "source": [
    "ukr_results"
   ]
  }
 ],
 "metadata": {
  "kernelspec": {
   "display_name": "Python 3 (ipykernel)",
   "language": "python",
   "name": "python3"
  },
  "language_info": {
   "codemirror_mode": {
    "name": "ipython",
    "version": 3
   },
   "file_extension": ".py",
   "mimetype": "text/x-python",
   "name": "python",
   "nbconvert_exporter": "python",
   "pygments_lexer": "ipython3",
   "version": "3.9.7"
  }
 },
 "nbformat": 4,
 "nbformat_minor": 5
}
