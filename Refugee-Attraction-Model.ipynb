{
 "cells": [
  {
   "cell_type": "markdown",
   "id": "4eaab47b",
   "metadata": {},
   "source": [
    "# Country Level Attraction Model\n",
    "\n",
    "This notebook is used to generate a country level attraction model that can be used to assess the relative \"attractiveness\" of safe haven countries to refugees in the case of a forced migration event such as conflict or natural disaster.\n",
    "\n",
    "After testing various functional forms and features, the model ultimately looks like:\n",
    "\n",
    "```\n",
    "total_refugees = b1*GDP + b2*liberal_democracy\n",
    "```\n",
    "\n",
    "where `b1` is a coefficient term for GDP and `b2` that of liberal democracy score."
   ]
  },
  {
   "cell_type": "code",
   "execution_count": 1,
   "id": "1b6208b5",
   "metadata": {},
   "outputs": [],
   "source": [
    "import pandas as pd\n",
    "import numpy as np\n",
    "from sklearn import datasets, linear_model\n",
    "from sklearn.metrics import mean_squared_error, r2_score\n",
    "from sklearn.linear_model import LinearRegression\n",
    "from sklearn.preprocessing import MinMaxScaler\n",
    "from fuzzywuzzy import process\n",
    "import statsmodels.api as sm"
   ]
  },
  {
   "cell_type": "markdown",
   "id": "d52f1e01",
   "metadata": {},
   "source": [
    "## Data Preparation"
   ]
  },
  {
   "cell_type": "markdown",
   "id": "a56f7cfb",
   "metadata": {},
   "source": [
    "First we load the refugee dataset which was curated from UNHCR and other sources. We can exclude data on Russia for the time being since it isn't considered as a haven country:"
   ]
  },
  {
   "cell_type": "code",
   "execution_count": 2,
   "id": "94c92d85",
   "metadata": {
    "scrolled": false
   },
   "outputs": [
    {
     "name": "stdout",
     "output_type": "stream",
     "text": [
      "This dataset contains refugee data on the following conflicts:\n",
      "\t - Afghanistan\n",
      "\t - Burundi\n",
      "\t - Central African Republic\n",
      "\t - Democratic Republic of the Congo\n",
      "\t - Nigeria\n",
      "\t - Somalia\n",
      "\t - South Sudan\n",
      "\t - Syria\n",
      "\t - Ukraine\n",
      "\t - Venezuela\n"
     ]
    }
   ],
   "source": [
    "data=pd.read_csv('refugee_data/refugee_conflict_5.20.22.csv')\n",
    "\n",
    "conflicts = '\\n\\t - '.join(data.conflict.unique())\n",
    "print(f\"This dataset contains refugee data on the following conflicts:\\n\\t - {conflicts}\")"
   ]
  },
  {
   "cell_type": "markdown",
   "id": "cc803896",
   "metadata": {},
   "source": [
    "This dataset includes the `country` where refugees went `individualPerCountry` which contains the total refugees who went to `country` from the `conflict`. It also has a number of features we can try to use to model drivers of refugee migration:"
   ]
  },
  {
   "cell_type": "markdown",
   "id": "10005d78",
   "metadata": {},
   "source": [
    "Next, we load in and process the liberal democracy index and access to justic for women from [V-Dem](https://www.v-dem.net/).\n",
    "\n",
    "A key step is looking up V-Dem values for each country during the year **_preceding_** the conflict since this will best represent the initial conditions under which refugees made decisions."
   ]
  },
  {
   "cell_type": "markdown",
   "id": "56967d6b",
   "metadata": {},
   "source": [
    "## Featurization and Normalization\n",
    "\n",
    "Next we calculate various features that will be relevant to our model training. These include:\n",
    "\n",
    "- `pct_tot`: total percentage of people from `conflict A` who went to `country Z`\n",
    "- `bilateral_migration_percap`: the amount of bilateral migration (from `conflict A` to `country Z`) per capita (with respect to `country Z` population)\n",
    "- `gpd_per_cap`: per capita GDP for `country Z`\n",
    "- `migrants_per_cap`: total migrants per capita for `country Z`\n",
    "\n",
    "We then scale these using a [`MinMaxScaler`](https://scikit-learn.org/stable/modules/generated/sklearn.preprocessing.MinMaxScaler.html) which normalizes them to between 0 and 1 on a **_per conflict basis_**. "
   ]
  },
  {
   "cell_type": "markdown",
   "id": "5afffa72",
   "metadata": {},
   "source": [
    "Normalizing within each conflict is crucial since it facilitates comparision of haven countries for a given conflict and reduces the model's tendency to compare grossly across all conflicts.\n",
    "\n",
    "For example, imagine two conflicts: one in Western Europe and one in Latin America. The potential haven countries in Western Europe will _all be wealthier_ than those in Latin America (generally speaking). Therefore, normalizing _across_ these conflicts would lead to very low normalized GDPs for all Latin American havens and reduce the model's explanatory power.\n",
    "\n",
    "Instead, we perform `0 to 1` normalization for all possible haven countries with respect to each conflict so that Latin American countries (in this example) are only normalized relative to their neighbors."
   ]
  },
  {
   "cell_type": "markdown",
   "id": "bcbe1320",
   "metadata": {},
   "source": [
    "## Preparing for modeling\n",
    "\n",
    "Next, we remove the Ukraine conflict and its corresponding countries from the dataset so that we can exclude them from model training.\n",
    "\n",
    "First we create a dataframe of just Ukraine conflict:"
   ]
  },
  {
   "cell_type": "code",
   "execution_count": 4,
   "id": "568ea6fe",
   "metadata": {},
   "outputs": [],
   "source": [
    "ukr = data[data.conflict=='Ukraine'].copy(deep=True)"
   ]
  },
  {
   "cell_type": "markdown",
   "id": "30f690c8",
   "metadata": {},
   "source": [
    "Next, we create a dataframe without Ukraine to train the model:"
   ]
  },
  {
   "cell_type": "code",
   "execution_count": 5,
   "id": "c0fe40e4",
   "metadata": {},
   "outputs": [],
   "source": [
    "withoutUkrainData=data[(data.conflict != 'Ukraine') & (data['is_bordering']==1)]"
   ]
  },
  {
   "cell_type": "markdown",
   "id": "89047f1f",
   "metadata": {},
   "source": [
    "We define the dependant variable as `pct_tot`: the total percentage of refugees from the conflict who went to each country. This provides a mechanism of normalizing refugee counts _across_ conflicts since really we only care about predicting refugee _shares_, not total number of refugees at this point:"
   ]
  },
  {
   "cell_type": "code",
   "execution_count": 6,
   "id": "353f1af8",
   "metadata": {
    "scrolled": false
   },
   "outputs": [],
   "source": [
    "y=withoutUkrainData['pct_tot']"
   ]
  },
  {
   "cell_type": "markdown",
   "id": "bd181f0d",
   "metadata": {},
   "source": [
    "Here, we are able to set independant variables for modeling. We choose only `historic_GDP_norm` (within conflict normalized GDP) and `v2x_libdem` (which is not normalized since it is already an index).\n",
    "\n",
    "Other features were tested; they can simply be added to the array below to try additional features with the model."
   ]
  },
  {
   "cell_type": "code",
   "execution_count": 7,
   "id": "975bc6d5",
   "metadata": {
    "scrolled": false
   },
   "outputs": [],
   "source": [
    "features_cols = [\n",
    "                    'GDP (current US$)_norm', \n",
    "                    'v2x_libdem',\n",
    "                ]\n",
    "features_normalized = withoutUkrainData[features_cols]"
   ]
  },
  {
   "cell_type": "markdown",
   "id": "b0a38b59",
   "metadata": {},
   "source": [
    "## Modeling\n",
    "\n",
    "Finally, we are able to run the model itself. We run a multiple regression using Statsmodels:"
   ]
  },
  {
   "cell_type": "code",
   "execution_count": 8,
   "id": "5d7e76ed",
   "metadata": {
    "scrolled": false
   },
   "outputs": [
    {
     "data": {
      "text/html": [
       "<table class=\"simpletable\">\n",
       "<caption>OLS Regression Results</caption>\n",
       "<tr>\n",
       "  <th>Dep. Variable:</th>         <td>pct_tot</td>     <th>  R-squared (uncentered):</th>      <td>   0.592</td>\n",
       "</tr>\n",
       "<tr>\n",
       "  <th>Model:</th>                   <td>OLS</td>       <th>  Adj. R-squared (uncentered):</th> <td>   0.571</td>\n",
       "</tr>\n",
       "<tr>\n",
       "  <th>Method:</th>             <td>Least Squares</td>  <th>  F-statistic:       </th>          <td>   27.57</td>\n",
       "</tr>\n",
       "<tr>\n",
       "  <th>Date:</th>             <td>Fri, 20 May 2022</td> <th>  Prob (F-statistic):</th>          <td>4.01e-08</td>\n",
       "</tr>\n",
       "<tr>\n",
       "  <th>Time:</th>                 <td>21:29:53</td>     <th>  Log-Likelihood:    </th>          <td>  12.201</td>\n",
       "</tr>\n",
       "<tr>\n",
       "  <th>No. Observations:</th>      <td>    40</td>      <th>  AIC:               </th>          <td>  -20.40</td>\n",
       "</tr>\n",
       "<tr>\n",
       "  <th>Df Residuals:</th>          <td>    38</td>      <th>  BIC:               </th>          <td>  -17.02</td>\n",
       "</tr>\n",
       "<tr>\n",
       "  <th>Df Model:</th>              <td>     2</td>      <th>                     </th>              <td> </td>   \n",
       "</tr>\n",
       "<tr>\n",
       "  <th>Covariance Type:</th>      <td>nonrobust</td>    <th>                     </th>              <td> </td>   \n",
       "</tr>\n",
       "</table>\n",
       "<table class=\"simpletable\">\n",
       "<tr>\n",
       "             <td></td>               <th>coef</th>     <th>std err</th>      <th>t</th>      <th>P>|t|</th>  <th>[0.025</th>    <th>0.975]</th>  \n",
       "</tr>\n",
       "<tr>\n",
       "  <th>GDP (current US$)_norm</th> <td>    0.2548</td> <td>    0.071</td> <td>    3.614</td> <td> 0.001</td> <td>    0.112</td> <td>    0.398</td>\n",
       "</tr>\n",
       "<tr>\n",
       "  <th>v2x_libdem</th>             <td>    0.3878</td> <td>    0.139</td> <td>    2.781</td> <td> 0.008</td> <td>    0.105</td> <td>    0.670</td>\n",
       "</tr>\n",
       "</table>\n",
       "<table class=\"simpletable\">\n",
       "<tr>\n",
       "  <th>Omnibus:</th>       <td> 3.060</td> <th>  Durbin-Watson:     </th> <td>   2.339</td>\n",
       "</tr>\n",
       "<tr>\n",
       "  <th>Prob(Omnibus):</th> <td> 0.217</td> <th>  Jarque-Bera (JB):  </th> <td>   2.159</td>\n",
       "</tr>\n",
       "<tr>\n",
       "  <th>Skew:</th>          <td>-0.188</td> <th>  Prob(JB):          </th> <td>   0.340</td>\n",
       "</tr>\n",
       "<tr>\n",
       "  <th>Kurtosis:</th>      <td> 4.074</td> <th>  Cond. No.          </th> <td>    2.84</td>\n",
       "</tr>\n",
       "</table><br/><br/>Notes:<br/>[1] R² is computed without centering (uncentered) since the model does not contain a constant.<br/>[2] Standard Errors assume that the covariance matrix of the errors is correctly specified."
      ],
      "text/plain": [
       "<class 'statsmodels.iolib.summary.Summary'>\n",
       "\"\"\"\n",
       "                                 OLS Regression Results                                \n",
       "=======================================================================================\n",
       "Dep. Variable:                pct_tot   R-squared (uncentered):                   0.592\n",
       "Model:                            OLS   Adj. R-squared (uncentered):              0.571\n",
       "Method:                 Least Squares   F-statistic:                              27.57\n",
       "Date:                Fri, 20 May 2022   Prob (F-statistic):                    4.01e-08\n",
       "Time:                        21:29:53   Log-Likelihood:                          12.201\n",
       "No. Observations:                  40   AIC:                                     -20.40\n",
       "Df Residuals:                      38   BIC:                                     -17.02\n",
       "Df Model:                           2                                                  \n",
       "Covariance Type:            nonrobust                                                  \n",
       "==========================================================================================\n",
       "                             coef    std err          t      P>|t|      [0.025      0.975]\n",
       "------------------------------------------------------------------------------------------\n",
       "GDP (current US$)_norm     0.2548      0.071      3.614      0.001       0.112       0.398\n",
       "v2x_libdem                 0.3878      0.139      2.781      0.008       0.105       0.670\n",
       "==============================================================================\n",
       "Omnibus:                        3.060   Durbin-Watson:                   2.339\n",
       "Prob(Omnibus):                  0.217   Jarque-Bera (JB):                2.159\n",
       "Skew:                          -0.188   Prob(JB):                        0.340\n",
       "Kurtosis:                       4.074   Cond. No.                         2.84\n",
       "==============================================================================\n",
       "\n",
       "Notes:\n",
       "[1] R² is computed without centering (uncentered) since the model does not contain a constant.\n",
       "[2] Standard Errors assume that the covariance matrix of the errors is correctly specified.\n",
       "\"\"\""
      ]
     },
     "execution_count": 8,
     "metadata": {},
     "output_type": "execute_result"
    }
   ],
   "source": [
    "results=sm.OLS(y,features_normalized.astype(float)).fit()\n",
    "results.summary()"
   ]
  },
  {
   "cell_type": "markdown",
   "id": "7d58a13a",
   "metadata": {},
   "source": [
    "Here we can see that our two features are statistically significant and explain a large portion of the variation within the dependent variable (refugee share)."
   ]
  },
  {
   "cell_type": "markdown",
   "id": "085a9f6e",
   "metadata": {},
   "source": [
    "## Backcasting Ukraine\n",
    "\n",
    "Now we are ready to produce a forecast for Ukraine."
   ]
  },
  {
   "cell_type": "code",
   "execution_count": 12,
   "id": "389974ca",
   "metadata": {},
   "outputs": [
    {
     "name": "stderr",
     "output_type": "stream",
     "text": [
      "/var/folders/pp/vgfp1wf143q46m_8v6qbt3bw0000gn/T/ipykernel_72756/2378691609.py:9: SettingWithCopyWarning: \n",
      "A value is trying to be set on a copy of a slice from a DataFrame.\n",
      "Try using .loc[row_indexer,col_indexer] = value instead\n",
      "\n",
      "See the caveats in the documentation: https://pandas.pydata.org/pandas-docs/stable/user_guide/indexing.html#returning-a-view-versus-a-copy\n",
      "  ukr_results['scaled'] = ukr_results['predicted_shares'] / ukr_results['predicted_shares'].sum()\n",
      "/var/folders/pp/vgfp1wf143q46m_8v6qbt3bw0000gn/T/ipykernel_72756/2378691609.py:10: SettingWithCopyWarning: \n",
      "A value is trying to be set on a copy of a slice from a DataFrame.\n",
      "Try using .loc[row_indexer,col_indexer] = value instead\n",
      "\n",
      "See the caveats in the documentation: https://pandas.pydata.org/pandas-docs/stable/user_guide/indexing.html#returning-a-view-versus-a-copy\n",
      "  ukr_results['predicted_shares'] = ukr_results['scaled']\n",
      "/var/folders/pp/vgfp1wf143q46m_8v6qbt3bw0000gn/T/ipykernel_72756/2378691609.py:12: SettingWithCopyWarning: \n",
      "A value is trying to be set on a copy of a slice from a DataFrame\n",
      "\n",
      "See the caveats in the documentation: https://pandas.pydata.org/pandas-docs/stable/user_guide/indexing.html#returning-a-view-versus-a-copy\n",
      "  ukr_results.rename(columns={'pct_tot': 'actual', 'predicted_shares': 'predicted'}, inplace=True)\n"
     ]
    },
    {
     "data": {
      "text/html": [
       "<div>\n",
       "<style scoped>\n",
       "    .dataframe tbody tr th:only-of-type {\n",
       "        vertical-align: middle;\n",
       "    }\n",
       "\n",
       "    .dataframe tbody tr th {\n",
       "        vertical-align: top;\n",
       "    }\n",
       "\n",
       "    .dataframe thead th {\n",
       "        text-align: right;\n",
       "    }\n",
       "</style>\n",
       "<table border=\"1\" class=\"dataframe\">\n",
       "  <thead>\n",
       "    <tr style=\"text-align: right;\">\n",
       "      <th></th>\n",
       "      <th>actual</th>\n",
       "      <th>predicted</th>\n",
       "    </tr>\n",
       "    <tr>\n",
       "      <th>country</th>\n",
       "      <th></th>\n",
       "      <th></th>\n",
       "    </tr>\n",
       "  </thead>\n",
       "  <tbody>\n",
       "    <tr>\n",
       "      <th>Hungary</th>\n",
       "      <td>0.091808</td>\n",
       "      <td>0.107708</td>\n",
       "    </tr>\n",
       "    <tr>\n",
       "      <th>Belarus</th>\n",
       "      <td>0.004001</td>\n",
       "      <td>0.024912</td>\n",
       "    </tr>\n",
       "    <tr>\n",
       "      <th>Moldova</th>\n",
       "      <td>0.068523</td>\n",
       "      <td>0.120277</td>\n",
       "    </tr>\n",
       "    <tr>\n",
       "      <th>Poland</th>\n",
       "      <td>0.504044</td>\n",
       "      <td>0.184235</td>\n",
       "    </tr>\n",
       "    <tr>\n",
       "      <th>Romania</th>\n",
       "      <td>0.138180</td>\n",
       "      <td>0.169992</td>\n",
       "    </tr>\n",
       "    <tr>\n",
       "      <th>Russian Federation</th>\n",
       "      <td>0.130068</td>\n",
       "      <td>0.192083</td>\n",
       "    </tr>\n",
       "    <tr>\n",
       "      <th>Slovakia</th>\n",
       "      <td>0.063375</td>\n",
       "      <td>0.200793</td>\n",
       "    </tr>\n",
       "  </tbody>\n",
       "</table>\n",
       "</div>"
      ],
      "text/plain": [
       "                      actual  predicted\n",
       "country                                \n",
       "Hungary             0.091808   0.107708\n",
       "Belarus             0.004001   0.024912\n",
       "Moldova             0.068523   0.120277\n",
       "Poland              0.504044   0.184235\n",
       "Romania             0.138180   0.169992\n",
       "Russian Federation  0.130068   0.192083\n",
       "Slovakia            0.063375   0.200793"
      ]
     },
     "metadata": {},
     "output_type": "display_data"
    }
   ],
   "source": [
    "# get refugee shares prediction for Ukraine\n",
    "features_to_predict=ukr[features_cols]\n",
    "shares = results.predict(features_to_predict)\n",
    "\n",
    "# add them to Ukraine dataframe\n",
    "ukr['predicted_shares'] = shares\n",
    "ukr_results = ukr[['country','pct_tot','predicted_shares']]\n",
    "\n",
    "ukr_results['scaled'] = ukr_results['predicted_shares'] / ukr_results['predicted_shares'].sum()\n",
    "ukr_results['predicted_shares'] = ukr_results['scaled']\n",
    "del(ukr_results['scaled'])\n",
    "ukr_results.rename(columns={'pct_tot': 'actual', 'predicted_shares': 'predicted'}, inplace=True)\n",
    "display(ukr_results.set_index('country'))"
   ]
  },
  {
   "cell_type": "code",
   "execution_count": 13,
   "id": "313f78bb",
   "metadata": {
    "scrolled": true
   },
   "outputs": [
    {
     "data": {
      "text/plain": [
       "0.018483978708818637"
      ]
     },
     "execution_count": 13,
     "metadata": {},
     "output_type": "execute_result"
    }
   ],
   "source": [
    "mean_squared_error(ukr_results.actual, ukr_results.predicted)"
   ]
  },
  {
   "cell_type": "code",
   "execution_count": 15,
   "id": "7bded091",
   "metadata": {},
   "outputs": [
    {
     "data": {
      "text/html": [
       "<div>\n",
       "<style scoped>\n",
       "    .dataframe tbody tr th:only-of-type {\n",
       "        vertical-align: middle;\n",
       "    }\n",
       "\n",
       "    .dataframe tbody tr th {\n",
       "        vertical-align: top;\n",
       "    }\n",
       "\n",
       "    .dataframe thead th {\n",
       "        text-align: right;\n",
       "    }\n",
       "</style>\n",
       "<table border=\"1\" class=\"dataframe\">\n",
       "  <thead>\n",
       "    <tr style=\"text-align: right;\">\n",
       "      <th></th>\n",
       "      <th>country</th>\n",
       "      <th>actual</th>\n",
       "      <th>predicted</th>\n",
       "    </tr>\n",
       "  </thead>\n",
       "  <tbody>\n",
       "    <tr>\n",
       "      <th>46</th>\n",
       "      <td>Hungary</td>\n",
       "      <td>0.091808</td>\n",
       "      <td>0.107708</td>\n",
       "    </tr>\n",
       "    <tr>\n",
       "      <th>47</th>\n",
       "      <td>Belarus</td>\n",
       "      <td>0.004001</td>\n",
       "      <td>0.024912</td>\n",
       "    </tr>\n",
       "    <tr>\n",
       "      <th>48</th>\n",
       "      <td>Moldova</td>\n",
       "      <td>0.068523</td>\n",
       "      <td>0.120277</td>\n",
       "    </tr>\n",
       "    <tr>\n",
       "      <th>49</th>\n",
       "      <td>Poland</td>\n",
       "      <td>0.504044</td>\n",
       "      <td>0.184235</td>\n",
       "    </tr>\n",
       "    <tr>\n",
       "      <th>50</th>\n",
       "      <td>Romania</td>\n",
       "      <td>0.138180</td>\n",
       "      <td>0.169992</td>\n",
       "    </tr>\n",
       "  </tbody>\n",
       "</table>\n",
       "</div>"
      ],
      "text/plain": [
       "    country    actual  predicted\n",
       "46  Hungary  0.091808   0.107708\n",
       "47  Belarus  0.004001   0.024912\n",
       "48  Moldova  0.068523   0.120277\n",
       "49   Poland  0.504044   0.184235\n",
       "50  Romania  0.138180   0.169992"
      ]
     },
     "execution_count": 15,
     "metadata": {},
     "output_type": "execute_result"
    }
   ],
   "source": [
    "# save the results\n",
    "ukr_results.to_csv('outputs/ukraine_model_results.csv',index=False)\n",
    "ukr_results.head()"
   ]
  },
  {
   "cell_type": "markdown",
   "id": "a57153a2",
   "metadata": {},
   "source": [
    "Finally, we can pickle the model for future use:"
   ]
  },
  {
   "cell_type": "code",
   "execution_count": 16,
   "id": "d3dd3f11",
   "metadata": {},
   "outputs": [],
   "source": [
    "results.save(\"outputs/attraction_model.pickle\")"
   ]
  }
 ],
 "metadata": {
  "kernelspec": {
   "display_name": "Python 3 (ipykernel)",
   "language": "python",
   "name": "python3"
  },
  "language_info": {
   "codemirror_mode": {
    "name": "ipython",
    "version": 3
   },
   "file_extension": ".py",
   "mimetype": "text/x-python",
   "name": "python",
   "nbconvert_exporter": "python",
   "pygments_lexer": "ipython3",
   "version": "3.9.7"
  }
 },
 "nbformat": 4,
 "nbformat_minor": 5
}
