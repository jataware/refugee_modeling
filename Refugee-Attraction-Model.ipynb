{
 "cells": [
  {
   "cell_type": "markdown",
   "id": "4eaab47b",
   "metadata": {},
   "source": [
    "# Country Level Attraction Model\n",
    "\n",
    "This notebook is used to generate a country level attraction model that can be used to assess the relative \"attractiveness\" of safe haven countries to refugees in the case of a forced migration event such as conflict or natural disaster.\n",
    "\n",
    "After testing various functional forms and features, the model ultimately looks like:\n",
    "\n",
    "```\n",
    "total_refugees = b1*GDP + b2*liberal_democracy\n",
    "```\n",
    "\n",
    "where `b1` is a coefficient term for GDP and `b2` that of liberal democracy score."
   ]
  },
  {
   "cell_type": "code",
   "execution_count": 1,
   "id": "1b6208b5",
   "metadata": {},
   "outputs": [],
   "source": [
    "import pandas as pd\n",
    "import numpy as np\n",
    "from sklearn import datasets, linear_model\n",
    "from sklearn.metrics import mean_squared_error, r2_score\n",
    "from sklearn.linear_model import LinearRegression\n",
    "from sklearn.preprocessing import MinMaxScaler\n",
    "from fuzzywuzzy import process\n",
    "import statsmodels.api as sm"
   ]
  },
  {
   "cell_type": "markdown",
   "id": "d52f1e01",
   "metadata": {},
   "source": [
    "## Data Preparation"
   ]
  },
  {
   "cell_type": "markdown",
   "id": "a56f7cfb",
   "metadata": {},
   "source": [
    "First we load the refugee dataset which was curated from UNHCR and other sources. We can exclude data on Russia for the time being since it isn't considered as a haven country:"
   ]
  },
  {
   "cell_type": "code",
   "execution_count": 2,
   "id": "94c92d85",
   "metadata": {
    "scrolled": false
   },
   "outputs": [],
   "source": [
    "data=pd.read_csv('refugee_data/merged_refugee_data.csv')"
   ]
  },
  {
   "cell_type": "code",
   "execution_count": 3,
   "id": "85100f06",
   "metadata": {},
   "outputs": [
    {
     "data": {
      "text/html": [
       "<div>\n",
       "<style scoped>\n",
       "    .dataframe tbody tr th:only-of-type {\n",
       "        vertical-align: middle;\n",
       "    }\n",
       "\n",
       "    .dataframe tbody tr th {\n",
       "        vertical-align: top;\n",
       "    }\n",
       "\n",
       "    .dataframe thead th {\n",
       "        text-align: right;\n",
       "    }\n",
       "</style>\n",
       "<table border=\"1\" class=\"dataframe\">\n",
       "  <thead>\n",
       "    <tr style=\"text-align: right;\">\n",
       "      <th></th>\n",
       "      <th>Year</th>\n",
       "      <th>Country of origin</th>\n",
       "      <th>Country of origin (ISO)</th>\n",
       "      <th>Country of asylum</th>\n",
       "      <th>Country of asylum (ISO)</th>\n",
       "      <th>Refugees under UNHCR's mandate</th>\n",
       "      <th>is_bordering</th>\n",
       "      <th>Country Code</th>\n",
       "      <th>v2xeg_eqdr</th>\n",
       "      <th>v2x_libdem</th>\n",
       "      <th>GDP (current US$)</th>\n",
       "      <th>Population, total</th>\n",
       "    </tr>\n",
       "  </thead>\n",
       "  <tbody>\n",
       "    <tr>\n",
       "      <th>0</th>\n",
       "      <td>2000</td>\n",
       "      <td>Afghanistan</td>\n",
       "      <td>AFG</td>\n",
       "      <td>Afghanistan</td>\n",
       "      <td>AFG</td>\n",
       "      <td>0</td>\n",
       "      <td>False</td>\n",
       "      <td>AFG</td>\n",
       "      <td>NaN</td>\n",
       "      <td>NaN</td>\n",
       "      <td>NaN</td>\n",
       "      <td>20779957.0</td>\n",
       "    </tr>\n",
       "    <tr>\n",
       "      <th>1</th>\n",
       "      <td>2000</td>\n",
       "      <td>Afghanistan</td>\n",
       "      <td>AFG</td>\n",
       "      <td>Egypt</td>\n",
       "      <td>EGY</td>\n",
       "      <td>60</td>\n",
       "      <td>False</td>\n",
       "      <td>EGY</td>\n",
       "      <td>NaN</td>\n",
       "      <td>NaN</td>\n",
       "      <td>9.983854e+10</td>\n",
       "      <td>68831561.0</td>\n",
       "    </tr>\n",
       "    <tr>\n",
       "      <th>2</th>\n",
       "      <td>2000</td>\n",
       "      <td>Afghanistan</td>\n",
       "      <td>AFG</td>\n",
       "      <td>Australia</td>\n",
       "      <td>AUS</td>\n",
       "      <td>4358</td>\n",
       "      <td>False</td>\n",
       "      <td>AUS</td>\n",
       "      <td>NaN</td>\n",
       "      <td>NaN</td>\n",
       "      <td>4.155762e+11</td>\n",
       "      <td>19153000.0</td>\n",
       "    </tr>\n",
       "    <tr>\n",
       "      <th>3</th>\n",
       "      <td>2000</td>\n",
       "      <td>Afghanistan</td>\n",
       "      <td>AFG</td>\n",
       "      <td>Austria</td>\n",
       "      <td>AUT</td>\n",
       "      <td>679</td>\n",
       "      <td>False</td>\n",
       "      <td>AUT</td>\n",
       "      <td>NaN</td>\n",
       "      <td>NaN</td>\n",
       "      <td>1.972896e+11</td>\n",
       "      <td>8011566.0</td>\n",
       "    </tr>\n",
       "    <tr>\n",
       "      <th>4</th>\n",
       "      <td>2000</td>\n",
       "      <td>Afghanistan</td>\n",
       "      <td>AFG</td>\n",
       "      <td>Azerbaijan</td>\n",
       "      <td>AZE</td>\n",
       "      <td>172</td>\n",
       "      <td>False</td>\n",
       "      <td>AZE</td>\n",
       "      <td>NaN</td>\n",
       "      <td>NaN</td>\n",
       "      <td>5.272798e+09</td>\n",
       "      <td>8048600.0</td>\n",
       "    </tr>\n",
       "  </tbody>\n",
       "</table>\n",
       "</div>"
      ],
      "text/plain": [
       "   Year Country of origin Country of origin (ISO) Country of asylum  \\\n",
       "0  2000       Afghanistan                     AFG       Afghanistan   \n",
       "1  2000       Afghanistan                     AFG             Egypt   \n",
       "2  2000       Afghanistan                     AFG         Australia   \n",
       "3  2000       Afghanistan                     AFG           Austria   \n",
       "4  2000       Afghanistan                     AFG        Azerbaijan   \n",
       "\n",
       "  Country of asylum (ISO)  Refugees under UNHCR's mandate is_bordering  \\\n",
       "0                     AFG                               0        False   \n",
       "1                     EGY                              60        False   \n",
       "2                     AUS                            4358        False   \n",
       "3                     AUT                             679        False   \n",
       "4                     AZE                             172        False   \n",
       "\n",
       "  Country Code  v2xeg_eqdr  v2x_libdem  GDP (current US$)  Population, total  \n",
       "0          AFG         NaN         NaN                NaN         20779957.0  \n",
       "1          EGY         NaN         NaN       9.983854e+10         68831561.0  \n",
       "2          AUS         NaN         NaN       4.155762e+11         19153000.0  \n",
       "3          AUT         NaN         NaN       1.972896e+11          8011566.0  \n",
       "4          AZE         NaN         NaN       5.272798e+09          8048600.0  "
      ]
     },
     "execution_count": 3,
     "metadata": {},
     "output_type": "execute_result"
    }
   ],
   "source": [
    "data.head()"
   ]
  },
  {
   "cell_type": "markdown",
   "id": "10005d78",
   "metadata": {},
   "source": [
    "Now we filter for only bordering countries"
   ]
  },
  {
   "cell_type": "code",
   "execution_count": 4,
   "id": "e435f0d5",
   "metadata": {},
   "outputs": [],
   "source": [
    "data = data[data['is_bordering']==True]"
   ]
  },
  {
   "cell_type": "markdown",
   "id": "56967d6b",
   "metadata": {},
   "source": [
    "## Featurization and Normalization\n",
    "\n",
    "Next we calculate various features that will be relevant to our model training. These include:\n",
    "\n",
    "- `pct_tot`: total percentage of people from `conflict A` who went to `country Z`\n",
    "- `bilateral_migration_percap`: the amount of bilateral migration (from `conflict A` to `country Z`) per capita (with respect to `country Z` population)\n",
    "- `gpd_per_cap`: per capita GDP for `country Z`\n",
    "- `migrants_per_cap`: total migrants per capita for `country Z`\n",
    "\n",
    "We then scale these using a [`MinMaxScaler`](https://scikit-learn.org/stable/modules/generated/sklearn.preprocessing.MinMaxScaler.html) which normalizes them to between 0 and 1 on a **_per conflict basis_**. "
   ]
  },
  {
   "cell_type": "code",
   "execution_count": 5,
   "id": "58757dce",
   "metadata": {},
   "outputs": [],
   "source": [
    "data['pct_tot'] = data[\"Refugees under UNHCR's mandate\"] / data.groupby(['Year','Country of origin'])[\"Refugees under UNHCR's mandate\"].transform('sum')"
   ]
  },
  {
   "cell_type": "markdown",
   "id": "5afffa72",
   "metadata": {},
   "source": [
    "Normalizing within each conflict is crucial since it facilitates comparision of haven countries for a given conflict and reduces the model's tendency to compare grossly across all conflicts.\n",
    "\n",
    "For example, imagine two conflicts: one in Western Europe and one in Latin America. The potential haven countries in Western Europe will _all be wealthier_ than those in Latin America (generally speaking). Therefore, normalizing _across_ these conflicts would lead to very low normalized GDPs for all Latin American havens and reduce the model's explanatory power.\n",
    "\n",
    "Instead, we perform `0 to 1` normalization for all possible haven countries with respect to each conflict so that Latin American countries (in this example) are only normalized relative to their neighbors."
   ]
  },
  {
   "cell_type": "code",
   "execution_count": 6,
   "id": "05099a1f",
   "metadata": {
    "scrolled": true
   },
   "outputs": [
    {
     "name": "stdout",
     "output_type": "stream",
     "text": [
      "Normalizing column: GDP (current US$)\n"
     ]
    },
    {
     "name": "stderr",
     "output_type": "stream",
     "text": [
      "/Users/brandonrose/opt/anaconda3/envs/b39/lib/python3.9/site-packages/sklearn/preprocessing/_data.py:461: RuntimeWarning: All-NaN slice encountered\n",
      "  data_min = np.nanmin(X, axis=0)\n",
      "/Users/brandonrose/opt/anaconda3/envs/b39/lib/python3.9/site-packages/sklearn/preprocessing/_data.py:462: RuntimeWarning: All-NaN slice encountered\n",
      "  data_max = np.nanmax(X, axis=0)\n"
     ]
    },
    {
     "name": "stdout",
     "output_type": "stream",
     "text": [
      "Normalizing column: Population, total\n"
     ]
    }
   ],
   "source": [
    "cols_to_scale = ['GDP (current US$)', 'Population, total']\n",
    "scaler = MinMaxScaler()\n",
    "for col in cols_to_scale:\n",
    "    print(f\"Normalizing column: {col}\")\n",
    "    normed = pd.DataFrame()\n",
    "    \n",
    "    for y, x in data.groupby(['Year','Country of origin']):\n",
    "        norm_ = [i[0] for i in scaler.fit_transform(x[col].values.reshape(-1,1))]\n",
    "        countries_orig = x['Country of origin']        \n",
    "        countries_asy = x['Country of asylum']\n",
    "        year = x['Year']\n",
    "        res = pd.DataFrame(tuple(zip(countries_orig,countries_asy,year,norm_)), \n",
    "                           columns=['orig','asy','Year',f\"{col}_norm\"])\n",
    "        normed = normed.append(res)\n",
    "    data = pd.merge(data, normed, left_on=['Country of origin','Country of asylum', 'Year'], \n",
    "                        right_on=['orig','asy','Year'], how='right')"
   ]
  },
  {
   "cell_type": "code",
   "execution_count": 7,
   "id": "14526608",
   "metadata": {},
   "outputs": [
    {
     "data": {
      "text/html": [
       "<div>\n",
       "<style scoped>\n",
       "    .dataframe tbody tr th:only-of-type {\n",
       "        vertical-align: middle;\n",
       "    }\n",
       "\n",
       "    .dataframe tbody tr th {\n",
       "        vertical-align: top;\n",
       "    }\n",
       "\n",
       "    .dataframe thead th {\n",
       "        text-align: right;\n",
       "    }\n",
       "</style>\n",
       "<table border=\"1\" class=\"dataframe\">\n",
       "  <thead>\n",
       "    <tr style=\"text-align: right;\">\n",
       "      <th></th>\n",
       "      <th>Year</th>\n",
       "      <th>Refugees under UNHCR's mandate</th>\n",
       "      <th>v2xeg_eqdr</th>\n",
       "      <th>v2x_libdem</th>\n",
       "      <th>GDP (current US$)</th>\n",
       "      <th>Population, total</th>\n",
       "      <th>pct_tot</th>\n",
       "      <th>GDP (current US$)_norm</th>\n",
       "      <th>Population, total_norm</th>\n",
       "    </tr>\n",
       "  </thead>\n",
       "  <tbody>\n",
       "    <tr>\n",
       "      <th>Year</th>\n",
       "      <td>1.000000</td>\n",
       "      <td>0.040766</td>\n",
       "      <td>-0.080100</td>\n",
       "      <td>-0.028829</td>\n",
       "      <td>0.074239</td>\n",
       "      <td>0.019921</td>\n",
       "      <td>-0.050953</td>\n",
       "      <td>-0.005015</td>\n",
       "      <td>0.005362</td>\n",
       "    </tr>\n",
       "    <tr>\n",
       "      <th>Refugees under UNHCR's mandate</th>\n",
       "      <td>0.040766</td>\n",
       "      <td>1.000000</td>\n",
       "      <td>-0.074456</td>\n",
       "      <td>-0.127302</td>\n",
       "      <td>-0.002604</td>\n",
       "      <td>0.070098</td>\n",
       "      <td>0.096649</td>\n",
       "      <td>0.046648</td>\n",
       "      <td>0.050897</td>\n",
       "    </tr>\n",
       "    <tr>\n",
       "      <th>v2xeg_eqdr</th>\n",
       "      <td>-0.080100</td>\n",
       "      <td>-0.074456</td>\n",
       "      <td>1.000000</td>\n",
       "      <td>0.539734</td>\n",
       "      <td>0.134863</td>\n",
       "      <td>-0.089809</td>\n",
       "      <td>0.113320</td>\n",
       "      <td>-0.018704</td>\n",
       "      <td>-0.158824</td>\n",
       "    </tr>\n",
       "    <tr>\n",
       "      <th>v2x_libdem</th>\n",
       "      <td>-0.028829</td>\n",
       "      <td>-0.127302</td>\n",
       "      <td>0.539734</td>\n",
       "      <td>1.000000</td>\n",
       "      <td>0.209089</td>\n",
       "      <td>-0.021128</td>\n",
       "      <td>0.177241</td>\n",
       "      <td>0.010347</td>\n",
       "      <td>-0.085000</td>\n",
       "    </tr>\n",
       "    <tr>\n",
       "      <th>GDP (current US$)</th>\n",
       "      <td>0.074239</td>\n",
       "      <td>-0.002604</td>\n",
       "      <td>0.134863</td>\n",
       "      <td>0.209089</td>\n",
       "      <td>1.000000</td>\n",
       "      <td>0.499688</td>\n",
       "      <td>0.215787</td>\n",
       "      <td>0.077521</td>\n",
       "      <td>0.062354</td>\n",
       "    </tr>\n",
       "    <tr>\n",
       "      <th>Population, total</th>\n",
       "      <td>0.019921</td>\n",
       "      <td>0.070098</td>\n",
       "      <td>-0.089809</td>\n",
       "      <td>-0.021128</td>\n",
       "      <td>0.499688</td>\n",
       "      <td>1.000000</td>\n",
       "      <td>0.109022</td>\n",
       "      <td>0.254814</td>\n",
       "      <td>0.280054</td>\n",
       "    </tr>\n",
       "    <tr>\n",
       "      <th>pct_tot</th>\n",
       "      <td>-0.050953</td>\n",
       "      <td>0.096649</td>\n",
       "      <td>0.113320</td>\n",
       "      <td>0.177241</td>\n",
       "      <td>0.215787</td>\n",
       "      <td>0.109022</td>\n",
       "      <td>1.000000</td>\n",
       "      <td>0.034247</td>\n",
       "      <td>0.023194</td>\n",
       "    </tr>\n",
       "    <tr>\n",
       "      <th>GDP (current US$)_norm</th>\n",
       "      <td>-0.005015</td>\n",
       "      <td>0.046648</td>\n",
       "      <td>-0.018704</td>\n",
       "      <td>0.010347</td>\n",
       "      <td>0.077521</td>\n",
       "      <td>0.254814</td>\n",
       "      <td>0.034247</td>\n",
       "      <td>1.000000</td>\n",
       "      <td>0.769961</td>\n",
       "    </tr>\n",
       "    <tr>\n",
       "      <th>Population, total_norm</th>\n",
       "      <td>0.005362</td>\n",
       "      <td>0.050897</td>\n",
       "      <td>-0.158824</td>\n",
       "      <td>-0.085000</td>\n",
       "      <td>0.062354</td>\n",
       "      <td>0.280054</td>\n",
       "      <td>0.023194</td>\n",
       "      <td>0.769961</td>\n",
       "      <td>1.000000</td>\n",
       "    </tr>\n",
       "  </tbody>\n",
       "</table>\n",
       "</div>"
      ],
      "text/plain": [
       "                                    Year  Refugees under UNHCR's mandate  \\\n",
       "Year                            1.000000                        0.040766   \n",
       "Refugees under UNHCR's mandate  0.040766                        1.000000   \n",
       "v2xeg_eqdr                     -0.080100                       -0.074456   \n",
       "v2x_libdem                     -0.028829                       -0.127302   \n",
       "GDP (current US$)               0.074239                       -0.002604   \n",
       "Population, total               0.019921                        0.070098   \n",
       "pct_tot                        -0.050953                        0.096649   \n",
       "GDP (current US$)_norm         -0.005015                        0.046648   \n",
       "Population, total_norm          0.005362                        0.050897   \n",
       "\n",
       "                                v2xeg_eqdr  v2x_libdem  GDP (current US$)  \\\n",
       "Year                             -0.080100   -0.028829           0.074239   \n",
       "Refugees under UNHCR's mandate   -0.074456   -0.127302          -0.002604   \n",
       "v2xeg_eqdr                        1.000000    0.539734           0.134863   \n",
       "v2x_libdem                        0.539734    1.000000           0.209089   \n",
       "GDP (current US$)                 0.134863    0.209089           1.000000   \n",
       "Population, total                -0.089809   -0.021128           0.499688   \n",
       "pct_tot                           0.113320    0.177241           0.215787   \n",
       "GDP (current US$)_norm           -0.018704    0.010347           0.077521   \n",
       "Population, total_norm           -0.158824   -0.085000           0.062354   \n",
       "\n",
       "                                Population, total   pct_tot  \\\n",
       "Year                                     0.019921 -0.050953   \n",
       "Refugees under UNHCR's mandate           0.070098  0.096649   \n",
       "v2xeg_eqdr                              -0.089809  0.113320   \n",
       "v2x_libdem                              -0.021128  0.177241   \n",
       "GDP (current US$)                        0.499688  0.215787   \n",
       "Population, total                        1.000000  0.109022   \n",
       "pct_tot                                  0.109022  1.000000   \n",
       "GDP (current US$)_norm                   0.254814  0.034247   \n",
       "Population, total_norm                   0.280054  0.023194   \n",
       "\n",
       "                                GDP (current US$)_norm  Population, total_norm  \n",
       "Year                                         -0.005015                0.005362  \n",
       "Refugees under UNHCR's mandate                0.046648                0.050897  \n",
       "v2xeg_eqdr                                   -0.018704               -0.158824  \n",
       "v2x_libdem                                    0.010347               -0.085000  \n",
       "GDP (current US$)                             0.077521                0.062354  \n",
       "Population, total                             0.254814                0.280054  \n",
       "pct_tot                                       0.034247                0.023194  \n",
       "GDP (current US$)_norm                        1.000000                0.769961  \n",
       "Population, total_norm                        0.769961                1.000000  "
      ]
     },
     "execution_count": 7,
     "metadata": {},
     "output_type": "execute_result"
    }
   ],
   "source": [
    "data.corr()"
   ]
  },
  {
   "cell_type": "markdown",
   "id": "bcbe1320",
   "metadata": {},
   "source": [
    "## Preparing for modeling\n",
    "\n",
    "Next, we remove the Ukraine conflict and its corresponding countries from the dataset so that we can exclude them from model training.\n",
    "\n",
    "First we create a dataframe of just Ukraine conflict:"
   ]
  },
  {
   "cell_type": "markdown",
   "id": "89047f1f",
   "metadata": {},
   "source": [
    "We define the dependant variable as `pct_tot`: the total percentage of refugees from the conflict who went to each country. This provides a mechanism of normalizing refugee counts _across_ conflicts since really we only care about predicting refugee _shares_, not total number of refugees at this point:"
   ]
  },
  {
   "cell_type": "code",
   "execution_count": 8,
   "id": "409df50a",
   "metadata": {},
   "outputs": [],
   "source": [
    "data = data.dropna()"
   ]
  },
  {
   "cell_type": "code",
   "execution_count": 9,
   "id": "353f1af8",
   "metadata": {
    "scrolled": false
   },
   "outputs": [],
   "source": [
    "y=data['pct_tot']"
   ]
  },
  {
   "cell_type": "markdown",
   "id": "bd181f0d",
   "metadata": {},
   "source": [
    "Here, we are able to set independant variables for modeling. We choose only `historic_GDP_norm` (within conflict normalized GDP) and `v2x_libdem` (which is not normalized since it is already an index).\n",
    "\n",
    "Other features were tested; they can simply be added to the array below to try additional features with the model."
   ]
  },
  {
   "cell_type": "code",
   "execution_count": 10,
   "id": "975bc6d5",
   "metadata": {
    "scrolled": false
   },
   "outputs": [],
   "source": [
    "features_cols = [\n",
    "                    'GDP (current US$)_norm', \n",
    "                    'v2x_libdem',\n",
    "                ]\n",
    "features_normalized = data[features_cols]"
   ]
  },
  {
   "cell_type": "markdown",
   "id": "b0a38b59",
   "metadata": {},
   "source": [
    "## Modeling\n",
    "\n",
    "Finally, we are able to run the model itself. We run a multiple regression using Statsmodels:"
   ]
  },
  {
   "cell_type": "code",
   "execution_count": 11,
   "id": "5d7e76ed",
   "metadata": {
    "scrolled": false
   },
   "outputs": [
    {
     "data": {
      "text/html": [
       "<table class=\"simpletable\">\n",
       "<caption>OLS Regression Results</caption>\n",
       "<tr>\n",
       "  <th>Dep. Variable:</th>         <td>pct_tot</td>     <th>  R-squared (uncentered):</th>      <td>   0.408</td>\n",
       "</tr>\n",
       "<tr>\n",
       "  <th>Model:</th>                   <td>OLS</td>       <th>  Adj. R-squared (uncentered):</th> <td>   0.408</td>\n",
       "</tr>\n",
       "<tr>\n",
       "  <th>Method:</th>             <td>Least Squares</td>  <th>  F-statistic:       </th>          <td>   1749.</td>\n",
       "</tr>\n",
       "<tr>\n",
       "  <th>Date:</th>             <td>Mon, 09 May 2022</td> <th>  Prob (F-statistic):</th>           <td>  0.00</td> \n",
       "</tr>\n",
       "<tr>\n",
       "  <th>Time:</th>                 <td>13:28:57</td>     <th>  Log-Likelihood:    </th>          <td> -2730.5</td>\n",
       "</tr>\n",
       "<tr>\n",
       "  <th>No. Observations:</th>      <td>  5073</td>      <th>  AIC:               </th>          <td>   5465.</td>\n",
       "</tr>\n",
       "<tr>\n",
       "  <th>Df Residuals:</th>          <td>  5071</td>      <th>  BIC:               </th>          <td>   5478.</td>\n",
       "</tr>\n",
       "<tr>\n",
       "  <th>Df Model:</th>              <td>     2</td>      <th>                     </th>              <td> </td>   \n",
       "</tr>\n",
       "<tr>\n",
       "  <th>Covariance Type:</th>      <td>nonrobust</td>    <th>                     </th>              <td> </td>   \n",
       "</tr>\n",
       "</table>\n",
       "<table class=\"simpletable\">\n",
       "<tr>\n",
       "             <td></td>               <th>coef</th>     <th>std err</th>      <th>t</th>      <th>P>|t|</th>  <th>[0.025</th>    <th>0.975]</th>  \n",
       "</tr>\n",
       "<tr>\n",
       "  <th>GDP (current US$)_norm</th> <td>    0.1635</td> <td>    0.013</td> <td>   12.994</td> <td> 0.000</td> <td>    0.139</td> <td>    0.188</td>\n",
       "</tr>\n",
       "<tr>\n",
       "  <th>v2x_libdem</th>             <td>    0.6667</td> <td>    0.016</td> <td>   42.488</td> <td> 0.000</td> <td>    0.636</td> <td>    0.697</td>\n",
       "</tr>\n",
       "</table>\n",
       "<table class=\"simpletable\">\n",
       "<tr>\n",
       "  <th>Omnibus:</th>       <td>457.133</td> <th>  Durbin-Watson:     </th> <td>   1.789</td>\n",
       "</tr>\n",
       "<tr>\n",
       "  <th>Prob(Omnibus):</th> <td> 0.000</td>  <th>  Jarque-Bera (JB):  </th> <td> 268.547</td>\n",
       "</tr>\n",
       "<tr>\n",
       "  <th>Skew:</th>          <td> 0.427</td>  <th>  Prob(JB):          </th> <td>4.85e-59</td>\n",
       "</tr>\n",
       "<tr>\n",
       "  <th>Kurtosis:</th>      <td> 2.265</td>  <th>  Cond. No.          </th> <td>    1.86</td>\n",
       "</tr>\n",
       "</table><br/><br/>Notes:<br/>[1] R² is computed without centering (uncentered) since the model does not contain a constant.<br/>[2] Standard Errors assume that the covariance matrix of the errors is correctly specified."
      ],
      "text/plain": [
       "<class 'statsmodels.iolib.summary.Summary'>\n",
       "\"\"\"\n",
       "                                 OLS Regression Results                                \n",
       "=======================================================================================\n",
       "Dep. Variable:                pct_tot   R-squared (uncentered):                   0.408\n",
       "Model:                            OLS   Adj. R-squared (uncentered):              0.408\n",
       "Method:                 Least Squares   F-statistic:                              1749.\n",
       "Date:                Mon, 09 May 2022   Prob (F-statistic):                        0.00\n",
       "Time:                        13:28:57   Log-Likelihood:                         -2730.5\n",
       "No. Observations:                5073   AIC:                                      5465.\n",
       "Df Residuals:                    5071   BIC:                                      5478.\n",
       "Df Model:                           2                                                  \n",
       "Covariance Type:            nonrobust                                                  \n",
       "==========================================================================================\n",
       "                             coef    std err          t      P>|t|      [0.025      0.975]\n",
       "------------------------------------------------------------------------------------------\n",
       "GDP (current US$)_norm     0.1635      0.013     12.994      0.000       0.139       0.188\n",
       "v2x_libdem                 0.6667      0.016     42.488      0.000       0.636       0.697\n",
       "==============================================================================\n",
       "Omnibus:                      457.133   Durbin-Watson:                   1.789\n",
       "Prob(Omnibus):                  0.000   Jarque-Bera (JB):              268.547\n",
       "Skew:                           0.427   Prob(JB):                     4.85e-59\n",
       "Kurtosis:                       2.265   Cond. No.                         1.86\n",
       "==============================================================================\n",
       "\n",
       "Notes:\n",
       "[1] R² is computed without centering (uncentered) since the model does not contain a constant.\n",
       "[2] Standard Errors assume that the covariance matrix of the errors is correctly specified.\n",
       "\"\"\""
      ]
     },
     "execution_count": 11,
     "metadata": {},
     "output_type": "execute_result"
    }
   ],
   "source": [
    "results=sm.OLS(y,features_normalized.astype(float)).fit()\n",
    "results.summary()"
   ]
  },
  {
   "cell_type": "markdown",
   "id": "7d58a13a",
   "metadata": {},
   "source": [
    "Here we can see that our two features are statistically significant and explain a large portion of the variation within the dependent variable (refugee share)."
   ]
  },
  {
   "cell_type": "markdown",
   "id": "085a9f6e",
   "metadata": {},
   "source": [
    "## Backcasting Ukraine\n",
    "\n",
    "Now we are ready to produce a forecast for Ukraine."
   ]
  },
  {
   "cell_type": "code",
   "execution_count": 12,
   "id": "2e9a5650",
   "metadata": {},
   "outputs": [
    {
     "data": {
      "text/html": [
       "<div>\n",
       "<style scoped>\n",
       "    .dataframe tbody tr th:only-of-type {\n",
       "        vertical-align: middle;\n",
       "    }\n",
       "\n",
       "    .dataframe tbody tr th {\n",
       "        vertical-align: top;\n",
       "    }\n",
       "\n",
       "    .dataframe thead th {\n",
       "        text-align: right;\n",
       "    }\n",
       "</style>\n",
       "<table border=\"1\" class=\"dataframe\">\n",
       "  <thead>\n",
       "    <tr style=\"text-align: right;\">\n",
       "      <th></th>\n",
       "      <th>Country Code</th>\n",
       "      <th>Year</th>\n",
       "      <th>v2xeg_eqdr</th>\n",
       "      <th>v2x_libdem</th>\n",
       "      <th>GDP (current US$)</th>\n",
       "      <th>Population, total</th>\n",
       "    </tr>\n",
       "  </thead>\n",
       "  <tbody>\n",
       "    <tr>\n",
       "      <th>1</th>\n",
       "      <td>POL</td>\n",
       "      <td>2020</td>\n",
       "      <td>0.777</td>\n",
       "      <td>0.468</td>\n",
       "      <td>5.966244e+11</td>\n",
       "      <td>37899070.0</td>\n",
       "    </tr>\n",
       "    <tr>\n",
       "      <th>3</th>\n",
       "      <td>MDA</td>\n",
       "      <td>2020</td>\n",
       "      <td>0.690</td>\n",
       "      <td>0.476</td>\n",
       "      <td>1.191555e+10</td>\n",
       "      <td>2620495.0</td>\n",
       "    </tr>\n",
       "    <tr>\n",
       "      <th>4</th>\n",
       "      <td>ROU</td>\n",
       "      <td>2020</td>\n",
       "      <td>0.604</td>\n",
       "      <td>0.567</td>\n",
       "      <td>2.487156e+11</td>\n",
       "      <td>19257520.0</td>\n",
       "    </tr>\n",
       "    <tr>\n",
       "      <th>5</th>\n",
       "      <td>SVK</td>\n",
       "      <td>2020</td>\n",
       "      <td>0.768</td>\n",
       "      <td>0.753</td>\n",
       "      <td>1.051726e+11</td>\n",
       "      <td>5458827.0</td>\n",
       "    </tr>\n",
       "    <tr>\n",
       "      <th>6</th>\n",
       "      <td>HUN</td>\n",
       "      <td>2020</td>\n",
       "      <td>0.632</td>\n",
       "      <td>0.362</td>\n",
       "      <td>1.558084e+11</td>\n",
       "      <td>9750149.0</td>\n",
       "    </tr>\n",
       "  </tbody>\n",
       "</table>\n",
       "</div>"
      ],
      "text/plain": [
       "  Country Code  Year  v2xeg_eqdr  v2x_libdem  GDP (current US$)  \\\n",
       "1          POL  2020       0.777       0.468       5.966244e+11   \n",
       "3          MDA  2020       0.690       0.476       1.191555e+10   \n",
       "4          ROU  2020       0.604       0.567       2.487156e+11   \n",
       "5          SVK  2020       0.768       0.753       1.051726e+11   \n",
       "6          HUN  2020       0.632       0.362       1.558084e+11   \n",
       "\n",
       "   Population, total  \n",
       "1         37899070.0  \n",
       "3          2620495.0  \n",
       "4         19257520.0  \n",
       "5          5458827.0  \n",
       "6          9750149.0  "
      ]
     },
     "metadata": {},
     "output_type": "display_data"
    }
   ],
   "source": [
    "ukr = pd.read_csv('refugee_data/ukr_pred_inputs.csv')\n",
    "ukr = ukr[~ukr['Country Code'].isin(['RUS','BLR'])]\n",
    "display(ukr)"
   ]
  },
  {
   "cell_type": "code",
   "execution_count": 13,
   "id": "d1dee382",
   "metadata": {},
   "outputs": [],
   "source": [
    "scaler = MinMaxScaler()\n",
    "ukr['GDP (current US$)_norm'] = [i[0] for i in scaler.fit_transform(ukr['GDP (current US$)'].values.reshape(-1,1))]"
   ]
  },
  {
   "cell_type": "code",
   "execution_count": 15,
   "id": "7bded091",
   "metadata": {},
   "outputs": [],
   "source": [
    "# get refugee shares prediction for Ukraine\n",
    "features_to_predict=ukr[features_cols]\n",
    "shares = results.predict(features_to_predict)\n",
    "\n",
    "# add them to Ukraine dataframe\n",
    "ukr['predicted_shares'] = shares\n",
    "ukr_results = ukr[['Country Code','predicted_shares']]"
   ]
  },
  {
   "cell_type": "code",
   "execution_count": 16,
   "id": "53a71a3a",
   "metadata": {},
   "outputs": [
    {
     "data": {
      "text/html": [
       "<div>\n",
       "<style scoped>\n",
       "    .dataframe tbody tr th:only-of-type {\n",
       "        vertical-align: middle;\n",
       "    }\n",
       "\n",
       "    .dataframe tbody tr th {\n",
       "        vertical-align: top;\n",
       "    }\n",
       "\n",
       "    .dataframe thead th {\n",
       "        text-align: right;\n",
       "    }\n",
       "</style>\n",
       "<table border=\"1\" class=\"dataframe\">\n",
       "  <thead>\n",
       "    <tr style=\"text-align: right;\">\n",
       "      <th></th>\n",
       "      <th>Country Code</th>\n",
       "      <th>predicted_shares</th>\n",
       "    </tr>\n",
       "  </thead>\n",
       "  <tbody>\n",
       "    <tr>\n",
       "      <th>1</th>\n",
       "      <td>POL</td>\n",
       "      <td>0.475492</td>\n",
       "    </tr>\n",
       "    <tr>\n",
       "      <th>3</th>\n",
       "      <td>MDA</td>\n",
       "      <td>0.317343</td>\n",
       "    </tr>\n",
       "    <tr>\n",
       "      <th>4</th>\n",
       "      <td>ROU</td>\n",
       "      <td>0.444220</td>\n",
       "    </tr>\n",
       "    <tr>\n",
       "      <th>5</th>\n",
       "      <td>SVK</td>\n",
       "      <td>0.528090</td>\n",
       "    </tr>\n",
       "    <tr>\n",
       "      <th>6</th>\n",
       "      <td>HUN</td>\n",
       "      <td>0.281573</td>\n",
       "    </tr>\n",
       "  </tbody>\n",
       "</table>\n",
       "</div>"
      ],
      "text/plain": [
       "  Country Code  predicted_shares\n",
       "1          POL          0.475492\n",
       "3          MDA          0.317343\n",
       "4          ROU          0.444220\n",
       "5          SVK          0.528090\n",
       "6          HUN          0.281573"
      ]
     },
     "execution_count": 16,
     "metadata": {},
     "output_type": "execute_result"
    }
   ],
   "source": [
    "ukr_results"
   ]
  },
  {
   "cell_type": "code",
   "execution_count": null,
   "id": "aafbe7fe",
   "metadata": {},
   "outputs": [],
   "source": [
    "\n",
    "# save the results\n",
    "ukr_results.to_csv('outputs/ukraine_model_results.csv',index=False)\n",
    "ukr_results.head()"
   ]
  },
  {
   "cell_type": "markdown",
   "id": "a57153a2",
   "metadata": {},
   "source": [
    "Finally, we can pickle the model for future use:"
   ]
  },
  {
   "cell_type": "code",
   "execution_count": null,
   "id": "d3dd3f11",
   "metadata": {},
   "outputs": [],
   "source": [
    "results.save(\"outputs/attraction_model.pickle\")"
   ]
  }
 ],
 "metadata": {
  "kernelspec": {
   "display_name": "Python 3 (ipykernel)",
   "language": "python",
   "name": "python3"
  },
  "language_info": {
   "codemirror_mode": {
    "name": "ipython",
    "version": 3
   },
   "file_extension": ".py",
   "mimetype": "text/x-python",
   "name": "python",
   "nbconvert_exporter": "python",
   "pygments_lexer": "ipython3",
   "version": "3.9.7"
  }
 },
 "nbformat": 4,
 "nbformat_minor": 5
}
