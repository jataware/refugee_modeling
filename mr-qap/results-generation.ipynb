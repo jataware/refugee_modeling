{
 "cells": [
  {
   "cell_type": "markdown",
   "id": "2af067c1",
   "metadata": {},
   "source": [
    "# Results Generation\n",
    "\n",
    "This notebook processes the results of the 2016 model from [How inter-state amity and animosity complement migration networks to drive refugee flows: A multi-layer network analysis, 1991–2016](https://journals.plos.org/plosone/article?id=10.1371/journal.pone.0245712) into predicted refugee shares for Ukraine."
   ]
  },
  {
   "cell_type": "code",
   "execution_count": 1,
   "id": "37949b4c",
   "metadata": {},
   "outputs": [],
   "source": [
    "import pandas as pd\n",
    "import re"
   ]
  },
  {
   "cell_type": "code",
   "execution_count": 2,
   "id": "074b1fe4",
   "metadata": {},
   "outputs": [],
   "source": [
    "df = pd.read_csv('Data_5_UPDATED.csv')\\\n",
    "    [['ccode1','ccode2','state.destination.name','state.origin.name']]"
   ]
  },
  {
   "cell_type": "code",
   "execution_count": 3,
   "id": "badea8a7",
   "metadata": {},
   "outputs": [],
   "source": [
    "ccode_lookup = dict(zip(df.ccode1,df['state.origin.name']))\n",
    "\n",
    "ccode_lookup_str = {}\n",
    "for kk, vv in ccode_lookup.items():\n",
    "    ccode_lookup_str[str(kk)] = vv"
   ]
  },
  {
   "cell_type": "markdown",
   "id": "ac90c435",
   "metadata": {},
   "source": [
    "Down is ccode1, across ccode2"
   ]
  },
  {
   "cell_type": "code",
   "execution_count": 4,
   "id": "fc236f4f",
   "metadata": {},
   "outputs": [],
   "source": [
    "ref_preds = pd.read_csv('ref_flow_preds_2016.csv')\n",
    "img_preds = pd.read_csv('immig_flow_preds_2017.csv')\n",
    "img_preds_factors = pd.read_csv('immig_flow_preds_factors_2017.csv')"
   ]
  },
  {
   "cell_type": "code",
   "execution_count": 5,
   "id": "432734ec",
   "metadata": {},
   "outputs": [],
   "source": [
    "def proc_matrix(df):\n",
    "    df.rename(columns={'Unnamed: 0': 'ccode1'}, inplace=True)\n",
    "    df['origin'] = df.ccode1.apply(lambda x: ccode_lookup[x])\n",
    "    df.rename(columns=ccode_lookup_str, inplace=True)    \n",
    "    df.drop('ccode1', axis=1, inplace=True)\n",
    "    df = df.set_index('origin')    \n",
    "    return df"
   ]
  },
  {
   "cell_type": "code",
   "execution_count": 6,
   "id": "56af847c",
   "metadata": {},
   "outputs": [],
   "source": [
    "ref_preds = proc_matrix(ref_preds)\n",
    "img_preds = proc_matrix(img_preds)\n",
    "img_preds_factors = proc_matrix(img_preds_factors)"
   ]
  },
  {
   "cell_type": "code",
   "execution_count": 7,
   "id": "e75de51f",
   "metadata": {},
   "outputs": [],
   "source": [
    "ref_res = pd.DataFrame(ref_preds[['Hungary','Poland','Moldova','Romania','Slovakia','Belarus','Russia']].loc['Ukraine'].sort_values(ascending=False)\\\n",
    "    .round(0).astype(int))\n",
    "ref_res['share'] = ref_res['Ukraine'] / ref_res['Ukraine'].sum()\n",
    "\n",
    "img_res = pd.DataFrame(img_preds[['Hungary','Poland','Moldova','Romania','Slovakia', 'Russia','Belarus']].loc['Ukraine'].sort_values(ascending=False)\\\n",
    "    .round(0).astype(int))\n",
    "img_res['share'] = img_res['Ukraine'] / img_res['Ukraine'].sum()\n",
    "\n",
    "img_res_factors = pd.DataFrame(img_preds_factors[['Hungary','Poland','Moldova','Romania','Slovakia', 'Russia','Belarus']].loc['Ukraine'].sort_values(ascending=False)\\\n",
    "    .round(0).astype(int))\n",
    "img_res_factors['share'] = img_res_factors['Ukraine'] / img_res_factors['Ukraine'].sum()"
   ]
  },
  {
   "cell_type": "code",
   "execution_count": 8,
   "id": "940332a4",
   "metadata": {},
   "outputs": [
    {
     "name": "stdout",
     "output_type": "stream",
     "text": [
      "Predictions from refugee model\n"
     ]
    },
    {
     "data": {
      "text/html": [
       "<div>\n",
       "<style scoped>\n",
       "    .dataframe tbody tr th:only-of-type {\n",
       "        vertical-align: middle;\n",
       "    }\n",
       "\n",
       "    .dataframe tbody tr th {\n",
       "        vertical-align: top;\n",
       "    }\n",
       "\n",
       "    .dataframe thead th {\n",
       "        text-align: right;\n",
       "    }\n",
       "</style>\n",
       "<table border=\"1\" class=\"dataframe\">\n",
       "  <thead>\n",
       "    <tr style=\"text-align: right;\">\n",
       "      <th></th>\n",
       "      <th>Ukraine</th>\n",
       "      <th>share</th>\n",
       "    </tr>\n",
       "  </thead>\n",
       "  <tbody>\n",
       "    <tr>\n",
       "      <th>Russia</th>\n",
       "      <td>26807</td>\n",
       "      <td>0.878572</td>\n",
       "    </tr>\n",
       "    <tr>\n",
       "      <th>Belarus</th>\n",
       "      <td>801</td>\n",
       "      <td>0.026252</td>\n",
       "    </tr>\n",
       "    <tr>\n",
       "      <th>Hungary</th>\n",
       "      <td>711</td>\n",
       "      <td>0.023302</td>\n",
       "    </tr>\n",
       "    <tr>\n",
       "      <th>Romania</th>\n",
       "      <td>663</td>\n",
       "      <td>0.021729</td>\n",
       "    </tr>\n",
       "    <tr>\n",
       "      <th>Slovakia</th>\n",
       "      <td>627</td>\n",
       "      <td>0.020549</td>\n",
       "    </tr>\n",
       "    <tr>\n",
       "      <th>Moldova</th>\n",
       "      <td>495</td>\n",
       "      <td>0.016223</td>\n",
       "    </tr>\n",
       "    <tr>\n",
       "      <th>Poland</th>\n",
       "      <td>408</td>\n",
       "      <td>0.013372</td>\n",
       "    </tr>\n",
       "  </tbody>\n",
       "</table>\n",
       "</div>"
      ],
      "text/plain": [
       "          Ukraine     share\n",
       "Russia      26807  0.878572\n",
       "Belarus       801  0.026252\n",
       "Hungary       711  0.023302\n",
       "Romania       663  0.021729\n",
       "Slovakia      627  0.020549\n",
       "Moldova       495  0.016223\n",
       "Poland        408  0.013372"
      ]
     },
     "metadata": {},
     "output_type": "display_data"
    },
    {
     "name": "stdout",
     "output_type": "stream",
     "text": [
      "\n",
      "\n",
      "Predictions from immigration model\n"
     ]
    },
    {
     "data": {
      "text/html": [
       "<div>\n",
       "<style scoped>\n",
       "    .dataframe tbody tr th:only-of-type {\n",
       "        vertical-align: middle;\n",
       "    }\n",
       "\n",
       "    .dataframe tbody tr th {\n",
       "        vertical-align: top;\n",
       "    }\n",
       "\n",
       "    .dataframe thead th {\n",
       "        text-align: right;\n",
       "    }\n",
       "</style>\n",
       "<table border=\"1\" class=\"dataframe\">\n",
       "  <thead>\n",
       "    <tr style=\"text-align: right;\">\n",
       "      <th></th>\n",
       "      <th>Ukraine</th>\n",
       "      <th>share</th>\n",
       "    </tr>\n",
       "  </thead>\n",
       "  <tbody>\n",
       "    <tr>\n",
       "      <th>Russia</th>\n",
       "      <td>3479494</td>\n",
       "      <td>0.825381</td>\n",
       "    </tr>\n",
       "    <tr>\n",
       "      <th>Poland</th>\n",
       "      <td>332209</td>\n",
       "      <td>0.078804</td>\n",
       "    </tr>\n",
       "    <tr>\n",
       "      <th>Moldova</th>\n",
       "      <td>188926</td>\n",
       "      <td>0.044816</td>\n",
       "    </tr>\n",
       "    <tr>\n",
       "      <th>Belarus</th>\n",
       "      <td>152869</td>\n",
       "      <td>0.036263</td>\n",
       "    </tr>\n",
       "    <tr>\n",
       "      <th>Romania</th>\n",
       "      <td>24550</td>\n",
       "      <td>0.005824</td>\n",
       "    </tr>\n",
       "    <tr>\n",
       "      <th>Slovakia</th>\n",
       "      <td>19352</td>\n",
       "      <td>0.004591</td>\n",
       "    </tr>\n",
       "    <tr>\n",
       "      <th>Hungary</th>\n",
       "      <td>18221</td>\n",
       "      <td>0.004322</td>\n",
       "    </tr>\n",
       "  </tbody>\n",
       "</table>\n",
       "</div>"
      ],
      "text/plain": [
       "          Ukraine     share\n",
       "Russia    3479494  0.825381\n",
       "Poland     332209  0.078804\n",
       "Moldova    188926  0.044816\n",
       "Belarus    152869  0.036263\n",
       "Romania     24550  0.005824\n",
       "Slovakia    19352  0.004591\n",
       "Hungary     18221  0.004322"
      ]
     },
     "metadata": {},
     "output_type": "display_data"
    },
    {
     "name": "stdout",
     "output_type": "stream",
     "text": [
      "\n",
      "\n",
      "Predictions from immigration model with factors for 2010 immigration (none, low, high)\n"
     ]
    },
    {
     "data": {
      "text/html": [
       "<div>\n",
       "<style scoped>\n",
       "    .dataframe tbody tr th:only-of-type {\n",
       "        vertical-align: middle;\n",
       "    }\n",
       "\n",
       "    .dataframe tbody tr th {\n",
       "        vertical-align: top;\n",
       "    }\n",
       "\n",
       "    .dataframe thead th {\n",
       "        text-align: right;\n",
       "    }\n",
       "</style>\n",
       "<table border=\"1\" class=\"dataframe\">\n",
       "  <thead>\n",
       "    <tr style=\"text-align: right;\">\n",
       "      <th></th>\n",
       "      <th>Ukraine</th>\n",
       "      <th>share</th>\n",
       "    </tr>\n",
       "  </thead>\n",
       "  <tbody>\n",
       "    <tr>\n",
       "      <th>Slovakia</th>\n",
       "      <td>130444372</td>\n",
       "      <td>0.273437</td>\n",
       "    </tr>\n",
       "    <tr>\n",
       "      <th>Poland</th>\n",
       "      <td>98593901</td>\n",
       "      <td>0.206672</td>\n",
       "    </tr>\n",
       "    <tr>\n",
       "      <th>Hungary</th>\n",
       "      <td>96873310</td>\n",
       "      <td>0.203065</td>\n",
       "    </tr>\n",
       "    <tr>\n",
       "      <th>Russia</th>\n",
       "      <td>73292076</td>\n",
       "      <td>0.153634</td>\n",
       "    </tr>\n",
       "    <tr>\n",
       "      <th>Romania</th>\n",
       "      <td>55640597</td>\n",
       "      <td>0.116634</td>\n",
       "    </tr>\n",
       "    <tr>\n",
       "      <th>Belarus</th>\n",
       "      <td>29109584</td>\n",
       "      <td>0.061019</td>\n",
       "    </tr>\n",
       "    <tr>\n",
       "      <th>Moldova</th>\n",
       "      <td>-6898963</td>\n",
       "      <td>-0.014462</td>\n",
       "    </tr>\n",
       "  </tbody>\n",
       "</table>\n",
       "</div>"
      ],
      "text/plain": [
       "            Ukraine     share\n",
       "Slovakia  130444372  0.273437\n",
       "Poland     98593901  0.206672\n",
       "Hungary    96873310  0.203065\n",
       "Russia     73292076  0.153634\n",
       "Romania    55640597  0.116634\n",
       "Belarus    29109584  0.061019\n",
       "Moldova    -6898963 -0.014462"
      ]
     },
     "metadata": {},
     "output_type": "display_data"
    }
   ],
   "source": [
    "print(\"Predictions from refugee model\")\n",
    "display(ref_res)\n",
    "print()\n",
    "print()\n",
    "print(\"Predictions from immigration model\")\n",
    "display(img_res)\n",
    "print()\n",
    "print()\n",
    "print(\"Predictions from immigration model with factors for 2010 immigration (none, low, high)\")\n",
    "display(img_res_factors)"
   ]
  },
  {
   "cell_type": "code",
   "execution_count": 9,
   "id": "a7811ad4",
   "metadata": {},
   "outputs": [
    {
     "data": {
      "text/html": [
       "<div>\n",
       "<style scoped>\n",
       "    .dataframe tbody tr th:only-of-type {\n",
       "        vertical-align: middle;\n",
       "    }\n",
       "\n",
       "    .dataframe tbody tr th {\n",
       "        vertical-align: top;\n",
       "    }\n",
       "\n",
       "    .dataframe thead th {\n",
       "        text-align: right;\n",
       "    }\n",
       "</style>\n",
       "<table border=\"1\" class=\"dataframe\">\n",
       "  <thead>\n",
       "    <tr style=\"text-align: right;\">\n",
       "      <th></th>\n",
       "      <th>country</th>\n",
       "      <th>predicted_shares</th>\n",
       "    </tr>\n",
       "  </thead>\n",
       "  <tbody>\n",
       "    <tr>\n",
       "      <th>0</th>\n",
       "      <td>Russia</td>\n",
       "      <td>0.851977</td>\n",
       "    </tr>\n",
       "    <tr>\n",
       "      <th>1</th>\n",
       "      <td>Poland</td>\n",
       "      <td>0.046088</td>\n",
       "    </tr>\n",
       "    <tr>\n",
       "      <th>2</th>\n",
       "      <td>Moldova</td>\n",
       "      <td>0.030519</td>\n",
       "    </tr>\n",
       "    <tr>\n",
       "      <th>3</th>\n",
       "      <td>Belarus</td>\n",
       "      <td>0.031257</td>\n",
       "    </tr>\n",
       "    <tr>\n",
       "      <th>4</th>\n",
       "      <td>Romania</td>\n",
       "      <td>0.013776</td>\n",
       "    </tr>\n",
       "    <tr>\n",
       "      <th>5</th>\n",
       "      <td>Slovakia</td>\n",
       "      <td>0.012570</td>\n",
       "    </tr>\n",
       "    <tr>\n",
       "      <th>6</th>\n",
       "      <td>Hungary</td>\n",
       "      <td>0.013812</td>\n",
       "    </tr>\n",
       "  </tbody>\n",
       "</table>\n",
       "</div>"
      ],
      "text/plain": [
       "    country  predicted_shares\n",
       "0    Russia          0.851977\n",
       "1    Poland          0.046088\n",
       "2   Moldova          0.030519\n",
       "3   Belarus          0.031257\n",
       "4   Romania          0.013776\n",
       "5  Slovakia          0.012570\n",
       "6   Hungary          0.013812"
      ]
     },
     "metadata": {},
     "output_type": "display_data"
    }
   ],
   "source": [
    "ukr_results = img_res.join(ref_res, lsuffix='_immig', rsuffix='_ref')\n",
    "ukr_results['predicted_shares'] = (ukr_results.share_immig + ukr_results.share_ref) / 2\n",
    "ukr_results = ukr_results.reset_index().rename(columns={'index':'country'})\n",
    "ukr_results = ukr_results[['country','predicted_shares']]\n",
    "display(ukr_results)"
   ]
  }
 ],
 "metadata": {
  "kernelspec": {
   "display_name": "Python 3 (ipykernel)",
   "language": "python",
   "name": "python3"
  },
  "language_info": {
   "codemirror_mode": {
    "name": "ipython",
    "version": 3
   },
   "file_extension": ".py",
   "mimetype": "text/x-python",
   "name": "python",
   "nbconvert_exporter": "python",
   "pygments_lexer": "ipython3",
   "version": "3.9.7"
  }
 },
 "nbformat": 4,
 "nbformat_minor": 5
}
