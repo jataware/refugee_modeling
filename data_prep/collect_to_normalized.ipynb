{
 "cells": [
  {
   "cell_type": "code",
   "execution_count": null,
   "id": "bccbe5a8",
   "metadata": {},
   "outputs": [],
   "source": [
    "import json\n",
    "import pandas as pd\n",
    "from fuzzywuzzy import process\n",
    "from sklearn.preprocessing import MinMaxScaler\n",
    "from statsmodels.iolib.smpickle import load_pickle"
   ]
  },
  {
   "cell_type": "markdown",
   "id": "2dae1370",
   "metadata": {},
   "source": [
    "## Run model on new conflict"
   ]
  },
  {
   "cell_type": "markdown",
   "id": "a0315483",
   "metadata": {},
   "source": [
    "user will set these values as parameters for the model.\n"
   ]
  },
  {
   "cell_type": "code",
   "execution_count": null,
   "id": "69ec5853",
   "metadata": {},
   "outputs": [],
   "source": [
    "conflict_country= \"Honduras\"\n",
    "conflict_start=2021-1\n",
    "excluded_countries=[]\n",
    "added_countries=[]"
   ]
  },
  {
   "cell_type": "markdown",
   "id": "041546c8",
   "metadata": {},
   "source": [
    "read in country border data"
   ]
  },
  {
   "cell_type": "code",
   "execution_count": null,
   "id": "7c255ac4",
   "metadata": {},
   "outputs": [],
   "source": [
    "country_border = open('refugee_data/country_border_data.json')\n",
    "countries_that_border = json.load(country_border)"
   ]
  },
  {
   "cell_type": "markdown",
   "id": "9522df05",
   "metadata": {},
   "source": [
    "get a list of touching countries"
   ]
  },
  {
   "cell_type": "code",
   "execution_count": null,
   "id": "a889bd78",
   "metadata": {},
   "outputs": [],
   "source": [
    "touching_list=[]\n",
    "touching_list=countries_that_border[conflict_country]\n",
    "touching_list"
   ]
  },
  {
   "cell_type": "markdown",
   "id": "a9b84e78",
   "metadata": {},
   "source": [
    "remove any countries that are to be excluded.\n"
   ]
  },
  {
   "cell_type": "code",
   "execution_count": null,
   "id": "621d21af",
   "metadata": {},
   "outputs": [],
   "source": [
    "indexed_list={}\n",
    "for i,c in enumerate(touching_list):\n",
    "    indexed_list[i]=c\n",
    "    \n",
    "for i,ex in enumerate(excluded_countries):\n",
    "    country,value, ind=process.extractOne(ex, indexed_list)\n",
    "    if value>89:\n",
    "        touching_list.pop(ind)\n",
    "    print(country, value, ind)\n",
    "    print(touching_list)"
   ]
  },
  {
   "cell_type": "markdown",
   "id": "f2e4edd4",
   "metadata": {},
   "source": [
    "add any countries we need to "
   ]
  },
  {
   "cell_type": "code",
   "execution_count": null,
   "id": "d1c34fc7",
   "metadata": {},
   "outputs": [],
   "source": [
    "for country_v in added_countries:\n",
    "    touching_list.append(country_v)\n",
    "touching_list"
   ]
  },
  {
   "cell_type": "markdown",
   "id": "9f20cb59",
   "metadata": {},
   "source": [
    "create a dataframe to build upon.\n"
   ]
  },
  {
   "cell_type": "code",
   "execution_count": null,
   "id": "2248b8ba",
   "metadata": {},
   "outputs": [],
   "source": [
    "touching_df = pd.DataFrame (touching_list, columns = ['bording_countries'])\n",
    "touching_df['conflict']=conflict_country"
   ]
  },
  {
   "cell_type": "markdown",
   "id": "18d8e45e",
   "metadata": {},
   "source": [
    "read in historic_pop"
   ]
  },
  {
   "cell_type": "code",
   "execution_count": null,
   "id": "2e40ce83",
   "metadata": {},
   "outputs": [],
   "source": [
    "historic_pop=pd.read_csv('refugee_data/historic_pop.csv')    "
   ]
  },
  {
   "cell_type": "markdown",
   "id": "b0351621",
   "metadata": {},
   "source": [
    "Get historic populations from year before conflict\n"
   ]
  },
  {
   "cell_type": "code",
   "execution_count": null,
   "id": "3c1302d9",
   "metadata": {},
   "outputs": [],
   "source": [
    "options=historic_pop[\"Country Name\"]\n",
    "touching_df['historic_pop']=None\n",
    "historic_pop_cols=historic_pop.columns\n",
    "\n",
    "indexed_col={}\n",
    "for i,c in enumerate(historic_pop_cols):\n",
    "    indexed_col[i]=c\n",
    "\n",
    "column,ratio_year, year_column_idx = process.extractOne(str(conflict_start), indexed_col)\n",
    "\n",
    "\n",
    "for kk ,border in touching_df.iterrows():\n",
    "    country,ratio,ind =process.extractOne(border[\"bording_countries\"], options)\n",
    "    touching_df.loc[kk,\"historic_pop\"]=historic_pop.at[ind,column]"
   ]
  },
  {
   "cell_type": "markdown",
   "id": "1a17e186",
   "metadata": {},
   "source": [
    "read in historic gdp per cap data\n"
   ]
  },
  {
   "cell_type": "code",
   "execution_count": null,
   "id": "c86d3611",
   "metadata": {},
   "outputs": [],
   "source": [
    "gdp_per_cap_historic=pd.read_csv(\"refugee_data/gdp_per_cap.csv\")"
   ]
  },
  {
   "cell_type": "markdown",
   "id": "b3436a01",
   "metadata": {},
   "source": [
    "collect gdp per cap for year before conflict\n"
   ]
  },
  {
   "cell_type": "code",
   "execution_count": null,
   "id": "670df1cb",
   "metadata": {},
   "outputs": [],
   "source": [
    "options=gdp_per_cap_historic[\"Country Name\"]\n",
    "touching_df['historic_gdp_per_cap']=None\n",
    "\n",
    "#Get data from historic gdp per cap given the year.\n",
    "historic_gdp_cols=gdp_per_cap_historic.columns\n",
    "indexed_gdp_col={}\n",
    "for i,c in enumerate(historic_gdp_cols):\n",
    "    indexed_gdp_col[i]=c\n",
    "\n",
    "    \n",
    "column,ratio_year, year_column_idx = process.extractOne(str(conflict_start), indexed_gdp_col)\n",
    "\n",
    "for kk ,border in touching_df.iterrows():\n",
    "    country,ratio,ind =process.extractOne(border[\"bording_countries\"], options)\n",
    "    touching_df.loc[kk,\"historic_gdp_per_cap\"]=gdp_per_cap_historic.at[ind,column]"
   ]
  },
  {
   "cell_type": "markdown",
   "id": "22477697",
   "metadata": {},
   "source": [
    "calculate historic gdp for later use if needed\n"
   ]
  },
  {
   "cell_type": "code",
   "execution_count": null,
   "id": "08ebf84b",
   "metadata": {},
   "outputs": [],
   "source": [
    "touching_df['calculated_historic_gdp']=None\n",
    "for kk ,row in touching_df.iterrows():\n",
    "    try:\n",
    "        touching_df.loc[kk,\"calculated_historic_gdp\"]=int(row['historic_pop'])*float(row['historic_gdp_per_cap'])\n",
    "    except Exception as e:\n",
    "        print(e, f'GDP per cap for {row[\"bording_countries\"]} data was {row[\"historic_gdp_per_cap\"]}' )\n"
   ]
  },
  {
   "cell_type": "markdown",
   "id": "653ba8e3",
   "metadata": {},
   "source": [
    "read in V-Dem data and subset the dataset to only enclude columns we care about"
   ]
  },
  {
   "cell_type": "code",
   "execution_count": null,
   "id": "4485a6e2",
   "metadata": {},
   "outputs": [],
   "source": [
    "Dem=pd.read_csv(\"refugee_data/V-Dem-CY-Core-v12.csv\")\n",
    "columnList=[\"country_name\",\"year\",\"v2xeg_eqdr\",\"v2x_libdem\"]\n",
    "country_dem=Dem[columnList]"
   ]
  },
  {
   "cell_type": "markdown",
   "id": "027bec7e",
   "metadata": {},
   "source": [
    "collect liberal democracy and access to justic for women data for each country given conflict year\n"
   ]
  },
  {
   "cell_type": "code",
   "execution_count": null,
   "id": "2be3f5fa",
   "metadata": {},
   "outputs": [],
   "source": [
    "touching_df[\"v2x_libdem\"]=None\n",
    "touching_df[\"v2xeg_eqdr\"]=None\n",
    "\n",
    "options=country_dem['country_name'].unique()\n",
    "\n",
    "for kk ,row in touching_df.iterrows():\n",
    "    country,ratio =process.extractOne(row[\"bording_countries\"], options)\n",
    "    lib=country_dem.loc[(country_dem[\"country_name\"]==country) & (country_dem[\"year\"]==int(conflict_start))]['v2x_libdem']\n",
    "    eqdr=country_dem.loc[(country_dem[\"country_name\"]==country) & (country_dem[\"year\"]==int(conflict_start))]['v2xeg_eqdr']\n",
    "    touching_df.loc[kk,\"v2xeg_eqdr\"]=eqdr.to_list()[0]\n",
    "    touching_df.loc[kk,\"v2x_libdem\"]=lib.to_list()[0]"
   ]
  },
  {
   "cell_type": "markdown",
   "id": "8206fc70",
   "metadata": {},
   "source": [
    "read in historic gdp from world bank not calculated manually."
   ]
  },
  {
   "cell_type": "code",
   "execution_count": null,
   "id": "b6628479",
   "metadata": {},
   "outputs": [],
   "source": [
    "historic_GDP=pd.read_csv('refugee_data/GDP_historic.csv')"
   ]
  },
  {
   "cell_type": "markdown",
   "id": "f8551daa",
   "metadata": {},
   "source": [
    "Get data from historic gdp per cap given the year.\n"
   ]
  },
  {
   "cell_type": "code",
   "execution_count": null,
   "id": "5cad5d75",
   "metadata": {},
   "outputs": [],
   "source": [
    "options=historic_GDP[\"Country Name\"]\n",
    "touching_df['historic_GDP']=None\n",
    "historic_GDP_cols=historic_GDP.columns\n",
    "indexed_GDP_col={}\n",
    "for i,c in enumerate(historic_GDP_cols):\n",
    "    indexed_GDP_col[i]=c\n",
    "\n",
    "    \n",
    "column,ratio_year, year_column_idx = process.extractOne(str(conflict_start), indexed_GDP_col)\n",
    "\n",
    "for kk ,border in touching_df.iterrows():\n",
    "    country,ratio,ind =process.extractOne(border[\"bording_countries\"], options)\n",
    "    touching_df.loc[kk,\"historic_GDP\"]=historic_GDP.at[ind,column]"
   ]
  },
  {
   "cell_type": "code",
   "execution_count": null,
   "id": "02085a65",
   "metadata": {},
   "outputs": [],
   "source": [
    "touching_df"
   ]
  },
  {
   "cell_type": "markdown",
   "id": "999ffcc9",
   "metadata": {},
   "source": [
    "Normalize the columns we will run the model on that are not already an index. For our current model that is only historic_GDP."
   ]
  },
  {
   "cell_type": "code",
   "execution_count": null,
   "id": "1fa27592",
   "metadata": {},
   "outputs": [],
   "source": [
    "\n",
    "cols_to_scale = ['historic_GDP']\n",
    "touching_df=touching_df.rename(columns={'bording_countries':'country'})"
   ]
  },
  {
   "cell_type": "code",
   "execution_count": null,
   "id": "f47efd50",
   "metadata": {},
   "outputs": [],
   "source": [
    "scaler = MinMaxScaler()\n",
    "for col in cols_to_scale:\n",
    "    print(col)\n",
    "    normed = pd.DataFrame()\n",
    "    \n",
    "    for y, x in touching_df.groupby('conflict'):\n",
    "        print(y,x)\n",
    "        norm_ = [i[0] for i in scaler.fit_transform(x[col].values.reshape(-1,1))]\n",
    "        countries = x['country']\n",
    "        conflict_ = x['conflict']\n",
    "        res = pd.DataFrame(tuple(zip(countries,conflict_,norm_)), columns=['country','conflict',f\"{col}_norm\"])\n",
    "        normed = normed.append(res)\n",
    "    normalized_data = pd.merge(touching_df, normed, left_on=['country','conflict'], right_on=['country','conflict'], how='right')"
   ]
  },
  {
   "cell_type": "code",
   "execution_count": null,
   "id": "bf141edb",
   "metadata": {},
   "outputs": [],
   "source": [
    "normalized_data"
   ]
  },
  {
   "cell_type": "markdown",
   "id": "faa037ad",
   "metadata": {},
   "source": [
    "Load the prebuild model "
   ]
  },
  {
   "cell_type": "code",
   "execution_count": null,
   "id": "259603bd",
   "metadata": {},
   "outputs": [],
   "source": [
    "new_results = load_pickle(\"refugee_model_results.pickle\")"
   ]
  },
  {
   "cell_type": "markdown",
   "id": "6b8deb3d",
   "metadata": {},
   "source": [
    "set independant variables \n"
   ]
  },
  {
   "cell_type": "code",
   "execution_count": null,
   "id": "5eecd6f5",
   "metadata": {},
   "outputs": [],
   "source": [
    "features_cols = [\n",
    "                    'historic_GDP_norm', \n",
    "                    'v2x_libdem',\n",
    "]\n",
    "features_normalized = data[features_cols]"
   ]
  },
  {
   "cell_type": "code",
   "execution_count": null,
   "id": "c0acf956",
   "metadata": {},
   "outputs": [],
   "source": [
    "data[['country',\"conflict\"]+features_cols]"
   ]
  },
  {
   "cell_type": "markdown",
   "id": "a04e9e0b",
   "metadata": {},
   "source": [
    "Currently if a country does not have data for a column we are dropping that country. If you need to not drop a country you need to fill in the missing data manually or some other method.\n"
   ]
  },
  {
   "cell_type": "code",
   "execution_count": null,
   "id": "ace568a9",
   "metadata": {},
   "outputs": [],
   "source": [
    "data=data.dropna()"
   ]
  },
  {
   "cell_type": "markdown",
   "id": "1eb8e258",
   "metadata": {},
   "source": [
    "Select only features that are needed and use the model to predict \n"
   ]
  },
  {
   "cell_type": "code",
   "execution_count": null,
   "id": "e84c2316",
   "metadata": {},
   "outputs": [],
   "source": [
    "features_to_predict=data[features_cols]\n",
    "shares = new_results.predict(features_to_predict)\n",
    "data['predicted_shares'] = shares"
   ]
  },
  {
   "cell_type": "markdown",
   "id": "b833bd60",
   "metadata": {},
   "source": [
    "save results to a csv file for next step."
   ]
  },
  {
   "cell_type": "code",
   "execution_count": null,
   "id": "be254f35",
   "metadata": {},
   "outputs": [],
   "source": [
    "output_results = data[['country',\"conflict\",'predicted_shares']]\n",
    "output_results.to_csv(f'outputs/{conflict_country}_output_results.csv',index=False)"
   ]
  },
  {
   "cell_type": "code",
   "execution_count": null,
   "id": "aa8657d8",
   "metadata": {},
   "outputs": [],
   "source": [
    "output_results"
   ]
  }
 ],
 "metadata": {
  "kernelspec": {
   "display_name": "Python 3",
   "language": "python",
   "name": "python3"
  },
  "language_info": {
   "codemirror_mode": {
    "name": "ipython",
    "version": 3
   },
   "file_extension": ".py",
   "mimetype": "text/x-python",
   "name": "python",
   "nbconvert_exporter": "python",
   "pygments_lexer": "ipython3",
   "version": "3.8.2"
  }
 },
 "nbformat": 4,
 "nbformat_minor": 5
}
