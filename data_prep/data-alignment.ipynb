{
 "cells": [
  {
   "cell_type": "code",
   "execution_count": 1,
   "id": "dc96d443",
   "metadata": {},
   "outputs": [],
   "source": [
    "import pandas as pd\n",
    "from IPython.display import display"
   ]
  },
  {
   "cell_type": "markdown",
   "id": "aa140e47",
   "metadata": {},
   "source": [
    "## Process global refugee data\n",
    "From UNHCR 1990 onward for all countries"
   ]
  },
  {
   "cell_type": "code",
   "execution_count": 2,
   "id": "a270e581",
   "metadata": {
    "scrolled": true
   },
   "outputs": [
    {
     "data": {
      "text/html": [
       "<div>\n",
       "<style scoped>\n",
       "    .dataframe tbody tr th:only-of-type {\n",
       "        vertical-align: middle;\n",
       "    }\n",
       "\n",
       "    .dataframe tbody tr th {\n",
       "        vertical-align: top;\n",
       "    }\n",
       "\n",
       "    .dataframe thead th {\n",
       "        text-align: right;\n",
       "    }\n",
       "</style>\n",
       "<table border=\"1\" class=\"dataframe\">\n",
       "  <thead>\n",
       "    <tr style=\"text-align: right;\">\n",
       "      <th></th>\n",
       "      <th>Year</th>\n",
       "      <th>Country of origin</th>\n",
       "      <th>Country of origin (ISO)</th>\n",
       "      <th>Country of asylum</th>\n",
       "      <th>Country of asylum (ISO)</th>\n",
       "      <th>Refugees under UNHCR's mandate</th>\n",
       "    </tr>\n",
       "  </thead>\n",
       "  <tbody>\n",
       "    <tr>\n",
       "      <th>14274</th>\n",
       "      <td>2000</td>\n",
       "      <td>Afghanistan</td>\n",
       "      <td>AFG</td>\n",
       "      <td>Afghanistan</td>\n",
       "      <td>AFG</td>\n",
       "      <td>0</td>\n",
       "    </tr>\n",
       "    <tr>\n",
       "      <th>14275</th>\n",
       "      <td>2000</td>\n",
       "      <td>Afghanistan</td>\n",
       "      <td>AFG</td>\n",
       "      <td>Egypt</td>\n",
       "      <td>EGY</td>\n",
       "      <td>60</td>\n",
       "    </tr>\n",
       "    <tr>\n",
       "      <th>14276</th>\n",
       "      <td>2000</td>\n",
       "      <td>Afghanistan</td>\n",
       "      <td>AFG</td>\n",
       "      <td>Australia</td>\n",
       "      <td>AUS</td>\n",
       "      <td>4358</td>\n",
       "    </tr>\n",
       "    <tr>\n",
       "      <th>14277</th>\n",
       "      <td>2000</td>\n",
       "      <td>Afghanistan</td>\n",
       "      <td>AFG</td>\n",
       "      <td>Austria</td>\n",
       "      <td>AUT</td>\n",
       "      <td>679</td>\n",
       "    </tr>\n",
       "    <tr>\n",
       "      <th>14278</th>\n",
       "      <td>2000</td>\n",
       "      <td>Afghanistan</td>\n",
       "      <td>AFG</td>\n",
       "      <td>Azerbaijan</td>\n",
       "      <td>AZE</td>\n",
       "      <td>172</td>\n",
       "    </tr>\n",
       "  </tbody>\n",
       "</table>\n",
       "</div>"
      ],
      "text/plain": [
       "       Year Country of origin Country of origin (ISO) Country of asylum  \\\n",
       "14274  2000       Afghanistan                     AFG       Afghanistan   \n",
       "14275  2000       Afghanistan                     AFG             Egypt   \n",
       "14276  2000       Afghanistan                     AFG         Australia   \n",
       "14277  2000       Afghanistan                     AFG           Austria   \n",
       "14278  2000       Afghanistan                     AFG        Azerbaijan   \n",
       "\n",
       "      Country of asylum (ISO)  Refugees under UNHCR's mandate  \n",
       "14274                     AFG                               0  \n",
       "14275                     EGY                              60  \n",
       "14276                     AUS                            4358  \n",
       "14277                     AUT                             679  \n",
       "14278                     AZE                             172  "
      ]
     },
     "metadata": {},
     "output_type": "display_data"
    }
   ],
   "source": [
    "refugees = pd.read_csv('../refugee_data/1990_onward_unhcr.csv', skiprows=14)\n",
    "refugees = refugees[refugees.columns[:6]]\n",
    "refugees = refugees[(refugees['Year']>=2000) & (refugees['Year']<=2020)]\n",
    "display(refugees.head())"
   ]
  },
  {
   "cell_type": "markdown",
   "id": "a9febadc",
   "metadata": {},
   "source": [
    "## Bordering analysis\n",
    "\n",
    "Determine whether the origin and asylum countries border each other"
   ]
  },
  {
   "cell_type": "code",
   "execution_count": 3,
   "id": "1a8cc2bf",
   "metadata": {},
   "outputs": [
    {
     "name": "stdout",
     "output_type": "stream",
     "text": [
      "Borders for USA are: {'MEX', 'CAN'}\n"
     ]
    }
   ],
   "source": [
    "borders = pd.read_csv('../refugee_data/GEODATASOURCE-COUNTRY-BORDERS.CSV')\n",
    "iso_codes = pd.read_csv('../refugee_data/wikipedia-iso-country-codes.csv')\n",
    "iso_lookup = dict(zip(iso_codes['Alpha-2 code'],iso_codes['Alpha-3 code']))\n",
    "borders['iso3'] = borders.country_code.apply(lambda x: iso_lookup.get(x))\n",
    "borders['iso3_border'] = borders.country_border_code.apply(lambda x: iso_lookup.get(x))\n",
    "\n",
    "borders_lookup = {}\n",
    "for kk in borders.iso3.unique():\n",
    "    borders_lookup[kk] = set(borders[borders['iso3']==kk]['iso3_border'].to_list())\n",
    "\n",
    "print(f\"Borders for USA are: {borders_lookup['USA']}\")"
   ]
  },
  {
   "cell_type": "code",
   "execution_count": 4,
   "id": "b5ce542a",
   "metadata": {},
   "outputs": [],
   "source": [
    "missing = set()\n",
    "def is_bordering(row):\n",
    "    try:\n",
    "        bordering = borders_lookup[row['Country of origin (ISO)']]\n",
    "    except:\n",
    "        missing.add(row['Country of origin (ISO)'])\n",
    "        return None\n",
    "    if row['Country of asylum (ISO)'] in bordering:\n",
    "        return True\n",
    "    else:\n",
    "        return False"
   ]
  },
  {
   "cell_type": "code",
   "execution_count": 5,
   "id": "2ab3b01f",
   "metadata": {},
   "outputs": [
    {
     "name": "stdout",
     "output_type": "stream",
     "text": [
      "Unable to match the following countries: ['Stateless', 'Tibetan', 'Unknown ', 'Curacao ']\n"
     ]
    }
   ],
   "source": [
    "refugees['is_bordering'] = refugees.apply(lambda row: is_bordering(row), axis=1)\n",
    "\n",
    "missed = list(refugees[refugees['Country of origin (ISO)'].isin(missing)]['Country of origin'].unique())\n",
    "print(f\"Unable to match the following countries: {missed}\")"
   ]
  },
  {
   "cell_type": "code",
   "execution_count": 6,
   "id": "f4ba9a13",
   "metadata": {},
   "outputs": [
    {
     "name": "stdout",
     "output_type": "stream",
     "text": [
      "Of the total 89468 observations, only 5661 were between bordering countries\n"
     ]
    }
   ],
   "source": [
    "print(f\"Of the total {refugees.shape[0]} observations, only {refugees[refugees['is_bordering']==True].shape[0]}\"\\\n",
    "      \" were between bordering countries\")"
   ]
  },
  {
   "cell_type": "markdown",
   "id": "a63009c9",
   "metadata": {},
   "source": [
    "## Process historic GDP\n",
    "Data is from [World Bank](https://data.worldbank.org/indicator/NY.GDP.MKTP.CD?most_recent_year_desc=false)"
   ]
  },
  {
   "cell_type": "code",
   "execution_count": 7,
   "id": "2015b795",
   "metadata": {},
   "outputs": [
    {
     "data": {
      "text/html": [
       "<div>\n",
       "<style scoped>\n",
       "    .dataframe tbody tr th:only-of-type {\n",
       "        vertical-align: middle;\n",
       "    }\n",
       "\n",
       "    .dataframe tbody tr th {\n",
       "        vertical-align: top;\n",
       "    }\n",
       "\n",
       "    .dataframe thead th {\n",
       "        text-align: right;\n",
       "    }\n",
       "</style>\n",
       "<table border=\"1\" class=\"dataframe\">\n",
       "  <thead>\n",
       "    <tr style=\"text-align: right;\">\n",
       "      <th></th>\n",
       "      <th>Country Name</th>\n",
       "      <th>Country Code</th>\n",
       "      <th>Year</th>\n",
       "      <th>GDP (current US$)</th>\n",
       "    </tr>\n",
       "  </thead>\n",
       "  <tbody>\n",
       "    <tr>\n",
       "      <th>0</th>\n",
       "      <td>Aruba</td>\n",
       "      <td>ABW</td>\n",
       "      <td>1960</td>\n",
       "      <td>NaN</td>\n",
       "    </tr>\n",
       "    <tr>\n",
       "      <th>1</th>\n",
       "      <td>Africa Eastern and Southern</td>\n",
       "      <td>AFE</td>\n",
       "      <td>1960</td>\n",
       "      <td>2.008272e+10</td>\n",
       "    </tr>\n",
       "    <tr>\n",
       "      <th>2</th>\n",
       "      <td>Afghanistan</td>\n",
       "      <td>AFG</td>\n",
       "      <td>1960</td>\n",
       "      <td>5.377778e+08</td>\n",
       "    </tr>\n",
       "    <tr>\n",
       "      <th>3</th>\n",
       "      <td>Africa Western and Central</td>\n",
       "      <td>AFW</td>\n",
       "      <td>1960</td>\n",
       "      <td>1.040428e+10</td>\n",
       "    </tr>\n",
       "    <tr>\n",
       "      <th>4</th>\n",
       "      <td>Angola</td>\n",
       "      <td>AGO</td>\n",
       "      <td>1960</td>\n",
       "      <td>NaN</td>\n",
       "    </tr>\n",
       "  </tbody>\n",
       "</table>\n",
       "</div>"
      ],
      "text/plain": [
       "                  Country Name Country Code  Year  GDP (current US$)\n",
       "0                        Aruba          ABW  1960                NaN\n",
       "1  Africa Eastern and Southern          AFE  1960       2.008272e+10\n",
       "2                  Afghanistan          AFG  1960       5.377778e+08\n",
       "3   Africa Western and Central          AFW  1960       1.040428e+10\n",
       "4                       Angola          AGO  1960                NaN"
      ]
     },
     "metadata": {},
     "output_type": "display_data"
    }
   ],
   "source": [
    "gdp = pd.read_csv('../refugee_data/API_NY.GDP.MKTP.CD_DS2_en_csv_v2_4019306.csv', skiprows=4)\n",
    "gdp = pd.melt(gdp, id_vars=gdp.columns[:4], value_vars=gdp.columns[4:65])\\\n",
    "        .rename(columns={'variable': 'Year', 'value': 'GDP (current US$)'})\\\n",
    "        [['Country Name','Country Code','Year','GDP (current US$)']]\n",
    "gdp['Year'] = gdp.Year.apply(lambda x: int(x))\n",
    "display(gdp.head())"
   ]
  },
  {
   "cell_type": "markdown",
   "id": "9fb4448c",
   "metadata": {},
   "source": [
    "## Process historic population\n",
    "Data is from [World Bank](https://data.worldbank.org/indicator/SP.POP.TOTL?most_recent_year_desc=false)"
   ]
  },
  {
   "cell_type": "code",
   "execution_count": 8,
   "id": "d86daa1a",
   "metadata": {},
   "outputs": [
    {
     "data": {
      "text/html": [
       "<div>\n",
       "<style scoped>\n",
       "    .dataframe tbody tr th:only-of-type {\n",
       "        vertical-align: middle;\n",
       "    }\n",
       "\n",
       "    .dataframe tbody tr th {\n",
       "        vertical-align: top;\n",
       "    }\n",
       "\n",
       "    .dataframe thead th {\n",
       "        text-align: right;\n",
       "    }\n",
       "</style>\n",
       "<table border=\"1\" class=\"dataframe\">\n",
       "  <thead>\n",
       "    <tr style=\"text-align: right;\">\n",
       "      <th></th>\n",
       "      <th>Country Name</th>\n",
       "      <th>Country Code</th>\n",
       "      <th>Year</th>\n",
       "      <th>Population, total</th>\n",
       "    </tr>\n",
       "  </thead>\n",
       "  <tbody>\n",
       "    <tr>\n",
       "      <th>0</th>\n",
       "      <td>Aruba</td>\n",
       "      <td>ABW</td>\n",
       "      <td>1960</td>\n",
       "      <td>54208.0</td>\n",
       "    </tr>\n",
       "    <tr>\n",
       "      <th>1</th>\n",
       "      <td>Africa Eastern and Southern</td>\n",
       "      <td>AFE</td>\n",
       "      <td>1960</td>\n",
       "      <td>130836765.0</td>\n",
       "    </tr>\n",
       "    <tr>\n",
       "      <th>2</th>\n",
       "      <td>Afghanistan</td>\n",
       "      <td>AFG</td>\n",
       "      <td>1960</td>\n",
       "      <td>8996967.0</td>\n",
       "    </tr>\n",
       "    <tr>\n",
       "      <th>3</th>\n",
       "      <td>Africa Western and Central</td>\n",
       "      <td>AFW</td>\n",
       "      <td>1960</td>\n",
       "      <td>96396419.0</td>\n",
       "    </tr>\n",
       "    <tr>\n",
       "      <th>4</th>\n",
       "      <td>Angola</td>\n",
       "      <td>AGO</td>\n",
       "      <td>1960</td>\n",
       "      <td>5454938.0</td>\n",
       "    </tr>\n",
       "  </tbody>\n",
       "</table>\n",
       "</div>"
      ],
      "text/plain": [
       "                  Country Name Country Code  Year  Population, total\n",
       "0                        Aruba          ABW  1960            54208.0\n",
       "1  Africa Eastern and Southern          AFE  1960        130836765.0\n",
       "2                  Afghanistan          AFG  1960          8996967.0\n",
       "3   Africa Western and Central          AFW  1960         96396419.0\n",
       "4                       Angola          AGO  1960          5454938.0"
      ]
     },
     "metadata": {},
     "output_type": "display_data"
    }
   ],
   "source": [
    "pop = pd.read_csv('../refugee_data/API_SP.POP.TOTL_DS2_en_csv_v2_4019998.csv', skiprows=4)\n",
    "pop = pop.dropna(subset=['Country Code'])\n",
    "pop = pd.melt(pop, id_vars=pop.columns[:4], value_vars=pop.columns[4:65])\\\n",
    "        .rename(columns={'variable': 'Year', 'value': 'Population, total'})\\\n",
    "        [['Country Name','Country Code','Year','Population, total']]\n",
    "pop['Year'] = pop.Year.apply(lambda x: int(x))\n",
    "display(pop.head())"
   ]
  },
  {
   "cell_type": "markdown",
   "id": "7e7a0b45",
   "metadata": {},
   "source": [
    "## V-Dem\n",
    "Process V-Dem data from March 2022 [V-Dem core](https://www.v-dem.net/vdemds.html)"
   ]
  },
  {
   "cell_type": "code",
   "execution_count": 9,
   "id": "5ab4a3d7",
   "metadata": {
    "scrolled": true
   },
   "outputs": [
    {
     "data": {
      "text/html": [
       "<div>\n",
       "<style scoped>\n",
       "    .dataframe tbody tr th:only-of-type {\n",
       "        vertical-align: middle;\n",
       "    }\n",
       "\n",
       "    .dataframe tbody tr th {\n",
       "        vertical-align: top;\n",
       "    }\n",
       "\n",
       "    .dataframe thead th {\n",
       "        text-align: right;\n",
       "    }\n",
       "</style>\n",
       "<table border=\"1\" class=\"dataframe\">\n",
       "  <thead>\n",
       "    <tr style=\"text-align: right;\">\n",
       "      <th></th>\n",
       "      <th>Country Name</th>\n",
       "      <th>Country Code</th>\n",
       "      <th>Year</th>\n",
       "      <th>v2xeg_eqdr</th>\n",
       "      <th>v2x_libdem</th>\n",
       "    </tr>\n",
       "  </thead>\n",
       "  <tbody>\n",
       "    <tr>\n",
       "      <th>0</th>\n",
       "      <td>Mexico</td>\n",
       "      <td>MEX</td>\n",
       "      <td>2001</td>\n",
       "      <td>0.317</td>\n",
       "      <td>0.487</td>\n",
       "    </tr>\n",
       "    <tr>\n",
       "      <th>1</th>\n",
       "      <td>Mexico</td>\n",
       "      <td>MEX</td>\n",
       "      <td>2002</td>\n",
       "      <td>0.317</td>\n",
       "      <td>0.494</td>\n",
       "    </tr>\n",
       "    <tr>\n",
       "      <th>2</th>\n",
       "      <td>Mexico</td>\n",
       "      <td>MEX</td>\n",
       "      <td>2003</td>\n",
       "      <td>0.317</td>\n",
       "      <td>0.501</td>\n",
       "    </tr>\n",
       "    <tr>\n",
       "      <th>3</th>\n",
       "      <td>Mexico</td>\n",
       "      <td>MEX</td>\n",
       "      <td>2004</td>\n",
       "      <td>0.317</td>\n",
       "      <td>0.508</td>\n",
       "    </tr>\n",
       "    <tr>\n",
       "      <th>4</th>\n",
       "      <td>Mexico</td>\n",
       "      <td>MEX</td>\n",
       "      <td>2005</td>\n",
       "      <td>0.317</td>\n",
       "      <td>0.508</td>\n",
       "    </tr>\n",
       "  </tbody>\n",
       "</table>\n",
       "</div>"
      ],
      "text/plain": [
       "  Country Name Country Code  Year  v2xeg_eqdr  v2x_libdem\n",
       "0       Mexico          MEX  2001       0.317       0.487\n",
       "1       Mexico          MEX  2002       0.317       0.494\n",
       "2       Mexico          MEX  2003       0.317       0.501\n",
       "3       Mexico          MEX  2004       0.317       0.508\n",
       "4       Mexico          MEX  2005       0.317       0.508"
      ]
     },
     "metadata": {},
     "output_type": "display_data"
    }
   ],
   "source": [
    "vdem = pd.read_csv('../refugee_data/vdem_2000_2020.csv')[['country_name','country_text_id','year','v2xeg_eqdr','v2x_libdem']]\n",
    "vdem = vdem.rename(columns={'country_name': 'Country Name',\n",
    "                            'country_text_id': 'Country Code',\n",
    "                            'year': 'Year'})\n",
    "display(vdem.head())"
   ]
  },
  {
   "cell_type": "markdown",
   "id": "6d9cd0d9",
   "metadata": {},
   "source": [
    "### Combining Data"
   ]
  },
  {
   "cell_type": "code",
   "execution_count": 10,
   "id": "3e275b56",
   "metadata": {},
   "outputs": [
    {
     "data": {
      "text/html": [
       "<div>\n",
       "<style scoped>\n",
       "    .dataframe tbody tr th:only-of-type {\n",
       "        vertical-align: middle;\n",
       "    }\n",
       "\n",
       "    .dataframe tbody tr th {\n",
       "        vertical-align: top;\n",
       "    }\n",
       "\n",
       "    .dataframe thead th {\n",
       "        text-align: right;\n",
       "    }\n",
       "</style>\n",
       "<table border=\"1\" class=\"dataframe\">\n",
       "  <thead>\n",
       "    <tr style=\"text-align: right;\">\n",
       "      <th></th>\n",
       "      <th>Country Code</th>\n",
       "      <th>Year</th>\n",
       "      <th>v2xeg_eqdr</th>\n",
       "      <th>v2x_libdem</th>\n",
       "      <th>GDP (current US$)</th>\n",
       "      <th>Population, total</th>\n",
       "    </tr>\n",
       "  </thead>\n",
       "  <tbody>\n",
       "    <tr>\n",
       "      <th>0</th>\n",
       "      <td>MEX</td>\n",
       "      <td>2001</td>\n",
       "      <td>0.317</td>\n",
       "      <td>0.487</td>\n",
       "      <td>7.567063e+11</td>\n",
       "      <td>100298152.0</td>\n",
       "    </tr>\n",
       "    <tr>\n",
       "      <th>1</th>\n",
       "      <td>MEX</td>\n",
       "      <td>2002</td>\n",
       "      <td>0.317</td>\n",
       "      <td>0.494</td>\n",
       "      <td>7.721064e+11</td>\n",
       "      <td>101684764.0</td>\n",
       "    </tr>\n",
       "    <tr>\n",
       "      <th>2</th>\n",
       "      <td>MEX</td>\n",
       "      <td>2003</td>\n",
       "      <td>0.317</td>\n",
       "      <td>0.501</td>\n",
       "      <td>7.293363e+11</td>\n",
       "      <td>103081020.0</td>\n",
       "    </tr>\n",
       "    <tr>\n",
       "      <th>3</th>\n",
       "      <td>MEX</td>\n",
       "      <td>2004</td>\n",
       "      <td>0.317</td>\n",
       "      <td>0.508</td>\n",
       "      <td>7.822406e+11</td>\n",
       "      <td>104514934.0</td>\n",
       "    </tr>\n",
       "    <tr>\n",
       "      <th>4</th>\n",
       "      <td>MEX</td>\n",
       "      <td>2005</td>\n",
       "      <td>0.317</td>\n",
       "      <td>0.508</td>\n",
       "      <td>8.774762e+11</td>\n",
       "      <td>106005199.0</td>\n",
       "    </tr>\n",
       "  </tbody>\n",
       "</table>\n",
       "</div>"
      ],
      "text/plain": [
       "  Country Code  Year  v2xeg_eqdr  v2x_libdem  GDP (current US$)  \\\n",
       "0          MEX  2001       0.317       0.487       7.567063e+11   \n",
       "1          MEX  2002       0.317       0.494       7.721064e+11   \n",
       "2          MEX  2003       0.317       0.501       7.293363e+11   \n",
       "3          MEX  2004       0.317       0.508       7.822406e+11   \n",
       "4          MEX  2005       0.317       0.508       8.774762e+11   \n",
       "\n",
       "   Population, total  \n",
       "0        100298152.0  \n",
       "1        101684764.0  \n",
       "2        103081020.0  \n",
       "3        104514934.0  \n",
       "4        106005199.0  "
      ]
     },
     "metadata": {},
     "output_type": "display_data"
    }
   ],
   "source": [
    "pop.drop(labels=['Country Name'], axis=1, inplace=True)\n",
    "gdp.drop(labels=['Country Name'], axis=1, inplace=True)\n",
    "vdem.drop(labels=['Country Name'], axis=1, inplace=True)\n",
    "\n",
    "pop_gdp = pd.merge(gdp, pop, how='outer', \n",
    "             left_on=['Year','Country Code'],\n",
    "             right_on=['Year','Country Code'])\n",
    "\n",
    "vdem_pop_gdp = pd.merge(vdem, pop_gdp, how='outer', \n",
    "                 left_on=['Year','Country Code'],\n",
    "                 right_on=['Year','Country Code'])\n",
    "display(vdem_pop_gdp.head())"
   ]
  },
  {
   "cell_type": "code",
   "execution_count": 11,
   "id": "288a8435",
   "metadata": {},
   "outputs": [],
   "source": [
    "merged = pd.merge(refugees, vdem_pop_gdp, how='left',\n",
    "            left_on=['Year','Country of asylum (ISO)'],\n",
    "            right_on=['Year','Country Code'])"
   ]
  },
  {
   "cell_type": "code",
   "execution_count": 14,
   "id": "0c5249a2",
   "metadata": {
    "scrolled": true
   },
   "outputs": [],
   "source": [
    "merged.to_csv('../refugee_data/merged_refugee_data.csv', index=False)"
   ]
  },
  {
   "cell_type": "markdown",
   "id": "f5ef3ce0",
   "metadata": {},
   "source": [
    "### Ukraine only data"
   ]
  },
  {
   "cell_type": "code",
   "execution_count": 16,
   "id": "a9d1ee14",
   "metadata": {},
   "outputs": [
    {
     "data": {
      "text/plain": [
       "{'BLR', 'HUN', 'MDA', 'POL', 'ROU', 'RUS', 'SVK'}"
      ]
     },
     "execution_count": 16,
     "metadata": {},
     "output_type": "execute_result"
    }
   ],
   "source": [
    "borders_lookup['UKR']"
   ]
  },
  {
   "cell_type": "code",
   "execution_count": 28,
   "id": "6f3fc0da",
   "metadata": {},
   "outputs": [],
   "source": [
    "vdem_pop_gdp[(vdem_pop_gdp['Country Code'].isin(borders_lookup['UKR'])) & \\\n",
    "             (vdem_pop_gdp['Year']==2020)] \\\n",
    "            .to_csv('../refugee_data/ukr_pred_inputs.csv', index=False)"
   ]
  }
 ],
 "metadata": {
  "kernelspec": {
   "display_name": "Python 3 (ipykernel)",
   "language": "python",
   "name": "python3"
  },
  "language_info": {
   "codemirror_mode": {
    "name": "ipython",
    "version": 3
   },
   "file_extension": ".py",
   "mimetype": "text/x-python",
   "name": "python",
   "nbconvert_exporter": "python",
   "pygments_lexer": "ipython3",
   "version": "3.9.7"
  }
 },
 "nbformat": 4,
 "nbformat_minor": 5
}
