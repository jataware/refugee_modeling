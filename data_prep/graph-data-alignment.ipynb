{
 "cells": [
  {
   "cell_type": "code",
   "execution_count": 182,
   "id": "717dca19",
   "metadata": {},
   "outputs": [],
   "source": [
    "import pandas as pd\n",
    "import re\n",
    "\n",
    "import numpy as np\n",
    "import multiprocess as mp\n",
    " \n",
    "cores = mp.cpu_count()-2 #Number of CPU cores on your system\n",
    "partitions = cores #Define as many partitions as you want\n",
    "\n",
    "from glob import glob"
   ]
  },
  {
   "cell_type": "code",
   "execution_count": 148,
   "id": "fd3be05f",
   "metadata": {},
   "outputs": [],
   "source": [
    "df1 = pd.read_csv('/Users/brandonrose/Downloads/S1_File/Data_1.csv')\n",
    "df2 = pd.read_csv('/Users/brandonrose/Downloads/S1_File/Data_2.csv')\n",
    "df3 = pd.read_csv('/Users/brandonrose/Downloads/S1_File/Data_3.csv')\n",
    "df4 = pd.read_csv('/Users/brandonrose/Downloads/S1_File/Data_4.csv')\n",
    "df5 = pd.read_csv('/Users/brandonrose/Downloads/S1_File/Data_5.csv')\n",
    "\n",
    "df = pd.DataFrame()\n",
    "df = df.append([df1,df2,df3,df4,df5])"
   ]
  },
  {
   "cell_type": "code",
   "execution_count": 149,
   "id": "0a3c3b58",
   "metadata": {},
   "outputs": [],
   "source": [
    "base_features = df.columns[:7]"
   ]
  },
  {
   "cell_type": "code",
   "execution_count": 150,
   "id": "b1369020",
   "metadata": {},
   "outputs": [],
   "source": [
    "exp = re.compile(r'(19\\d{2}|20\\d{2})')"
   ]
  },
  {
   "cell_type": "code",
   "execution_count": 151,
   "id": "bfb7fc08",
   "metadata": {},
   "outputs": [],
   "source": [
    "variable_lookup = {}\n",
    "for i in df.columns[7:]:\n",
    "    try:\n",
    "        year = re.findall(exp, i)[0]\n",
    "        variable_lookup[i] = (int(year), \n",
    "                              i.replace(f\"{year}\", '')\\\n",
    "                              .replace('..','.')\\\n",
    "                              .rstrip('.'))\n",
    "    except:\n",
    "        variable_lookup[i] = ('All', i)\n",
    "    \n",
    "features = {}\n",
    "for kk, vv in variable_lookup.items():\n",
    "    if vv[1] not in features:\n",
    "        features[vv[1]]=[kk]\n",
    "    else:\n",
    "        features[vv[1]].append(kk)"
   ]
  },
  {
   "cell_type": "code",
   "execution_count": 152,
   "id": "95552596",
   "metadata": {},
   "outputs": [],
   "source": [
    "kk = 'ref.flow'\n",
    "vv = features[kk]"
   ]
  },
  {
   "cell_type": "code",
   "execution_count": 153,
   "id": "b0eb15ba",
   "metadata": {},
   "outputs": [],
   "source": [
    "df_ = df[list(base_features) + vv]\n",
    "df_ = pd.melt(df_, id_vars=base_features, value_vars=vv)"
   ]
  },
  {
   "cell_type": "code",
   "execution_count": 170,
   "id": "fbbd8e93",
   "metadata": {},
   "outputs": [],
   "source": [
    "refugee_dyads = df_[df_['value']>1000]['dyad.id'].unique()"
   ]
  },
  {
   "cell_type": "code",
   "execution_count": 175,
   "id": "71e04425",
   "metadata": {},
   "outputs": [
    {
     "name": "stdout",
     "output_type": "stream",
     "text": [
      "There are 315 dyads with more than 1000 refugees\n"
     ]
    }
   ],
   "source": [
    "print(f\"There are {len(refugee_dyads)} dyads with more than 1000 refugees\")"
   ]
  },
  {
   "cell_type": "code",
   "execution_count": 176,
   "id": "f47d0b04",
   "metadata": {},
   "outputs": [],
   "source": [
    "df = df[df['dyad.id'].isin(refugee_dyads)]"
   ]
  },
  {
   "cell_type": "code",
   "execution_count": 177,
   "id": "405d4a43",
   "metadata": {},
   "outputs": [
    {
     "data": {
      "text/plain": [
       "(1590, 376)"
      ]
     },
     "execution_count": 177,
     "metadata": {},
     "output_type": "execute_result"
    }
   ],
   "source": [
    "df.shape"
   ]
  },
  {
   "cell_type": "code",
   "execution_count": 178,
   "id": "cf6b89a3",
   "metadata": {},
   "outputs": [],
   "source": [
    "def featurize(row):\n",
    "    res = variable_lookup[row.variable]\n",
    "    row['year'] = res[0]\n",
    "    row['feature'] = res[1]\n",
    "    return row\n",
    "\n",
    "def get_feats(df):\n",
    "    df = df.apply(lambda row: featurize(row), axis=1)\n",
    "    return df"
   ]
  },
  {
   "cell_type": "code",
   "execution_count": 179,
   "id": "b5ad0479",
   "metadata": {},
   "outputs": [],
   "source": [
    "def parallelize(data, func):\n",
    "    data_split = np.array_split(data, partitions)\n",
    "    pool = mp.Pool(cores)\n",
    "    data = pd.concat(pool.map(func, data_split))\n",
    "    pool.close()\n",
    "    pool.join()\n",
    "    return data"
   ]
  },
  {
   "cell_type": "code",
   "execution_count": 180,
   "id": "b3a6395a",
   "metadata": {},
   "outputs": [
    {
     "name": "stdout",
     "output_type": "stream",
     "text": [
      "There are 24 features to process.\n",
      "\n",
      "They are ['trade', 'ref.flow', 'alliance.defense', 'riv.strategic', 'rivalry.strategic.positional', 'rivalry.strategic.spatial', 'rivalry.strategic.ideological', 'rivalry.strategic.interv', 'contiguity', 'contiguity.any', 'min.distance', 'immigrant.population', 'pts.gradient', 'gdppc.gradient', 'polyarchy.additive.gradient', 'remittances', 'arms', 'remit', 'trips', 'arms.inverse', 'riv.strategic.positional', 'riv.strategic.ideological', 'riv.strategic.spatial', 'riv.strategic.interv']\n"
     ]
    }
   ],
   "source": [
    "print(f\"There are {len(features.keys())} features to process.\\n\\nThey are {list(features.keys())}\")"
   ]
  },
  {
   "cell_type": "code",
   "execution_count": 181,
   "id": "8cd6cfd5",
   "metadata": {},
   "outputs": [
    {
     "name": "stdout",
     "output_type": "stream",
     "text": [
      "Trying trade\n",
      "Trying ref.flow\n",
      "Trying alliance.defense\n",
      "Trying riv.strategic\n",
      "Trying rivalry.strategic.positional\n",
      "Trying rivalry.strategic.spatial\n",
      "Trying rivalry.strategic.ideological\n",
      "Trying rivalry.strategic.interv\n",
      "Trying contiguity\n",
      "Trying contiguity.any\n",
      "Trying min.distance\n",
      "Trying immigrant.population\n",
      "Trying pts.gradient\n",
      "Trying gdppc.gradient\n",
      "Trying polyarchy.additive.gradient\n",
      "Trying remittances\n",
      "Trying arms\n",
      "Trying remit\n",
      "Trying trips\n",
      "Trying arms.inverse\n",
      "Trying riv.strategic.positional\n",
      "Trying riv.strategic.ideological\n",
      "Trying riv.strategic.spatial\n",
      "Trying riv.strategic.interv\n"
     ]
    }
   ],
   "source": [
    "for kk, vv in features.items():\n",
    "    print(f\"Trying {kk}\")\n",
    "    df_ = df[list(base_features) + vv]\n",
    "    df_ = pd.melt(df_, id_vars=base_features, value_vars=vv)\n",
    "    data = parallelize(df_, get_feats)\n",
    "    data.rename(columns={'value': kk}, inplace=True)\n",
    "    data.drop(labels=['variable','feature'], axis=1, inplace=True)\n",
    "    data.to_csv(f'../refugee_data/s1_cleaned/{kk}.csv',index=False)\n",
    "    del(data)\n",
    "    del(df_)"
   ]
  },
  {
   "cell_type": "code",
   "execution_count": 234,
   "id": "77e3f06f",
   "metadata": {},
   "outputs": [],
   "source": [
    "files = glob('../refugee_data/s1_cleaned/*.csv')\n",
    "d = pd.read_csv(files[0]).dropna()"
   ]
  },
  {
   "cell_type": "code",
   "execution_count": 235,
   "id": "0b75ec56",
   "metadata": {},
   "outputs": [
    {
     "name": "stdout",
     "output_type": "stream",
     "text": [
      "../refugee_data/s1_cleaned/rivalry.strategic.positional.csv\n",
      "../refugee_data/s1_cleaned/pts.gradient.csv\n",
      "../refugee_data/s1_cleaned/riv.strategic.positional.csv\n",
      "../refugee_data/s1_cleaned/trade.csv\n",
      "../refugee_data/s1_cleaned/polyarchy.additive.gradient.csv\n",
      "../refugee_data/s1_cleaned/alliance.defense.csv\n",
      "../refugee_data/s1_cleaned/arms.inverse.csv\n",
      "../refugee_data/s1_cleaned/immigrant.population.csv\n",
      "../refugee_data/s1_cleaned/gdppc.gradient.csv\n",
      "../refugee_data/s1_cleaned/ref.flow.csv\n",
      "../refugee_data/s1_cleaned/riv.strategic.spatial.csv\n",
      "../refugee_data/s1_cleaned/arms.csv\n",
      "../refugee_data/s1_cleaned/rivalry.strategic.ideological.csv\n",
      "../refugee_data/s1_cleaned/riv.strategic.csv\n",
      "../refugee_data/s1_cleaned/remittances.csv\n",
      "../refugee_data/s1_cleaned/contiguity.csv\n",
      "../refugee_data/s1_cleaned/rivalry.strategic.interv.csv\n",
      "../refugee_data/s1_cleaned/min.distance.csv\n",
      "../refugee_data/s1_cleaned/remit.csv\n",
      "../refugee_data/s1_cleaned/trips.csv\n",
      "../refugee_data/s1_cleaned/rivalry.strategic.spatial.csv\n",
      "../refugee_data/s1_cleaned/riv.strategic.ideological.csv\n",
      "../refugee_data/s1_cleaned/contiguity.any.csv\n"
     ]
    }
   ],
   "source": [
    "for file in files[1:]:\n",
    "    print(file)\n",
    "    d_ = pd.read_csv(file).dropna()\n",
    "    d = pd.merge(d, d_.replace('All',1990), left_on=list(base_features)+['year'], \n",
    "                 right_on=list(base_features)+['year'], how='outer')"
   ]
  },
  {
   "cell_type": "code",
   "execution_count": 236,
   "id": "4fd0d2c2",
   "metadata": {},
   "outputs": [
    {
     "data": {
      "text/plain": [
       "(9540, 32)"
      ]
     },
     "execution_count": 236,
     "metadata": {},
     "output_type": "execute_result"
    }
   ],
   "source": [
    "d.shape"
   ]
  },
  {
   "cell_type": "code",
   "execution_count": 237,
   "id": "81e0b039",
   "metadata": {},
   "outputs": [
    {
     "data": {
      "text/html": [
       "<div>\n",
       "<style scoped>\n",
       "    .dataframe tbody tr th:only-of-type {\n",
       "        vertical-align: middle;\n",
       "    }\n",
       "\n",
       "    .dataframe tbody tr th {\n",
       "        vertical-align: top;\n",
       "    }\n",
       "\n",
       "    .dataframe thead th {\n",
       "        text-align: right;\n",
       "    }\n",
       "</style>\n",
       "<table border=\"1\" class=\"dataframe\">\n",
       "  <thead>\n",
       "    <tr style=\"text-align: right;\">\n",
       "      <th></th>\n",
       "      <th>ccode1</th>\n",
       "      <th>ccode2</th>\n",
       "      <th>state.destination.name</th>\n",
       "      <th>state.destination.abb</th>\n",
       "      <th>state.origin.name</th>\n",
       "      <th>state.origin.abb</th>\n",
       "      <th>dyad.id</th>\n",
       "      <th>riv.strategic.interv</th>\n",
       "      <th>year</th>\n",
       "      <th>rivalry.strategic.positional</th>\n",
       "      <th>...</th>\n",
       "      <th>riv.strategic</th>\n",
       "      <th>remittances</th>\n",
       "      <th>contiguity</th>\n",
       "      <th>rivalry.strategic.interv</th>\n",
       "      <th>min.distance</th>\n",
       "      <th>remit</th>\n",
       "      <th>trips</th>\n",
       "      <th>rivalry.strategic.spatial</th>\n",
       "      <th>riv.strategic.ideological</th>\n",
       "      <th>contiguity.any</th>\n",
       "    </tr>\n",
       "  </thead>\n",
       "  <tbody>\n",
       "    <tr>\n",
       "      <th>0</th>\n",
       "      <td>2</td>\n",
       "      <td>20</td>\n",
       "      <td>Canada</td>\n",
       "      <td>CAN</td>\n",
       "      <td>United States of America</td>\n",
       "      <td>USA</td>\n",
       "      <td>220</td>\n",
       "      <td>0.0</td>\n",
       "      <td>2016</td>\n",
       "      <td>NaN</td>\n",
       "      <td>...</td>\n",
       "      <td>0.0</td>\n",
       "      <td>NaN</td>\n",
       "      <td>NaN</td>\n",
       "      <td>NaN</td>\n",
       "      <td>NaN</td>\n",
       "      <td>881.0</td>\n",
       "      <td>0.0</td>\n",
       "      <td>NaN</td>\n",
       "      <td>0.0</td>\n",
       "      <td>NaN</td>\n",
       "    </tr>\n",
       "    <tr>\n",
       "      <th>1</th>\n",
       "      <td>2</td>\n",
       "      <td>255</td>\n",
       "      <td>Germany</td>\n",
       "      <td>GMY</td>\n",
       "      <td>United States of America</td>\n",
       "      <td>USA</td>\n",
       "      <td>2255</td>\n",
       "      <td>0.0</td>\n",
       "      <td>2016</td>\n",
       "      <td>NaN</td>\n",
       "      <td>...</td>\n",
       "      <td>0.0</td>\n",
       "      <td>NaN</td>\n",
       "      <td>NaN</td>\n",
       "      <td>NaN</td>\n",
       "      <td>NaN</td>\n",
       "      <td>0.0</td>\n",
       "      <td>0.0</td>\n",
       "      <td>NaN</td>\n",
       "      <td>0.0</td>\n",
       "      <td>NaN</td>\n",
       "    </tr>\n",
       "    <tr>\n",
       "      <th>2</th>\n",
       "      <td>20</td>\n",
       "      <td>255</td>\n",
       "      <td>Germany</td>\n",
       "      <td>GMY</td>\n",
       "      <td>Canada</td>\n",
       "      <td>CAN</td>\n",
       "      <td>20255</td>\n",
       "      <td>0.0</td>\n",
       "      <td>2016</td>\n",
       "      <td>NaN</td>\n",
       "      <td>...</td>\n",
       "      <td>0.0</td>\n",
       "      <td>NaN</td>\n",
       "      <td>NaN</td>\n",
       "      <td>NaN</td>\n",
       "      <td>NaN</td>\n",
       "      <td>0.0</td>\n",
       "      <td>0.0</td>\n",
       "      <td>NaN</td>\n",
       "      <td>0.0</td>\n",
       "      <td>NaN</td>\n",
       "    </tr>\n",
       "    <tr>\n",
       "      <th>3</th>\n",
       "      <td>135</td>\n",
       "      <td>2</td>\n",
       "      <td>United States of America</td>\n",
       "      <td>USA</td>\n",
       "      <td>Peru</td>\n",
       "      <td>PER</td>\n",
       "      <td>1352</td>\n",
       "      <td>0.0</td>\n",
       "      <td>2016</td>\n",
       "      <td>NaN</td>\n",
       "      <td>...</td>\n",
       "      <td>0.0</td>\n",
       "      <td>NaN</td>\n",
       "      <td>NaN</td>\n",
       "      <td>NaN</td>\n",
       "      <td>NaN</td>\n",
       "      <td>0.0</td>\n",
       "      <td>0.0</td>\n",
       "      <td>NaN</td>\n",
       "      <td>0.0</td>\n",
       "      <td>NaN</td>\n",
       "    </tr>\n",
       "    <tr>\n",
       "      <th>4</th>\n",
       "      <td>210</td>\n",
       "      <td>255</td>\n",
       "      <td>Germany</td>\n",
       "      <td>GMY</td>\n",
       "      <td>Netherlands</td>\n",
       "      <td>NTH</td>\n",
       "      <td>210255</td>\n",
       "      <td>0.0</td>\n",
       "      <td>2016</td>\n",
       "      <td>NaN</td>\n",
       "      <td>...</td>\n",
       "      <td>0.0</td>\n",
       "      <td>NaN</td>\n",
       "      <td>NaN</td>\n",
       "      <td>NaN</td>\n",
       "      <td>NaN</td>\n",
       "      <td>0.0</td>\n",
       "      <td>0.0</td>\n",
       "      <td>NaN</td>\n",
       "      <td>0.0</td>\n",
       "      <td>NaN</td>\n",
       "    </tr>\n",
       "  </tbody>\n",
       "</table>\n",
       "<p>5 rows × 32 columns</p>\n",
       "</div>"
      ],
      "text/plain": [
       "   ccode1  ccode2    state.destination.name state.destination.abb  \\\n",
       "0       2      20                    Canada                   CAN   \n",
       "1       2     255                   Germany                   GMY   \n",
       "2      20     255                   Germany                   GMY   \n",
       "3     135       2  United States of America                   USA   \n",
       "4     210     255                   Germany                   GMY   \n",
       "\n",
       "          state.origin.name state.origin.abb  dyad.id  riv.strategic.interv  \\\n",
       "0  United States of America              USA      220                   0.0   \n",
       "1  United States of America              USA     2255                   0.0   \n",
       "2                    Canada              CAN    20255                   0.0   \n",
       "3                      Peru              PER     1352                   0.0   \n",
       "4               Netherlands              NTH   210255                   0.0   \n",
       "\n",
       "   year  rivalry.strategic.positional  ...  riv.strategic  remittances  \\\n",
       "0  2016                           NaN  ...            0.0          NaN   \n",
       "1  2016                           NaN  ...            0.0          NaN   \n",
       "2  2016                           NaN  ...            0.0          NaN   \n",
       "3  2016                           NaN  ...            0.0          NaN   \n",
       "4  2016                           NaN  ...            0.0          NaN   \n",
       "\n",
       "   contiguity  rivalry.strategic.interv  min.distance  remit  trips  \\\n",
       "0         NaN                       NaN           NaN  881.0    0.0   \n",
       "1         NaN                       NaN           NaN    0.0    0.0   \n",
       "2         NaN                       NaN           NaN    0.0    0.0   \n",
       "3         NaN                       NaN           NaN    0.0    0.0   \n",
       "4         NaN                       NaN           NaN    0.0    0.0   \n",
       "\n",
       "   rivalry.strategic.spatial  riv.strategic.ideological  contiguity.any  \n",
       "0                        NaN                        0.0             NaN  \n",
       "1                        NaN                        0.0             NaN  \n",
       "2                        NaN                        0.0             NaN  \n",
       "3                        NaN                        0.0             NaN  \n",
       "4                        NaN                        0.0             NaN  \n",
       "\n",
       "[5 rows x 32 columns]"
      ]
     },
     "execution_count": 237,
     "metadata": {},
     "output_type": "execute_result"
    }
   ],
   "source": [
    "d.head()"
   ]
  },
  {
   "cell_type": "markdown",
   "id": "c59c4a26",
   "metadata": {},
   "source": [
    "Demonstrate that we have at least _some_ non nulls"
   ]
  },
  {
   "cell_type": "code",
   "execution_count": 239,
   "id": "aeec4165",
   "metadata": {},
   "outputs": [
    {
     "data": {
      "text/html": [
       "<div>\n",
       "<style scoped>\n",
       "    .dataframe tbody tr th:only-of-type {\n",
       "        vertical-align: middle;\n",
       "    }\n",
       "\n",
       "    .dataframe tbody tr th {\n",
       "        vertical-align: top;\n",
       "    }\n",
       "\n",
       "    .dataframe thead th {\n",
       "        text-align: right;\n",
       "    }\n",
       "</style>\n",
       "<table border=\"1\" class=\"dataframe\">\n",
       "  <thead>\n",
       "    <tr style=\"text-align: right;\">\n",
       "      <th></th>\n",
       "      <th>ccode1</th>\n",
       "      <th>ccode2</th>\n",
       "      <th>state.destination.name</th>\n",
       "      <th>state.destination.abb</th>\n",
       "      <th>state.origin.name</th>\n",
       "      <th>state.origin.abb</th>\n",
       "      <th>dyad.id</th>\n",
       "      <th>trade</th>\n",
       "      <th>ref.flow</th>\n",
       "      <th>remit</th>\n",
       "      <th>trips</th>\n",
       "      <th>arms.inverse</th>\n",
       "    </tr>\n",
       "  </thead>\n",
       "  <tbody>\n",
       "    <tr>\n",
       "      <th>636</th>\n",
       "      <td>2</td>\n",
       "      <td>20</td>\n",
       "      <td>Canada</td>\n",
       "      <td>CAN</td>\n",
       "      <td>United States of America</td>\n",
       "      <td>USA</td>\n",
       "      <td>220</td>\n",
       "      <td>346062.5900</td>\n",
       "      <td>236.0</td>\n",
       "      <td>0.0</td>\n",
       "      <td>0.0</td>\n",
       "      <td>2.40</td>\n",
       "    </tr>\n",
       "    <tr>\n",
       "      <th>637</th>\n",
       "      <td>2</td>\n",
       "      <td>255</td>\n",
       "      <td>Germany</td>\n",
       "      <td>GMY</td>\n",
       "      <td>United States of America</td>\n",
       "      <td>USA</td>\n",
       "      <td>2255</td>\n",
       "      <td>123181.0400</td>\n",
       "      <td>0.0</td>\n",
       "      <td>0.0</td>\n",
       "      <td>0.0</td>\n",
       "      <td>0.00</td>\n",
       "    </tr>\n",
       "    <tr>\n",
       "      <th>638</th>\n",
       "      <td>20</td>\n",
       "      <td>255</td>\n",
       "      <td>Germany</td>\n",
       "      <td>GMY</td>\n",
       "      <td>Canada</td>\n",
       "      <td>CAN</td>\n",
       "      <td>20255</td>\n",
       "      <td>15889.1590</td>\n",
       "      <td>0.0</td>\n",
       "      <td>0.0</td>\n",
       "      <td>0.0</td>\n",
       "      <td>0.00</td>\n",
       "    </tr>\n",
       "    <tr>\n",
       "      <th>639</th>\n",
       "      <td>135</td>\n",
       "      <td>2</td>\n",
       "      <td>United States of America</td>\n",
       "      <td>USA</td>\n",
       "      <td>Peru</td>\n",
       "      <td>PER</td>\n",
       "      <td>1352</td>\n",
       "      <td>9759.9238</td>\n",
       "      <td>0.0</td>\n",
       "      <td>0.0</td>\n",
       "      <td>0.0</td>\n",
       "      <td>1.28</td>\n",
       "    </tr>\n",
       "    <tr>\n",
       "      <th>640</th>\n",
       "      <td>210</td>\n",
       "      <td>255</td>\n",
       "      <td>Germany</td>\n",
       "      <td>GMY</td>\n",
       "      <td>Netherlands</td>\n",
       "      <td>NTH</td>\n",
       "      <td>210255</td>\n",
       "      <td>84728.8980</td>\n",
       "      <td>1.0</td>\n",
       "      <td>0.0</td>\n",
       "      <td>8131865.0</td>\n",
       "      <td>0.00</td>\n",
       "    </tr>\n",
       "  </tbody>\n",
       "</table>\n",
       "</div>"
      ],
      "text/plain": [
       "     ccode1  ccode2    state.destination.name state.destination.abb  \\\n",
       "636       2      20                    Canada                   CAN   \n",
       "637       2     255                   Germany                   GMY   \n",
       "638      20     255                   Germany                   GMY   \n",
       "639     135       2  United States of America                   USA   \n",
       "640     210     255                   Germany                   GMY   \n",
       "\n",
       "            state.origin.name state.origin.abb  dyad.id        trade  \\\n",
       "636  United States of America              USA      220  346062.5900   \n",
       "637  United States of America              USA     2255  123181.0400   \n",
       "638                    Canada              CAN    20255   15889.1590   \n",
       "639                      Peru              PER     1352    9759.9238   \n",
       "640               Netherlands              NTH   210255   84728.8980   \n",
       "\n",
       "     ref.flow  remit      trips  arms.inverse  \n",
       "636     236.0    0.0        0.0          2.40  \n",
       "637       0.0    0.0        0.0          0.00  \n",
       "638       0.0    0.0        0.0          0.00  \n",
       "639       0.0    0.0        0.0          1.28  \n",
       "640       1.0    0.0  8131865.0          0.00  "
      ]
     },
     "execution_count": 239,
     "metadata": {},
     "output_type": "execute_result"
    }
   ],
   "source": [
    "d[(d['trade'].notnull()) & \\\n",
    "  (d['ref.flow'].notnull()) & \\\n",
    "  (d['remit'].notnull()) & \\\n",
    "  (d['trips'].notnull()) & \\\n",
    "  (d['arms.inverse'].notnull())] \\\n",
    "    [list(base_features) + ['trade','ref.flow','remit','trips','arms.inverse']].head()"
   ]
  },
  {
   "cell_type": "markdown",
   "id": "9340a630",
   "metadata": {},
   "source": [
    "Fix issues with `contiguity`, `contiguity.any` and `min.distance` since those are fixed over time. We set them to null except for 1990 so let's fill all other years with the values from 1990. "
   ]
  },
  {
   "cell_type": "code",
   "execution_count": 240,
   "id": "3de44e49",
   "metadata": {},
   "outputs": [],
   "source": [
    "def impute_dist_cont(row):\n",
    "    if row.year==1990:\n",
    "        return row\n",
    "    else:\n",
    "        imputer = d[(d['year']==1990)&(d['ccode1']==row.ccode1)&(d['ccode2']==row.ccode2)]\n",
    "        row['contiguity.any'] = imputer['contiguity.any'].iloc[0]\n",
    "        row['contiguity'] = imputer['contiguity'].iloc[0]\n",
    "        row['min.distance'] = imputer['min.distance'].iloc[0]\n",
    "        return row"
   ]
  },
  {
   "cell_type": "code",
   "execution_count": 241,
   "id": "b99c4c57",
   "metadata": {},
   "outputs": [],
   "source": [
    "d = d.apply(lambda row: impute_dist_cont(row), axis=1)"
   ]
  },
  {
   "cell_type": "markdown",
   "id": "c850b148",
   "metadata": {},
   "source": [
    "Let's check that this worked."
   ]
  },
  {
   "cell_type": "code",
   "execution_count": 242,
   "id": "4bc5a5a2",
   "metadata": {},
   "outputs": [
    {
     "data": {
      "text/plain": [
       "array([1., 0., 2., 4., 3., 5.])"
      ]
     },
     "execution_count": 242,
     "metadata": {},
     "output_type": "execute_result"
    }
   ],
   "source": [
    "d['contiguity'].unique()"
   ]
  },
  {
   "cell_type": "code",
   "execution_count": 243,
   "id": "4aea2bad",
   "metadata": {
    "scrolled": true
   },
   "outputs": [
    {
     "data": {
      "text/plain": [
       "year  min.distance\n",
       "1960  0.000000e+00    30\n",
       "      1.410000e-12     2\n",
       "      1.520000e-12     1\n",
       "      1.760000e-12     1\n",
       "      1.860000e-12     1\n",
       "                      ..\n",
       "2016  9.896475e+03     1\n",
       "      9.911236e+03     1\n",
       "      1.030244e+04     1\n",
       "      1.054190e+04     1\n",
       "      1.223704e+04     2\n",
       "Name: ccode1, Length: 6420, dtype: int64"
      ]
     },
     "execution_count": 243,
     "metadata": {},
     "output_type": "execute_result"
    }
   ],
   "source": [
    "d.groupby(['year','min.distance']).ccode1.count()"
   ]
  },
  {
   "cell_type": "code",
   "execution_count": 245,
   "id": "ca267274",
   "metadata": {},
   "outputs": [],
   "source": [
    "d.to_csv('../refugee_data/s1_process.csv', index=False)"
   ]
  }
 ],
 "metadata": {
  "kernelspec": {
   "display_name": "Python 3 (ipykernel)",
   "language": "python",
   "name": "python3"
  },
  "language_info": {
   "codemirror_mode": {
    "name": "ipython",
    "version": 3
   },
   "file_extension": ".py",
   "mimetype": "text/x-python",
   "name": "python",
   "nbconvert_exporter": "python",
   "pygments_lexer": "ipython3",
   "version": "3.9.7"
  }
 },
 "nbformat": 4,
 "nbformat_minor": 5
}
