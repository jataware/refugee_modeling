{
 "cells": [
  {
   "cell_type": "markdown",
   "id": "2af067c1",
   "metadata": {},
   "source": [
    "# Results Generation\n",
    "\n",
    "This notebook processes the results of the 2016 model from [How inter-state amity and animosity complement migration networks to drive refugee flows: A multi-layer network analysis, 1991–2016](https://journals.plos.org/plosone/article?id=10.1371/journal.pone.0245712) into predicted refugee shares for Ukraine."
   ]
  },
  {
   "cell_type": "code",
   "execution_count": 9,
   "id": "37949b4c",
   "metadata": {},
   "outputs": [],
   "source": [
    "import pandas as pd\n",
    "import re"
   ]
  },
  {
   "cell_type": "code",
   "execution_count": 21,
   "id": "074b1fe4",
   "metadata": {},
   "outputs": [],
   "source": [
    "df = pd.read_csv('/Users/brandonrose/Downloads/S1_File/Data_for_correlation network.csv')\\\n",
    "    [['ccode1','ccode2','state.destination.name','state.origin.name']]"
   ]
  },
  {
   "cell_type": "code",
   "execution_count": 22,
   "id": "badea8a7",
   "metadata": {},
   "outputs": [],
   "source": [
    "ccode_lookup = dict(zip(df.ccode1,df['state.origin.name']))\n",
    "\n",
    "ccode_lookup_str = {}\n",
    "for kk, vv in ccode_lookup.items():\n",
    "    ccode_lookup_str[str(kk)] = vv"
   ]
  },
  {
   "cell_type": "markdown",
   "id": "ac90c435",
   "metadata": {},
   "source": [
    "Down is ccode1, across ccode2"
   ]
  },
  {
   "cell_type": "code",
   "execution_count": 23,
   "id": "fc236f4f",
   "metadata": {},
   "outputs": [],
   "source": [
    "ref_preds = pd.read_csv('../../MR-QAP-refugees/ref_flow_preds_2016.csv')\n",
    "img_preds = pd.read_csv('../../MR-QAP-refugees/immig_flow_preds_2017.csv')"
   ]
  },
  {
   "cell_type": "code",
   "execution_count": 24,
   "id": "432734ec",
   "metadata": {},
   "outputs": [],
   "source": [
    "def proc_matrix(df):\n",
    "    df.rename(columns={'Unnamed: 0': 'ccode1'}, inplace=True)\n",
    "    df['origin'] = df.ccode1.apply(lambda x: ccode_lookup[x])\n",
    "    df.rename(columns=ccode_lookup_str, inplace=True)    \n",
    "    df.drop('ccode1', axis=1, inplace=True)\n",
    "    df = df.set_index('origin')    \n",
    "    return df"
   ]
  },
  {
   "cell_type": "code",
   "execution_count": 25,
   "id": "56af847c",
   "metadata": {},
   "outputs": [],
   "source": [
    "ref_preds = proc_matrix(ref_preds)\n",
    "img_preds = proc_matrix(img_preds)"
   ]
  },
  {
   "cell_type": "code",
   "execution_count": 26,
   "id": "e0ab9a1e",
   "metadata": {},
   "outputs": [
    {
     "data": {
      "text/plain": [
       "Russia      26807\n",
       "Belarus       801\n",
       "Hungary       711\n",
       "Romania       663\n",
       "Slovakia      627\n",
       "Moldova       495\n",
       "Poland        408\n",
       "Name: Ukraine, dtype: int64"
      ]
     },
     "execution_count": 26,
     "metadata": {},
     "output_type": "execute_result"
    }
   ],
   "source": [
    "ref_preds[['Hungary','Poland','Moldova','Romania','Slovakia','Belarus','Russia']].loc['Ukraine'].sort_values(ascending=False)\\\n",
    "    .round(0).astype(int)"
   ]
  },
  {
   "cell_type": "code",
   "execution_count": 27,
   "id": "a0b168c9",
   "metadata": {},
   "outputs": [
    {
     "data": {
      "text/plain": [
       "Russia      211955\n",
       "Belarus     183756\n",
       "Poland      182532\n",
       "Moldova     170532\n",
       "Hungary      34464\n",
       "Romania      31016\n",
       "Slovakia     30324\n",
       "Name: Ukraine, dtype: int64"
      ]
     },
     "execution_count": 27,
     "metadata": {},
     "output_type": "execute_result"
    }
   ],
   "source": [
    "img_preds[['Hungary','Poland','Moldova','Romania','Slovakia','Belarus','Russia']].loc['Ukraine'].sort_values(ascending=False)\\\n",
    "    .round(0).astype(int)"
   ]
  },
  {
   "cell_type": "code",
   "execution_count": 28,
   "id": "e75de51f",
   "metadata": {},
   "outputs": [
    {
     "data": {
      "text/html": [
       "<div>\n",
       "<style scoped>\n",
       "    .dataframe tbody tr th:only-of-type {\n",
       "        vertical-align: middle;\n",
       "    }\n",
       "\n",
       "    .dataframe tbody tr th {\n",
       "        vertical-align: top;\n",
       "    }\n",
       "\n",
       "    .dataframe thead th {\n",
       "        text-align: right;\n",
       "    }\n",
       "</style>\n",
       "<table border=\"1\" class=\"dataframe\">\n",
       "  <thead>\n",
       "    <tr style=\"text-align: right;\">\n",
       "      <th></th>\n",
       "      <th>Ukraine</th>\n",
       "      <th>share</th>\n",
       "    </tr>\n",
       "  </thead>\n",
       "  <tbody>\n",
       "    <tr>\n",
       "      <th>Hungary</th>\n",
       "      <td>711</td>\n",
       "      <td>0.244835</td>\n",
       "    </tr>\n",
       "    <tr>\n",
       "      <th>Romania</th>\n",
       "      <td>663</td>\n",
       "      <td>0.228306</td>\n",
       "    </tr>\n",
       "    <tr>\n",
       "      <th>Slovakia</th>\n",
       "      <td>627</td>\n",
       "      <td>0.215909</td>\n",
       "    </tr>\n",
       "    <tr>\n",
       "      <th>Moldova</th>\n",
       "      <td>495</td>\n",
       "      <td>0.170455</td>\n",
       "    </tr>\n",
       "    <tr>\n",
       "      <th>Poland</th>\n",
       "      <td>408</td>\n",
       "      <td>0.140496</td>\n",
       "    </tr>\n",
       "  </tbody>\n",
       "</table>\n",
       "</div>"
      ],
      "text/plain": [
       "          Ukraine     share\n",
       "Hungary       711  0.244835\n",
       "Romania       663  0.228306\n",
       "Slovakia      627  0.215909\n",
       "Moldova       495  0.170455\n",
       "Poland        408  0.140496"
      ]
     },
     "metadata": {},
     "output_type": "display_data"
    }
   ],
   "source": [
    "ref_res = pd.DataFrame(ref_preds[['Hungary','Poland','Moldova','Romania','Slovakia']].loc['Ukraine'].sort_values(ascending=False)\\\n",
    "    .round(0).astype(int))\n",
    "ref_res['share'] = ref_res['Ukraine'] / ref_res['Ukraine'].sum()\n",
    "display(ref_res)"
   ]
  },
  {
   "cell_type": "code",
   "execution_count": 29,
   "id": "5c49c612",
   "metadata": {},
   "outputs": [
    {
     "data": {
      "text/html": [
       "<div>\n",
       "<style scoped>\n",
       "    .dataframe tbody tr th:only-of-type {\n",
       "        vertical-align: middle;\n",
       "    }\n",
       "\n",
       "    .dataframe tbody tr th {\n",
       "        vertical-align: top;\n",
       "    }\n",
       "\n",
       "    .dataframe thead th {\n",
       "        text-align: right;\n",
       "    }\n",
       "</style>\n",
       "<table border=\"1\" class=\"dataframe\">\n",
       "  <thead>\n",
       "    <tr style=\"text-align: right;\">\n",
       "      <th></th>\n",
       "      <th>Ukraine</th>\n",
       "      <th>share</th>\n",
       "    </tr>\n",
       "  </thead>\n",
       "  <tbody>\n",
       "    <tr>\n",
       "      <th>Russia</th>\n",
       "      <td>211955</td>\n",
       "      <td>0.250959</td>\n",
       "    </tr>\n",
       "    <tr>\n",
       "      <th>Belarus</th>\n",
       "      <td>183756</td>\n",
       "      <td>0.217571</td>\n",
       "    </tr>\n",
       "    <tr>\n",
       "      <th>Poland</th>\n",
       "      <td>182532</td>\n",
       "      <td>0.216122</td>\n",
       "    </tr>\n",
       "    <tr>\n",
       "      <th>Moldova</th>\n",
       "      <td>170532</td>\n",
       "      <td>0.201914</td>\n",
       "    </tr>\n",
       "    <tr>\n",
       "      <th>Hungary</th>\n",
       "      <td>34464</td>\n",
       "      <td>0.040806</td>\n",
       "    </tr>\n",
       "    <tr>\n",
       "      <th>Romania</th>\n",
       "      <td>31016</td>\n",
       "      <td>0.036724</td>\n",
       "    </tr>\n",
       "    <tr>\n",
       "      <th>Slovakia</th>\n",
       "      <td>30324</td>\n",
       "      <td>0.035904</td>\n",
       "    </tr>\n",
       "  </tbody>\n",
       "</table>\n",
       "</div>"
      ],
      "text/plain": [
       "          Ukraine     share\n",
       "Russia     211955  0.250959\n",
       "Belarus    183756  0.217571\n",
       "Poland     182532  0.216122\n",
       "Moldova    170532  0.201914\n",
       "Hungary     34464  0.040806\n",
       "Romania     31016  0.036724\n",
       "Slovakia    30324  0.035904"
      ]
     },
     "metadata": {},
     "output_type": "display_data"
    }
   ],
   "source": [
    "img_res = pd.DataFrame(img_preds[['Hungary','Poland','Moldova','Romania','Slovakia', 'Russia','Belarus']].loc['Ukraine'].sort_values(ascending=False)\\\n",
    "    .round(0).astype(int))\n",
    "img_res['share'] = img_res['Ukraine'] / img_res['Ukraine'].sum()\n",
    "display(img_res)"
   ]
  },
  {
   "cell_type": "code",
   "execution_count": 30,
   "id": "940332a4",
   "metadata": {},
   "outputs": [
    {
     "name": "stdout",
     "output_type": "stream",
     "text": [
      "Predictions from refugee model\n"
     ]
    },
    {
     "data": {
      "text/html": [
       "<div>\n",
       "<style scoped>\n",
       "    .dataframe tbody tr th:only-of-type {\n",
       "        vertical-align: middle;\n",
       "    }\n",
       "\n",
       "    .dataframe tbody tr th {\n",
       "        vertical-align: top;\n",
       "    }\n",
       "\n",
       "    .dataframe thead th {\n",
       "        text-align: right;\n",
       "    }\n",
       "</style>\n",
       "<table border=\"1\" class=\"dataframe\">\n",
       "  <thead>\n",
       "    <tr style=\"text-align: right;\">\n",
       "      <th></th>\n",
       "      <th>Ukraine</th>\n",
       "      <th>share</th>\n",
       "    </tr>\n",
       "  </thead>\n",
       "  <tbody>\n",
       "    <tr>\n",
       "      <th>Hungary</th>\n",
       "      <td>711</td>\n",
       "      <td>0.244835</td>\n",
       "    </tr>\n",
       "    <tr>\n",
       "      <th>Romania</th>\n",
       "      <td>663</td>\n",
       "      <td>0.228306</td>\n",
       "    </tr>\n",
       "    <tr>\n",
       "      <th>Slovakia</th>\n",
       "      <td>627</td>\n",
       "      <td>0.215909</td>\n",
       "    </tr>\n",
       "    <tr>\n",
       "      <th>Moldova</th>\n",
       "      <td>495</td>\n",
       "      <td>0.170455</td>\n",
       "    </tr>\n",
       "    <tr>\n",
       "      <th>Poland</th>\n",
       "      <td>408</td>\n",
       "      <td>0.140496</td>\n",
       "    </tr>\n",
       "  </tbody>\n",
       "</table>\n",
       "</div>"
      ],
      "text/plain": [
       "          Ukraine     share\n",
       "Hungary       711  0.244835\n",
       "Romania       663  0.228306\n",
       "Slovakia      627  0.215909\n",
       "Moldova       495  0.170455\n",
       "Poland        408  0.140496"
      ]
     },
     "metadata": {},
     "output_type": "display_data"
    },
    {
     "name": "stdout",
     "output_type": "stream",
     "text": [
      "\n",
      "\n",
      "Predictions from immigration model\n"
     ]
    },
    {
     "data": {
      "text/html": [
       "<div>\n",
       "<style scoped>\n",
       "    .dataframe tbody tr th:only-of-type {\n",
       "        vertical-align: middle;\n",
       "    }\n",
       "\n",
       "    .dataframe tbody tr th {\n",
       "        vertical-align: top;\n",
       "    }\n",
       "\n",
       "    .dataframe thead th {\n",
       "        text-align: right;\n",
       "    }\n",
       "</style>\n",
       "<table border=\"1\" class=\"dataframe\">\n",
       "  <thead>\n",
       "    <tr style=\"text-align: right;\">\n",
       "      <th></th>\n",
       "      <th>Ukraine</th>\n",
       "      <th>share</th>\n",
       "    </tr>\n",
       "  </thead>\n",
       "  <tbody>\n",
       "    <tr>\n",
       "      <th>Russia</th>\n",
       "      <td>211955</td>\n",
       "      <td>0.250959</td>\n",
       "    </tr>\n",
       "    <tr>\n",
       "      <th>Belarus</th>\n",
       "      <td>183756</td>\n",
       "      <td>0.217571</td>\n",
       "    </tr>\n",
       "    <tr>\n",
       "      <th>Poland</th>\n",
       "      <td>182532</td>\n",
       "      <td>0.216122</td>\n",
       "    </tr>\n",
       "    <tr>\n",
       "      <th>Moldova</th>\n",
       "      <td>170532</td>\n",
       "      <td>0.201914</td>\n",
       "    </tr>\n",
       "    <tr>\n",
       "      <th>Hungary</th>\n",
       "      <td>34464</td>\n",
       "      <td>0.040806</td>\n",
       "    </tr>\n",
       "    <tr>\n",
       "      <th>Romania</th>\n",
       "      <td>31016</td>\n",
       "      <td>0.036724</td>\n",
       "    </tr>\n",
       "    <tr>\n",
       "      <th>Slovakia</th>\n",
       "      <td>30324</td>\n",
       "      <td>0.035904</td>\n",
       "    </tr>\n",
       "  </tbody>\n",
       "</table>\n",
       "</div>"
      ],
      "text/plain": [
       "          Ukraine     share\n",
       "Russia     211955  0.250959\n",
       "Belarus    183756  0.217571\n",
       "Poland     182532  0.216122\n",
       "Moldova    170532  0.201914\n",
       "Hungary     34464  0.040806\n",
       "Romania     31016  0.036724\n",
       "Slovakia    30324  0.035904"
      ]
     },
     "metadata": {},
     "output_type": "display_data"
    }
   ],
   "source": [
    "print(\"Predictions from refugee model\")\n",
    "display(ref_res)\n",
    "print()\n",
    "print()\n",
    "print(\"Predictions from immigration model\")\n",
    "display(img_res)"
   ]
  },
  {
   "cell_type": "code",
   "execution_count": 31,
   "id": "a7811ad4",
   "metadata": {},
   "outputs": [
    {
     "data": {
      "text/html": [
       "<div>\n",
       "<style scoped>\n",
       "    .dataframe tbody tr th:only-of-type {\n",
       "        vertical-align: middle;\n",
       "    }\n",
       "\n",
       "    .dataframe tbody tr th {\n",
       "        vertical-align: top;\n",
       "    }\n",
       "\n",
       "    .dataframe thead th {\n",
       "        text-align: right;\n",
       "    }\n",
       "</style>\n",
       "<table border=\"1\" class=\"dataframe\">\n",
       "  <thead>\n",
       "    <tr style=\"text-align: right;\">\n",
       "      <th></th>\n",
       "      <th>country</th>\n",
       "      <th>predicted_shares</th>\n",
       "    </tr>\n",
       "  </thead>\n",
       "  <tbody>\n",
       "    <tr>\n",
       "      <th>0</th>\n",
       "      <td>Russia</td>\n",
       "      <td>NaN</td>\n",
       "    </tr>\n",
       "    <tr>\n",
       "      <th>1</th>\n",
       "      <td>Belarus</td>\n",
       "      <td>NaN</td>\n",
       "    </tr>\n",
       "    <tr>\n",
       "      <th>2</th>\n",
       "      <td>Poland</td>\n",
       "      <td>0.178309</td>\n",
       "    </tr>\n",
       "    <tr>\n",
       "      <th>3</th>\n",
       "      <td>Moldova</td>\n",
       "      <td>0.186184</td>\n",
       "    </tr>\n",
       "    <tr>\n",
       "      <th>4</th>\n",
       "      <td>Hungary</td>\n",
       "      <td>0.142820</td>\n",
       "    </tr>\n",
       "    <tr>\n",
       "      <th>5</th>\n",
       "      <td>Romania</td>\n",
       "      <td>0.132515</td>\n",
       "    </tr>\n",
       "    <tr>\n",
       "      <th>6</th>\n",
       "      <td>Slovakia</td>\n",
       "      <td>0.125907</td>\n",
       "    </tr>\n",
       "  </tbody>\n",
       "</table>\n",
       "</div>"
      ],
      "text/plain": [
       "    country  predicted_shares\n",
       "0    Russia               NaN\n",
       "1   Belarus               NaN\n",
       "2    Poland          0.178309\n",
       "3   Moldova          0.186184\n",
       "4   Hungary          0.142820\n",
       "5   Romania          0.132515\n",
       "6  Slovakia          0.125907"
      ]
     },
     "metadata": {},
     "output_type": "display_data"
    }
   ],
   "source": [
    "ukr_results = img_res.join(ref_res, lsuffix='_immig', rsuffix='_ref')\n",
    "ukr_results['predicted_shares'] = (ukr_results.share_immig + ukr_results.share_ref) / 2\n",
    "ukr_results = ukr_results.reset_index().rename(columns={'index':'country'})\n",
    "ukr_results = ukr_results[['country','predicted_shares']]\n",
    "display(ukr_results)"
   ]
  },
  {
   "cell_type": "code",
   "execution_count": 32,
   "id": "ae38eb0a",
   "metadata": {},
   "outputs": [
    {
     "ename": "NameError",
     "evalue": "name 'preds' is not defined",
     "output_type": "error",
     "traceback": [
      "\u001b[0;31m---------------------------------------------------------------------------\u001b[0m",
      "\u001b[0;31mNameError\u001b[0m                                 Traceback (most recent call last)",
      "Input \u001b[0;32mIn [32]\u001b[0m, in \u001b[0;36m<cell line: 1>\u001b[0;34m()\u001b[0m\n\u001b[0;32m----> 1\u001b[0m \u001b[43mpreds\u001b[49m\u001b[38;5;241m.\u001b[39mto_csv(\u001b[38;5;124m'\u001b[39m\u001b[38;5;124m../../MR-QAP-refugees/results.csv\u001b[39m\u001b[38;5;124m'\u001b[39m)\n",
      "\u001b[0;31mNameError\u001b[0m: name 'preds' is not defined"
     ]
    }
   ],
   "source": [
    "preds.to_csv('../../MR-QAP-refugees/results.csv')"
   ]
  },
  {
   "cell_type": "code",
   "execution_count": null,
   "id": "49af2ce5",
   "metadata": {},
   "outputs": [],
   "source": [
    "pd.DataFrame(preds.loc['Ukraine'])"
   ]
  },
  {
   "cell_type": "code",
   "execution_count": null,
   "id": "55154344",
   "metadata": {},
   "outputs": [],
   "source": [
    "df_['year'] = df_['variable'].apply(lambda x: int(x[-4:]))"
   ]
  },
  {
   "cell_type": "code",
   "execution_count": null,
   "id": "47fa09e8",
   "metadata": {},
   "outputs": [],
   "source": [
    "ukr_migrants = df_[(df_['state.origin.name']=='Ukraine')&(df_['year']==2010)].sort_values(by='value',ascending=False)[:20][['state.destination.name','value']]"
   ]
  },
  {
   "cell_type": "code",
   "execution_count": null,
   "id": "2566483c",
   "metadata": {},
   "outputs": [],
   "source": [
    "pd.DataFrame(ukr_migrants.groupby(['state.destination.name']).value.sum()).round().astype(int).sort_values(by='value', ascending=False)"
   ]
  },
  {
   "cell_type": "code",
   "execution_count": null,
   "id": "474bb9c0",
   "metadata": {},
   "outputs": [],
   "source": []
  }
 ],
 "metadata": {
  "kernelspec": {
   "display_name": "Python 3 (ipykernel)",
   "language": "python",
   "name": "python3"
  },
  "language_info": {
   "codemirror_mode": {
    "name": "ipython",
    "version": 3
   },
   "file_extension": ".py",
   "mimetype": "text/x-python",
   "name": "python",
   "nbconvert_exporter": "python",
   "pygments_lexer": "ipython3",
   "version": "3.9.7"
  }
 },
 "nbformat": 4,
 "nbformat_minor": 5
}
