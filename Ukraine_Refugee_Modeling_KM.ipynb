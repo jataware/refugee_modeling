{
 "cells": [
  {
   "cell_type": "code",
   "execution_count": null,
   "id": "34bcac6f",
   "metadata": {
    "scrolled": false
   },
   "outputs": [],
   "source": [
    "import pandas as pd\n",
    "import numpy as np\n",
    "from sklearn import datasets, linear_model\n",
    "from sklearn.metrics import mean_squared_error, r2_score\n",
    "from sklearn.linear_model import LinearRegression\n",
    "from sklearn.preprocessing import MinMaxScaler\n",
    "from fuzzywuzzy import process"
   ]
  },
  {
   "cell_type": "markdown",
   "id": "d52f1e01",
   "metadata": {},
   "source": [
    "Import collected data."
   ]
  },
  {
   "cell_type": "code",
   "execution_count": null,
   "id": "94c92d85",
   "metadata": {
    "scrolled": false
   },
   "outputs": [],
   "source": [
    "# import data\n",
    "data=pd.read_csv('refugee_data/refugee_data_final.csv')\n",
    "data = data[data['country']!='Russian Federation']"
   ]
  },
  {
   "cell_type": "markdown",
   "id": "10005d78",
   "metadata": {},
   "source": [
    " read in and collect liberal democracy index and access to justic for women. "
   ]
  },
  {
   "cell_type": "code",
   "execution_count": null,
   "id": "330f0cb9",
   "metadata": {},
   "outputs": [],
   "source": [
    "country_dem=pd.read_csv('refugee_data/country_dem.csv')\n",
    "data[\"v2x_libdem\"]=None\n",
    "data[\"v2xeg_eqdr\"]=None\n",
    "\n",
    "options=country_dem['country_name'].unique()\n",
    "\n",
    "for kk ,row in data.iterrows():\n",
    "    country,ratio =process.extractOne(row[\"country\"], options)\n",
    "    lib=country_dem.loc[(country_dem[\"country_name\"]==country) & (country_dem[\"year\"]==int(row['conflict_start_year']-1))]['v2x_libdem']\n",
    "    eqdr=country_dem.loc[(country_dem[\"country_name\"]==country) & (country_dem[\"year\"]==int(row['conflict_start_year']-1))]['v2xeg_eqdr']\n",
    "    data.loc[kk,\"v2xeg_eqdr\"]=eqdr.to_list()[0]\n",
    "    data.loc[kk,\"v2x_libdem\"]=lib.to_list()[0]"
   ]
  },
  {
   "cell_type": "code",
   "execution_count": null,
   "id": "4066c08d",
   "metadata": {},
   "outputs": [],
   "source": [
    "data[['v2xeg_eqdr',\"v2x_libdem\",'country',\"conflict_start_year\"]].tail()"
   ]
  },
  {
   "cell_type": "markdown",
   "id": "a3272eef",
   "metadata": {},
   "source": [
    "Read in Historic GDP and get values for haven countries"
   ]
  },
  {
   "cell_type": "code",
   "execution_count": null,
   "id": "0d4902d7",
   "metadata": {},
   "outputs": [],
   "source": [
    "\n",
    "historic_GDP=pd.read_csv('refugee_data/GDP_historic.csv')\n",
    "options=historic_GDP[\"Country Name\"]\n",
    "data['historic_GDP']=None\n",
    "historic_GDP_cols=historic_GDP.columns\n",
    "indexed_GDP_col={}\n",
    "for i,c in enumerate(historic_GDP_cols):\n",
    "    indexed_GDP_col[i]=c\n",
    "\n",
    "for kk ,border in data.iterrows():\n",
    "    \n",
    "    column,ratio_year, year_column_idx = process.extractOne(str(border['conflict_start_year']-1), indexed_GDP_col)\n",
    "    \n",
    "    country,ratio,ind =process.extractOne(border[\"country\"], options)\n",
    "    data.loc[kk,\"historic_GDP\"]=historic_GDP.at[ind,column]"
   ]
  },
  {
   "cell_type": "code",
   "execution_count": null,
   "id": "691fabb2",
   "metadata": {},
   "outputs": [],
   "source": [
    "# if we want to recalc percent total of conflict after dropping Russia...\n",
    "data['pct_tot'] = data['individualPerCountry'] / data.groupby('conflict')['individualPerCountry'].transform('sum')"
   ]
  },
  {
   "cell_type": "code",
   "execution_count": null,
   "id": "661459fd",
   "metadata": {},
   "outputs": [],
   "source": [
    "data['bilateral_migration_percap'] = data['bilateral_migration']/data['population']"
   ]
  },
  {
   "cell_type": "code",
   "execution_count": null,
   "id": "0b643a82",
   "metadata": {},
   "outputs": [],
   "source": [
    "data['gdp_per_cap'] = data['gdp_millions']*1000000/data['population']"
   ]
  },
  {
   "cell_type": "code",
   "execution_count": null,
   "id": "3b3f0460",
   "metadata": {},
   "outputs": [],
   "source": [
    "data['migrants_per_cap'] = data['total_recored_migrants']/data['population']"
   ]
  },
  {
   "cell_type": "code",
   "execution_count": null,
   "id": "4e8f2861",
   "metadata": {},
   "outputs": [],
   "source": [
    "cols_to_scale = ['bilateral_migration','historic_GDP','gdp_millions','population', 'remittances']"
   ]
  },
  {
   "cell_type": "code",
   "execution_count": null,
   "id": "05099a1f",
   "metadata": {
    "scrolled": true
   },
   "outputs": [],
   "source": [
    "scaler = MinMaxScaler()\n",
    "for col in cols_to_scale:\n",
    "    print(col)\n",
    "    normed = pd.DataFrame()\n",
    "    \n",
    "    for y, x in data.groupby('conflict'):\n",
    "        norm_ = [i[0] for i in scaler.fit_transform(x[col].values.reshape(-1,1))]\n",
    "        countries = x['country']\n",
    "        conflict_ = x['conflict']\n",
    "        res = pd.DataFrame(tuple(zip(countries,conflict_,norm_)), columns=['country','conflict',f\"{col}_norm\"])\n",
    "        normed = normed.append(res)\n",
    "    data = pd.merge(data, normed, left_on=['country','conflict'], right_on=['country','conflict'], how='right')"
   ]
  },
  {
   "cell_type": "markdown",
   "id": "b95849f4",
   "metadata": {},
   "source": [
    "Create a dataframe of just Ukraine conflict"
   ]
  },
  {
   "cell_type": "code",
   "execution_count": null,
   "id": "568ea6fe",
   "metadata": {},
   "outputs": [],
   "source": [
    "ukr = data[data['conflict']=='Ukraine']"
   ]
  },
  {
   "cell_type": "markdown",
   "id": "30f690c8",
   "metadata": {},
   "source": [
    "Create a dataframe without Ukraine to train the model"
   ]
  },
  {
   "cell_type": "code",
   "execution_count": null,
   "id": "c0fe40e4",
   "metadata": {},
   "outputs": [],
   "source": [
    "withoutUkrainData=data[(data[\"Ukraine\"]!=1) & (data['touching']==1)]"
   ]
  },
  {
   "cell_type": "markdown",
   "id": "89047f1f",
   "metadata": {},
   "source": [
    "Set dependant variable"
   ]
  },
  {
   "cell_type": "code",
   "execution_count": null,
   "id": "353f1af8",
   "metadata": {
    "scrolled": false
   },
   "outputs": [],
   "source": [
    "y=withoutUkrainData['pct_tot']"
   ]
  },
  {
   "cell_type": "markdown",
   "id": "bd181f0d",
   "metadata": {},
   "source": [
    "Set independant variables \n"
   ]
  },
  {
   "cell_type": "code",
   "execution_count": null,
   "id": "975bc6d5",
   "metadata": {
    "scrolled": false
   },
   "outputs": [],
   "source": [
    "features_cols = [\n",
    "                    'historic_GDP_norm', \n",
    "                    'v2x_libdem',\n",
    "]\n",
    "features_normalized = withoutUkrainData[features_cols]"
   ]
  },
  {
   "cell_type": "code",
   "execution_count": null,
   "id": "cc2c88d2",
   "metadata": {},
   "outputs": [],
   "source": [
    "Run the linear regression."
   ]
  },
  {
   "cell_type": "code",
   "execution_count": null,
   "id": "1068d92e",
   "metadata": {
    "scrolled": false
   },
   "outputs": [],
   "source": [
    "# Run the linear regression. \n",
    "import statsmodels.api as sm"
   ]
  },
  {
   "cell_type": "code",
   "execution_count": null,
   "id": "5d7e76ed",
   "metadata": {
    "scrolled": false
   },
   "outputs": [],
   "source": [
    "results=sm.OLS(y,features_normalized.astype(float)).fit()"
   ]
  },
  {
   "cell_type": "code",
   "execution_count": null,
   "id": "35302dec",
   "metadata": {
    "scrolled": false
   },
   "outputs": [],
   "source": [
    "results.summary()"
   ]
  },
  {
   "cell_type": "code",
   "execution_count": null,
   "id": "7bded091",
   "metadata": {},
   "outputs": [],
   "source": [
    "features_to_predict=data[features_cols]\n",
    "shares = results.predict(features_to_predict)\n",
    "data['predicted_shares'] = shares\n",
    "ukr_results = data[data['Ukraine']==1][['country','pct_tot','predicted_shares']]\n",
    "ukr_results.to_csv('outputs/ukraine_model_results.csv',index=False)"
   ]
  },
  {
   "cell_type": "code",
   "execution_count": null,
   "id": "cbb24895",
   "metadata": {},
   "outputs": [],
   "source": [
    "ukr_results"
   ]
  },
  {
   "cell_type": "code",
   "execution_count": null,
   "id": "4d313bf3",
   "metadata": {},
   "outputs": [],
   "source": [
    "results.save(\"refugee_model_results2.pickle\")"
   ]
  },
  {
   "cell_type": "markdown",
   "id": "b32b54d5",
   "metadata": {},
   "source": [
    "# Run with Ukraine"
   ]
  },
  {
   "cell_type": "code",
   "execution_count": null,
   "id": "386952da",
   "metadata": {},
   "outputs": [],
   "source": [
    "withUkrainData=data[data['touching']==1]\n",
    "y=withUkrainData['pct_tot']"
   ]
  },
  {
   "cell_type": "code",
   "execution_count": null,
   "id": "46325389",
   "metadata": {},
   "outputs": [],
   "source": [
    "features_cols = [\n",
    "                    'historic_GDP_norm', \n",
    "                    'v2x_libdem',\n",
    "]\n",
    "features_normalized = withUkrainData[features_cols]"
   ]
  },
  {
   "cell_type": "code",
   "execution_count": null,
   "id": "d57d2376",
   "metadata": {},
   "outputs": [],
   "source": [
    "results_WU=sm.OLS(y,features_normalized.astype(float)).fit()"
   ]
  },
  {
   "cell_type": "code",
   "execution_count": null,
   "id": "6a129e68",
   "metadata": {},
   "outputs": [],
   "source": [
    "results_WU.summary()"
   ]
  },
  {
   "cell_type": "code",
   "execution_count": null,
   "id": "9a315fbd",
   "metadata": {},
   "outputs": [],
   "source": [
    "features_to_predict=data[features_cols]\n",
    "shares = results_WU.predict(features_to_predict)\n",
    "data['predicted_shares'] = shares\n",
    "ukr_results_WU = data[data['Ukraine']==1][['country','pct_tot','predicted_shares']]\n",
    "ukr_results_WU.to_csv('outputs/ukraine_model_results_WU.csv',index=False)"
   ]
  },
  {
   "cell_type": "code",
   "execution_count": null,
   "id": "d50f4936",
   "metadata": {},
   "outputs": [],
   "source": [
    "ukr_results_WU"
   ]
  }
 ],
 "metadata": {
  "kernelspec": {
   "display_name": "Python 3",
   "language": "python",
   "name": "python3"
  },
  "language_info": {
   "codemirror_mode": {
    "name": "ipython",
    "version": 3
   },
   "file_extension": ".py",
   "mimetype": "text/x-python",
   "name": "python",
   "nbconvert_exporter": "python",
   "pygments_lexer": "ipython3",
   "version": "3.8.2"
  }
 },
 "nbformat": 4,
 "nbformat_minor": 5
}
